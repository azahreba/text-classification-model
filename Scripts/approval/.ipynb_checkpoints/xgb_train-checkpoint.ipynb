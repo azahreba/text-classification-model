{
 "cells": [
  {
   "cell_type": "code",
   "execution_count": 2,
   "metadata": {
    "collapsed": false
   },
   "outputs": [
    {
     "name": "stderr",
     "output_type": "stream",
     "text": [
      "C:\\Users\\Artur_Zahreba\\AppData\\Local\\Continuum\\Anaconda2\\lib\\site-packages\\gensim\\utils.py:860: UserWarning: detected Windows; aliasing chunkize to chunkize_serial\n",
      "  warnings.warn(\"detected Windows; aliasing chunkize to chunkize_serial\")\n"
     ]
    }
   ],
   "source": [
    "from __future__ import print_function\n",
    "import re\n",
    "import pandas as pd\n",
    "import numpy as np\n",
    "from os import listdir\n",
    "from collections import Counter\n",
    "from bs4 import BeautifulSoup\n",
    "import sklearn\n",
    "import xgboost as xgb\n",
    "import nltk\n",
    "from sklearn.model_selection import train_test_split\n",
    "from sklearn.externals import joblib\n",
    "\n",
    "import math \n",
    "import gensim\n",
    "\n",
    "import pickle\n",
    "\n",
    "from string import punctuation\n",
    "from nltk.corpus import stopwords\n",
    "\n",
    "from nltk.stem.snowball import SnowballStemmer\n",
    "from nltk.tokenize import RegexpTokenizer"
   ]
  },
  {
   "cell_type": "code",
   "execution_count": 3,
   "metadata": {
    "collapsed": true
   },
   "outputs": [],
   "source": [
    "stemmer = SnowballStemmer(language='english', ignore_stopwords=True)\n",
    "# tokenizer = RegexpTokenizer(r'[a-z\\d]{2,}')\n",
    "tokenizer = RegexpTokenizer(r'\\s+', gaps=True)"
   ]
  },
  {
   "cell_type": "markdown",
   "metadata": {},
   "source": [
    "## Get Texts"
   ]
  },
  {
   "cell_type": "code",
   "execution_count": 4,
   "metadata": {
    "collapsed": true
   },
   "outputs": [],
   "source": [
    "doc_path = r'C:\\Users\\Artur_Zahreba\\Desktop\\WorkFusion\\P&G\\Approval By Email\\Training Set\\v5\\Training Set\\ALL_FIXED'"
   ]
  },
  {
   "cell_type": "code",
   "execution_count": 5,
   "metadata": {
    "collapsed": false
   },
   "outputs": [
    {
     "name": "stdout",
     "output_type": "stream",
     "text": [
      "737\n"
     ]
    }
   ],
   "source": [
    "doc_types = sorted(listdir(doc_path))\n",
    "\n",
    "doc_texts = []\n",
    "\n",
    "for doc_type in doc_types:\n",
    "    filenames = sorted(listdir(doc_path + '\\\\' + doc_type))\n",
    "    filenames = filter(lambda x: re.search(r'\\.txt$', x), filenames)\n",
    "    for filename in filenames:\n",
    "        with open(doc_path + '\\\\' + doc_type + '\\\\' + filename, 'r') as ffile:\n",
    "            txt = ffile.read()\n",
    "            doc_texts.append((doc_type, filename, txt))\n",
    "            ffile.close()\n",
    "            \n",
    "print(len(doc_texts))"
   ]
  },
  {
   "cell_type": "code",
   "execution_count": 6,
   "metadata": {
    "collapsed": false
   },
   "outputs": [],
   "source": [
    "lables, _, texts = zip(*doc_texts)"
   ]
  },
  {
   "cell_type": "code",
   "execution_count": 7,
   "metadata": {
    "collapsed": false
   },
   "outputs": [
    {
     "data": {
      "text/plain": [
       "u'from: liang, anna sent: wed may 10:05:28 cest to: chia, ian; nino, daisyanne; onetravelretail, ion; muthuraman, alagammai cc: tan, herwen; neo, joyce; eunice, chiam subject: : [approval] nro - kingpower tester request approve anna : chia, ian : 16:00 : nino, daisyanne <nino.d@pg.com>; onetravelretail, ion <onetravelretail.im@pg.com>; muthuraman, alagammai <muthuraman.am@pg.com> : tan, herwen <tan.hw@pg.com>; neo, joyce <neo.j.1@pg.com>; liang, anna <liang.an.2@pg.com>; eunice, chiam <eunice.ec@pg.com> : re: [approval] nro - kingpower tester request hi anna, please approve attached nro. hi daisy, thanks! thank you! ian the metropolis, north buona vista drive, #21-07, the metropolis tower 2, singapore ooo date: 12 may 2017, please expect delayed response on enquiries and emails. all decisions on pricing, promotion, distribution, assortment and shelving are at the sole discretion of the retailer. this electronic message transmission contains information which may be confidential. the information is intended for the use of the individual or entity named above. if you are not the intended recipient, and have received this electronic transmission in error, please notify sender then delete immediately. from: nino, daisyanne sent: wednesday, may 17, 3:59 pm to: chia, ian <chia.ic@pg.com <mailto:chia.ic@pg.com> >; onetravelretail, ion <onetravelretail.im@pg.com <mailto:onetravelretail.im@pg.com> >; muthuraman, alagammai <muthuraman.am@pg.com <mailto:muthuraman.am@pg.com> > cc: tan, herwen <tan.hw@pg.com <mailto:tan.hw@pg.com> >; neo, joyce <neo.j.1@pg.com <mailto:neo.j.1@pg.com> >; liang, anna <liang.an.2@pg.com <mailto:liang.an.2@pg.com> >; eunice, chiam <eunice.ec@pg.com <mailto:eunice.ec@pg.com> > subject: re: [approval] nro - kingpower tester request hi ian, ok to proceed. thanks. ean code product description quantity gcas stock facial treatment essence 250ml 82248444 ok facial treatment essence 330ml 82248447 ok facial treatment essence 160ml 82252508 ok skii facial treatment oil 50ml rg 82249908 ok facial treatment repair c 30ml 82247476 ok sk-ii facial treatment clear lotion 230ml 82247369 ok sk2 wh atmos airy lgt uv emulsion 30g 82246038 ok sk2 wh atmos cc cream uv 30g 82243755 ok mid-day miracle essence 50ml 82247497 ok cellumination deep surge ex 50g 82250048 ok r.n.a.power radical new age cream 100g 82248646 ok r.n.a.power radical new age essence 50ml 82248649 ok r.n.a.power radical new age essence 75ml 82248670 ok rna eye cream 15g 82249240 ok best regards, daisy anne g. nio (daisy) global sk-ii tr procter & gamble intl operations sa sg branch t: +65 4022 | nino.d@pg.com <mailto:nino.d@pg.com> upcoming ooo: from: chia, ian sent: wednesday, may 17, 3:47 pm to: nino, daisyanne <nino.d@pg.com <mailto:nino.d@pg.com> >; onetravelretail, ion <onetravelretail.im@pg.com <mailto:onetravelretail.im@pg.com> >; muthuraman, alagammai <muthuraman.am@pg.com <mailto:muthuraman.am@pg.com> > cc: tan, herwen <tan.hw@pg.com <mailto:tan.hw@pg.com> >; neo, joyce <neo.j.1@pg.com <mailto:neo.j.1@pg.com> >; liang, anna <liang.an.2@pg.com <mailto:liang.an.2@pg.com> >; eunice, chiam <eunice.ec@pg.com <mailto:eunice.ec@pg.com> > subject: re: [approval] nro - kingpower tester request hi daisy, ive edited the nro. please kindly approve. thank you! ian the metropolis, north buona vista drive, #21-07, the metropolis tower 2, singapore ooo date: 12 may 2017, please expect delayed response on enquiries and emails. all decisions on pricing, promotion, distribution, assortment and shelving are at the sole discretion of the retailer. this electronic message transmission contains information which may be confidential. the information is intended for the use of the individual or entity named above. if you are not the intended recipient, and have received this electronic transmission in error, please notify sender then delete immediately. from: nino, daisyanne sent: wednesday, may 17, 1:54 pm to: chia, ian <chia.ic@pg.com <mailto:chia.ic@pg.com> >; onetravelretail, ion <onetravelretail.im@pg.com <mailto:onetravelretail.im@pg.com> >; muthuraman, alagammai <muthuraman.am@pg.com <mailto:muthuraman.am@pg.com> > cc: tan, herwen <tan.hw@pg.com <mailto:tan.hw@pg.com> >; neo, joyce <neo.j.1@pg.com <mailto:neo.j.1@pg.com> >; liang, anna <liang.an.2@pg.com <mailto:liang.an.2@pg.com> >; eunice, chiam <eunice.ec@pg.com <mailto:eunice.ec@pg.com> > subject: re: [approval] nro - kingpower tester request hi ian, ok to proceed except for the last items. thanks ahead. ean code product description quantity gcas stock facial treatment essence 250ml 82248444 ok facial treatment essence 330ml 82248447 ok facial treatment essence 160ml 82252508 ok skii facial treatment oil 50ml rg 82249908 ok facial treatment repair c 30ml 82247476 ok sk-ii facial treatment clear lotion 230ml 82247369 ok sk2 wh atmos airy lgt uv emulsion 30g 82246038 ok sk2 wh atmos cc cream uv 30g 82243755 ok mid-day miracle essence 50ml 82247497 ok cellumination deep surge ex 50g 82250048 ok r.n.a.power radical new age cream 100g 82248646 ok r.n.a.power radical new age essence 50ml 82248649 ok r.n.a.power radical new age essence 75ml 82248670 ok rna eye cream 15g 82249240 ok genoptics aura ess 50ml 82251846 not ok genoptics aura ess 75ml 82251848 not ok genoptics spot ess 50ml 82250697 not ok genoptics spot ess 75ml 82250698 not ok best regards, daisy anne g. nio (daisy) global sk-ii tr procter & gamble intl operations sa sg branch t: +65 4022 | nino.d@pg.com <mailto:nino.d@pg.com> upcoming ooo: from: chia, ian sent: wednesday, may 17, 11:06 am to: onetravelretail, ion <onetravelretail.im@pg.com <mailto:onetravelretail.im@pg.com> >; muthuraman, alagammai <muthuraman.am@pg.com <mailto:muthuraman.am@pg.com> >; nino, daisyanne <nino.d@pg.com <mailto:nino.d@pg.com> > cc: tan, herwen <tan.hw@pg.com <mailto:tan.hw@pg.com> >; neo, joyce <neo.j.1@pg.com <mailto:neo.j.1@pg.com> >; liang, anna <liang.an.2@pg.com <mailto:liang.an.2@pg.com> >; eunice, chiam <eunice.ec@pg.com <mailto:eunice.ec@pg.com> > subject: re: [approval] nro - kingpower tester request hi daisy & ala, please approve attached nro for kingpower tester if stock is available. thank you! ian the metropolis, north buona vista drive, #21-07, the metropolis tower 2, singapore ooo date: 12 may 2017, please expect delayed response on enquiries and emails. all decisions on pricing, promotion, distribution, assortment and shelving are at the sole discretion of the retailer. this electronic message transmission contains information which may be confidential. the information is intended for the use of the individual or entity named above. if you are not the intended recipient, and have received this electronic transmission in error, please notify sender then delete immediately. from: lu, darryl on behalf of onetravelretail, ion sent: tuesday, may 16, 5:20 pm to: chia, ian <chia.ic@pg.com <mailto:chia.ic@pg.com> >; onetravelretail, ion <onetravelretail.im@pg.com <mailto:onetravelretail.im@pg.com> >; muthuraman, alagammai <muthuraman.am@pg.com <mailto:muthuraman.am@pg.com> >; nino, daisyanne <nino.d@pg.com <mailto:nino.d@pg.com> > cc: tan, herwen <tan.hw@pg.com <mailto:tan.hw@pg.com> >; neo, joyce <neo.j.1@pg.com <mailto:neo.j.1@pg.com> >; liang, anna <liang.an.2@pg.com <mailto:liang.an.2@pg.com> >; eunice, chiam <eunice.ec@pg.com <mailto:eunice.ec@pg.com> > subject: re: [approval] nro - kingpower tester request dear all, order on hold pending supply approval. thanks best regards, darryl lu (om analyst - customer service operation) p&g europe sa sg branch email: lu.d.6@pg.com <mailto:ng.e.11@pg.com> this electronic message transmission contains information which may be confidential. the information is intended for the use of the individual or entity named above. if you are not the intended recipient, and have received this electronic transmission in error, please notify sender then delete immediately. from: chia, ian sent: monday, may 15, 11:48 am to: onetravelretail, ion <onetravelretail.im@pg.com <mailto:onetravelretail.im@pg.com> >; muthuraman, alagammai <muthuraman.am@pg.com <mailto:muthuraman.am@pg.com> >; nino, daisyanne <nino.d@pg.com <mailto:nino.d@pg.com> > cc: tan, herwen <tan.hw@pg.com <mailto:tan.hw@pg.com> >; neo, joyce <neo.j.1@pg.com <mailto:neo.j.1@pg.com> >; liang, anna <liang.an.2@pg.com <mailto:liang.an.2@pg.com> >; eunice, chiam <eunice.ec@pg.com <mailto:eunice.ec@pg.com> > subject: re: [approval] nro - kingpower tester request hi ala & daisy, please approve attached nro is stock is available. hi om, please proceed with nro once approval from supply is granted. thank you! ian the metropolis, north buona vista drive, #21-07, the metropolis tower 2, singapore ooo date: 12 may 2017, please expect delayed response on enquiries and emails. all decisions on pricing, promotion, distribution, assortment and shelving are at the sole discretion of the retailer. this electronic message transmission contains information which may be confidential. the information is intended for the use of the individual or entity named above. if you are not the intended recipient, and have received this electronic transmission in error, please notify sender then delete immediately. from: lu, darryl on behalf of onetravelretail, ion sent: monday, may 15, 11:43 am to: chia, ian <chia.ic@pg.com <mailto:chia.ic@pg.com> >; liang, anna <liang.an.2@pg.com <mailto:liang.an.2@pg.com> >; eunice, chiam <eunice.ec@pg.com <mailto:eunice.ec@pg.com> > cc: tan, herwen <tan.hw@pg.com <mailto:tan.hw@pg.com> >; onetravelretail, ion <onetravelretail.im@pg.com <mailto:onetravelretail.im@pg.com> >; neo, joyce <neo.j.1@pg.com <mailto:neo.j.1@pg.com> > subject: re: [approval] nro - kingpower tester request hi ian, as the order consist more than it in a single line. please obtain supply check. order on hold. thanks best regards, darryl lu (om analyst - customer service operation) p&g europe sa sg branch email: lu.d.6@pg.com <mailto:ng.e.11@pg.com> this electronic message transmission contains information which may be confidential. the information is intended for the use of the individual or entity named above. if you are not the intended recipient, and have received this electronic transmission in error, please notify sender then delete immediately. from: chia, ian sent: monday, may 15, 9:31 am to: liang, anna <liang.an.2@pg.com <mailto:liang.an.2@pg.com> >; eunice, chiam <eunice.ec@pg.com <mailto:eunice.ec@pg.com> > cc: tan, herwen <tan.hw@pg.com <mailto:tan.hw@pg.com> >; onetravelretail, ion <onetravelretail.im@pg.com <mailto:onetravelretail.im@pg.com> >; tidaras pholsith <tidarasp@gmail.com <mailto:tidarasp@gmail.com> >; neo, joyce <neo.j.1@pg.com <mailto:neo.j.1@pg.com> > subject: re: [approval] nro - kingpower tester request hi om, please process attached nro. thank you! ian the metropolis, north buona vista drive, #21-07, the metropolis tower 2, singapore ooo date: 12 may 2017, please expect delayed response on enquiries and emails. all decisions on pricing, promotion, distribution, assortment and shelving are at the sole discretion of the retailer. this electronic message transmission contains information which may be confidential. the information is intended for the use of the individual or entity named above. if you are not the intended recipient, and have received this electronic transmission in error, please notify sender then delete immediately. from: liang, anna sent: sunday, may 14, 8:04 pm to: eunice, chiam <eunice.ec@pg.com <mailto:eunice.ec@pg.com> > cc: tan, herwen <tan.hw@pg.com <mailto:tan.hw@pg.com> >; onetravelretail, ion <onetravelretail.im@pg.com <mailto:onetravelretail.im@pg.com> >; tidaras pholsith <tidarasp@gmail.com <mailto:tidarasp@gmail.com> >; neo, joyce <neo.j.1@pg.com <mailto:neo.j.1@pg.com> >; chia, ian <chia.ic@pg.com <mailto:chia.ic@pg.com> > subject: : [approval] nro - kingpower tester request approve anna : eunice, chiam : 19:41 : liang, anna <liang.an.2@pg.com <mailto:liang.an.2@pg.com> > : tan, herwen <tan.hw@pg.com <mailto:tan.hw@pg.com> >; onetravelretail, ion <onetravelretail.im@pg.com <mailto:onetravelretail.im@pg.com> >; tidaras pholsith <tidarasp@gmail.com <mailto:tidarasp@gmail.com> >; neo, joyce <neo.j.1@pg.com <mailto:neo.j.1@pg.com> >; chia, ian <chia.ic@pg.com <mailto:chia.ic@pg.com> > : [approval] nro - kingpower tester request hi anna please provide approval for kingpower tester request. hi tidaras moving forward please send your request to ian in cc. also please take note to input customer as kingpower when sending over the nro also. ive revised for you this time. regards eunice the metropolis, north buona vista drive, #21-07, the metropolis tower 2, singapore all decisions on pricing, promotion, distribution, assortment and shelving are at the sole discretion of the retailer. this electronic message transmission contains information which may be confidential. the information is intended for the use of the individual or entity named above. if you are not the intended recipient, and have received this electronic transmission in error, please notify sender then delete immediately. from: tidaras pholsith [mailto:tidarasp@gmail.com <mailto:tidarasp@gmail.com> ] sent: friday, may 12, 12:10 am to: neo, joyce <neo.j.1@pg.com <mailto:neo.j.1@pg.com> > cc: tan, herwen <tan.hw@pg.com <mailto:tan.hw@pg.com> >; onetravelretail, ion <onetravelretail.im@pg.com <mailto:onetravelretail.im@pg.com> >; eunice, chiam <eunice.ec@pg.com <mailto:eunice.ec@pg.com> > subject: re: tester request dear all, i would like to refer for our buyer advised for kp tester below. ----------------------------------------------------------------------- -------------------------------------------------------------- dear her wen, i would like to inform you that you can ship tester now, but there is special instructions for tester shipment which are 1. awb for tester shipment has to be issued separately with other shipments. if you would like to ship tester together with sellable, please make sure that awb of tester will be issued separately or you can ship tester alone now. 2. all tester products must have fda number. the above instructions are applied now and we would like to seek your kind cooperation to strictly follow. if you have any question, please feel free to let me know. thank you. best regards, nichamon punnamech buyer merchandising department ___________________________________ best regards, tidaras pholsith (aeh) +6686-7735666 fss of sk-ii thailand on thu, may 11, at 11:02 pm, tidaras pholsith <tidarasp@gmail.com <mailto:tidarasp@gmail.com> > wrote: dear joyce, please consider for tester request from kp pcs. best regards, tidaras pholsith (aeh) +6686-7735666 fss of sk-ii thailand'"
      ]
     },
     "execution_count": 7,
     "metadata": {},
     "output_type": "execute_result"
    }
   ],
   "source": [
    "lables = list(lables)\n",
    "texts = map(lambda x: stemmer.stem(x), texts)\n",
    "texts = map(lambda x: tokenizer.tokenize(x), texts)\n",
    "texts = map(lambda x: re.sub(r'\\s\\d+\\s', ' ', ' '.join(x)), texts)\n",
    "texts[0]"
   ]
  },
  {
   "cell_type": "code",
   "execution_count": 8,
   "metadata": {
    "collapsed": false
   },
   "outputs": [
    {
     "data": {
      "text/plain": [
       "{'Approved': 1, 'Other': 0}"
      ]
     },
     "execution_count": 8,
     "metadata": {},
     "output_type": "execute_result"
    }
   ],
   "source": [
    "lable_dict = dict(zip(list(set(lables)), range(len(set(lables)))))\n",
    "lable_dict"
   ]
  },
  {
   "cell_type": "code",
   "execution_count": 9,
   "metadata": {
    "collapsed": false
   },
   "outputs": [
    {
     "name": "stdout",
     "output_type": "stream",
     "text": [
      "Number of classes: 2\n",
      "{0: 'Other', 1: 'Approved'}\n"
     ]
    }
   ],
   "source": [
    "inv_lable_dict = dict(zip(lable_dict.values(), lable_dict.keys()))\n",
    "print('Number of classes:', len(inv_lable_dict))\n",
    "print(inv_lable_dict)"
   ]
  },
  {
   "cell_type": "code",
   "execution_count": 10,
   "metadata": {
    "collapsed": false
   },
   "outputs": [],
   "source": [
    "lables_int = map(lambda x: lable_dict[x], lables)"
   ]
  },
  {
   "cell_type": "markdown",
   "metadata": {},
   "source": [
    "## Vectorize and Split"
   ]
  },
  {
   "cell_type": "code",
   "execution_count": 11,
   "metadata": {
    "collapsed": true
   },
   "outputs": [],
   "source": [
    "train_ind, test_ind = train_test_split(range(len(texts)), test_size = 0.2, random_state=42)"
   ]
  },
  {
   "cell_type": "code",
   "execution_count": 12,
   "metadata": {
    "collapsed": true
   },
   "outputs": [],
   "source": [
    "X = np.array(texts)\n",
    "y = np.array(lables_int)\n",
    "\n",
    "X_train = X[train_ind]\n",
    "X_test = X[test_ind]\n",
    "y_train = y[train_ind]\n",
    "y_test = y[test_ind]"
   ]
  },
  {
   "cell_type": "code",
   "execution_count": 13,
   "metadata": {
    "collapsed": false
   },
   "outputs": [
    {
     "data": {
      "text/plain": [
       "TfidfVectorizer(analyzer=u'word', binary=False, decode_error=u'strict',\n",
       "        dtype=<type 'numpy.int64'>, encoding=u'utf-8', input=u'content',\n",
       "        lowercase=True, max_df=0.9, max_features=None, min_df=0.3,\n",
       "        ngram_range=(1, 2), norm=u'l2', preprocessor=None, smooth_idf=True,\n",
       "        stop_words='english', strip_accents='unicode', sublinear_tf=False,\n",
       "        token_pattern='[a-z\\\\d]{2,}', tokenizer=None, use_idf=True,\n",
       "        vocabulary=None)"
      ]
     },
     "execution_count": 13,
     "metadata": {},
     "output_type": "execute_result"
    }
   ],
   "source": [
    "vectorizer = sklearn.feature_extraction.text.TfidfVectorizer(sublinear_tf=False, max_df=0.9, min_df=0.3, use_idf=True, \n",
    "                                                             stop_words=\"english\", lowercase=True, max_features=None,\n",
    "                                                             strip_accents='unicode', ngram_range=(1,2), norm=u'l2',\n",
    "                                                             smooth_idf=True, token_pattern=r'[a-z\\d]{2,}')\n",
    "vectorizer.fit(X_train)"
   ]
  },
  {
   "cell_type": "code",
   "execution_count": 14,
   "metadata": {
    "collapsed": true
   },
   "outputs": [],
   "source": [
    "pickle.dump(vectorizer, open(r\"vectorizers\\tfidf\\vectorizer2.pk\", \"wb\" ))"
   ]
  },
  {
   "cell_type": "code",
   "execution_count": 15,
   "metadata": {
    "collapsed": true
   },
   "outputs": [],
   "source": [
    "X_train = vectorizer.transform(X_train)\n",
    "X_test =  vectorizer.transform(X_test)"
   ]
  },
  {
   "cell_type": "code",
   "execution_count": 17,
   "metadata": {
    "collapsed": false,
    "scrolled": true
   },
   "outputs": [
    {
     "name": "stdout",
     "output_type": "stream",
     "text": [
      "(589, 201)\n",
      "Counter({0: 472, 1: 117})\n"
     ]
    }
   ],
   "source": [
    "print(X_train.shape)\n",
    "print(Counter(y_train))"
   ]
  },
  {
   "cell_type": "code",
   "execution_count": 18,
   "metadata": {
    "collapsed": false
   },
   "outputs": [
    {
     "name": "stdout",
     "output_type": "stream",
     "text": [
      "(148, 201)\n",
      "Counter({0: 114, 1: 34})\n"
     ]
    }
   ],
   "source": [
    "print(X_test.shape)\n",
    "print(Counter(y_test))"
   ]
  },
  {
   "cell_type": "code",
   "execution_count": 17,
   "metadata": {
    "collapsed": true
   },
   "outputs": [],
   "source": [
    "D_train = xgb.DMatrix(X_train, label = y_train)\n",
    "D_test = xgb.DMatrix(X_test, label = y_test)"
   ]
  },
  {
   "cell_type": "markdown",
   "metadata": {},
   "source": [
    "## Parameters"
   ]
  },
  {
   "cell_type": "code",
   "execution_count": 18,
   "metadata": {
    "collapsed": true
   },
   "outputs": [],
   "source": [
    "param = {}\n",
    "\n",
    "param['nthread'] = 4 # number of parallel threads\n",
    "param ['booster'] = 'gbtree' # tree based model\n",
    "\n",
    "param['eta'] = 0.3 # step size shrinkage used in update to prevent overfitting.\n",
    "# Range [0, 1], default 0.3\n",
    "# If overfitting observed, reduce stepsize eta and increase nround at the same time\n",
    "\n",
    "num_round = 200"
   ]
  },
  {
   "cell_type": "code",
   "execution_count": 19,
   "metadata": {
    "collapsed": true
   },
   "outputs": [],
   "source": [
    "# Controlling the model complexity\n",
    "param['gamma'] = 0.2 # minimum loss reduction required to make a split, contolling a number of trees.\n",
    "# Range [0, infinity], default 0 - no control\n",
    "\n",
    "param['max_depth'] = 2 # maximum depth of a tree\n",
    "# Range [1, infinity], default 6\n",
    "\n",
    "param['min_child_weight'] = 1.0 # minimum sum of instance weight needed in a child\n",
    "# Range [0, infinity], default 1\n",
    "\n",
    "# param['max_delta_step'] = 10 # maximum delta step we allow each tree's weight estimation to be, helps for convergence, care about the right probability\n",
    "# Range [0, infinity], default 0 - no control"
   ]
  },
  {
   "cell_type": "code",
   "execution_count": 20,
   "metadata": {
    "collapsed": true
   },
   "outputs": [],
   "source": [
    "# Robust to noize\n",
    "param['subsample'] = 0.5 # subsample ratio of the training instance\n",
    "# Range (0, 1], default 1\n",
    "\n",
    "param['colsample_bytree'] = 0.5 # subsample ratio of columns when constructing each tree\n",
    "# Range (0, 1], default 1\n",
    "\n",
    "param['colsample_bylevel'] = 0.5"
   ]
  },
  {
   "cell_type": "code",
   "execution_count": 21,
   "metadata": {
    "collapsed": true
   },
   "outputs": [],
   "source": [
    "# For Linear Booster\n",
    "param['lambda'] = 5.0 # L2 regularization term on weights\n",
    "# Default 0\n",
    "\n",
    "param['alpha'] = 0.0 # L1 regularization term on weights\n",
    "# Default 0\n",
    "\n",
    "# param['lambda_bias'] = 0 # L2 regularization bias\n",
    "# Default 0"
   ]
  },
  {
   "cell_type": "code",
   "execution_count": 22,
   "metadata": {
    "collapsed": true
   },
   "outputs": [],
   "source": [
    "# Objectives\n",
    "# param['objective'] = 'binary:logistic' # logistic regression for binary classification, output probability\n",
    "param['objective'] = 'multi:softmax' # multiclass classification using the softmax objective, need to specify num_class\n",
    "# Default \"reg:linear\"\n",
    "\n",
    "param['num_class'] = len(lable_dict)"
   ]
  },
  {
   "cell_type": "code",
   "execution_count": 23,
   "metadata": {
    "collapsed": true
   },
   "outputs": [],
   "source": [
    "# Balance the positive and negative weights\n",
    "param['scale_pos_weight'] = 1.0 * (y_train.shape[0] - y_train.sum()) / (y_train.sum() + 1)\n",
    "\n",
    "#Evaluation Metric\n",
    "# param['eval_metric'] = 'merror'\n",
    "param['eval_metric'] = 'auc' # only care about ranking order\n",
    "# Options: 'rmse', 'logloss', 'error', 'auc', 'merror', 'mlogloss'\n",
    "\n",
    "param['silent'] = 0\n",
    "\n",
    "# param['one_drop'] = 1\n",
    "# param['rate_drop'] =  0.2\n",
    "param['updater'] = 'grow_histmaker,refresh'\n",
    "# param['sample_type'] =  \"weighted\"\n",
    "# param['normalize_type'] = \"forest\"\n"
   ]
  },
  {
   "cell_type": "markdown",
   "metadata": {},
   "source": [
    "## Training"
   ]
  },
  {
   "cell_type": "code",
   "execution_count": null,
   "metadata": {
    "collapsed": false
   },
   "outputs": [],
   "source": [
    "watchlist  = [(D_test, 'eval'), (D_train,'eval')]\n",
    "bst = xgb.train(param, D_train, num_round, watchlist)"
   ]
  },
  {
   "cell_type": "code",
   "execution_count": 72,
   "metadata": {
    "collapsed": false
   },
   "outputs": [
    {
     "name": "stdout",
     "output_type": "stream",
     "text": [
      "0.878378378378\n"
     ]
    }
   ],
   "source": [
    "xxx = bst.predict(D_test)\n",
    "\n",
    "accuracy = 1.0 * map(lambda x,y: 1 if x == y else 0, y_test, xxx).count(1) / len(y_test)\n",
    "print(accuracy)"
   ]
  },
  {
   "cell_type": "code",
   "execution_count": 73,
   "metadata": {
    "collapsed": false
   },
   "outputs": [],
   "source": [
    "bst.save_model(r'models\\xgb\\2classes_xgb_tfidf_v1.model')"
   ]
  },
  {
   "cell_type": "code",
   "execution_count": 76,
   "metadata": {
    "collapsed": false
   },
   "outputs": [
    {
     "ename": "ExecutableNotFound",
     "evalue": "failed to execute ['dot', '-Tpng'], make sure the Graphviz executables are on your systems' PATH",
     "output_type": "error",
     "traceback": [
      "\u001b[0;31m---------------------------------------------------------------------------\u001b[0m",
      "\u001b[0;31mExecutableNotFound\u001b[0m                        Traceback (most recent call last)",
      "\u001b[0;32m<ipython-input-76-1db0b94ec7db>\u001b[0m in \u001b[0;36m<module>\u001b[0;34m()\u001b[0m\n\u001b[1;32m      3\u001b[0m \u001b[1;33m\u001b[0m\u001b[0m\n\u001b[1;32m      4\u001b[0m \u001b[0mxgb\u001b[0m\u001b[1;33m.\u001b[0m\u001b[0mplot_importance\u001b[0m\u001b[1;33m(\u001b[0m\u001b[0mbst\u001b[0m\u001b[1;33m)\u001b[0m\u001b[1;33m\u001b[0m\u001b[0m\n\u001b[0;32m----> 5\u001b[0;31m \u001b[0mxgb\u001b[0m\u001b[1;33m.\u001b[0m\u001b[0mplot_tree\u001b[0m\u001b[1;33m(\u001b[0m\u001b[0mbst\u001b[0m\u001b[1;33m,\u001b[0m \u001b[0mnum_trees\u001b[0m\u001b[1;33m=\u001b[0m\u001b[1;36m2\u001b[0m\u001b[1;33m)\u001b[0m\u001b[1;33m\u001b[0m\u001b[0m\n\u001b[0m\u001b[1;32m      6\u001b[0m \u001b[0mxgb\u001b[0m\u001b[1;33m.\u001b[0m\u001b[0mto_graphviz\u001b[0m\u001b[1;33m(\u001b[0m\u001b[0mbst\u001b[0m\u001b[1;33m,\u001b[0m \u001b[0mnum_trees\u001b[0m\u001b[1;33m=\u001b[0m\u001b[1;36m2\u001b[0m\u001b[1;33m)\u001b[0m\u001b[1;33m\u001b[0m\u001b[0m\n\u001b[1;32m      7\u001b[0m \u001b[1;33m\u001b[0m\u001b[0m\n",
      "\u001b[0;32mC:\\Users\\Artur_Zahreba\\AppData\\Local\\Continuum\\Anaconda2\\lib\\site-packages\\xgboost\\plotting.pyc\u001b[0m in \u001b[0;36mplot_tree\u001b[0;34m(booster, fmap, num_trees, rankdir, ax, **kwargs)\u001b[0m\n\u001b[1;32m    255\u001b[0m \u001b[1;33m\u001b[0m\u001b[0m\n\u001b[1;32m    256\u001b[0m     \u001b[0ms\u001b[0m \u001b[1;33m=\u001b[0m \u001b[0mBytesIO\u001b[0m\u001b[1;33m(\u001b[0m\u001b[1;33m)\u001b[0m\u001b[1;33m\u001b[0m\u001b[0m\n\u001b[0;32m--> 257\u001b[0;31m     \u001b[0ms\u001b[0m\u001b[1;33m.\u001b[0m\u001b[0mwrite\u001b[0m\u001b[1;33m(\u001b[0m\u001b[0mg\u001b[0m\u001b[1;33m.\u001b[0m\u001b[0mpipe\u001b[0m\u001b[1;33m(\u001b[0m\u001b[0mformat\u001b[0m\u001b[1;33m=\u001b[0m\u001b[1;34m'png'\u001b[0m\u001b[1;33m)\u001b[0m\u001b[1;33m)\u001b[0m\u001b[1;33m\u001b[0m\u001b[0m\n\u001b[0m\u001b[1;32m    258\u001b[0m     \u001b[0ms\u001b[0m\u001b[1;33m.\u001b[0m\u001b[0mseek\u001b[0m\u001b[1;33m(\u001b[0m\u001b[1;36m0\u001b[0m\u001b[1;33m)\u001b[0m\u001b[1;33m\u001b[0m\u001b[0m\n\u001b[1;32m    259\u001b[0m     \u001b[0mimg\u001b[0m \u001b[1;33m=\u001b[0m \u001b[0mimage\u001b[0m\u001b[1;33m.\u001b[0m\u001b[0mimread\u001b[0m\u001b[1;33m(\u001b[0m\u001b[0ms\u001b[0m\u001b[1;33m)\u001b[0m\u001b[1;33m\u001b[0m\u001b[0m\n",
      "\u001b[0;32mC:\\Users\\Artur_Zahreba\\AppData\\Local\\Continuum\\Anaconda2\\lib\\site-packages\\graphviz\\files.pyc\u001b[0m in \u001b[0;36mpipe\u001b[0;34m(self, format)\u001b[0m\n\u001b[1;32m    118\u001b[0m         \u001b[0mdata\u001b[0m \u001b[1;33m=\u001b[0m \u001b[0mtext_type\u001b[0m\u001b[1;33m(\u001b[0m\u001b[0mself\u001b[0m\u001b[1;33m.\u001b[0m\u001b[0msource\u001b[0m\u001b[1;33m)\u001b[0m\u001b[1;33m.\u001b[0m\u001b[0mencode\u001b[0m\u001b[1;33m(\u001b[0m\u001b[0mself\u001b[0m\u001b[1;33m.\u001b[0m\u001b[0m_encoding\u001b[0m\u001b[1;33m)\u001b[0m\u001b[1;33m\u001b[0m\u001b[0m\n\u001b[1;32m    119\u001b[0m \u001b[1;33m\u001b[0m\u001b[0m\n\u001b[0;32m--> 120\u001b[0;31m         \u001b[0mouts\u001b[0m \u001b[1;33m=\u001b[0m \u001b[0mbackend\u001b[0m\u001b[1;33m.\u001b[0m\u001b[0mpipe\u001b[0m\u001b[1;33m(\u001b[0m\u001b[0mself\u001b[0m\u001b[1;33m.\u001b[0m\u001b[0m_engine\u001b[0m\u001b[1;33m,\u001b[0m \u001b[0mformat\u001b[0m\u001b[1;33m,\u001b[0m \u001b[0mdata\u001b[0m\u001b[1;33m)\u001b[0m\u001b[1;33m\u001b[0m\u001b[0m\n\u001b[0m\u001b[1;32m    121\u001b[0m \u001b[1;33m\u001b[0m\u001b[0m\n\u001b[1;32m    122\u001b[0m         \u001b[1;32mreturn\u001b[0m \u001b[0mouts\u001b[0m\u001b[1;33m\u001b[0m\u001b[0m\n",
      "\u001b[0;32mC:\\Users\\Artur_Zahreba\\AppData\\Local\\Continuum\\Anaconda2\\lib\\site-packages\\graphviz\\backend.pyc\u001b[0m in \u001b[0;36mpipe\u001b[0;34m(engine, format, data, quiet)\u001b[0m\n\u001b[1;32m    155\u001b[0m     \u001b[1;32mexcept\u001b[0m \u001b[0mOSError\u001b[0m \u001b[1;32mas\u001b[0m \u001b[0me\u001b[0m\u001b[1;33m:\u001b[0m\u001b[1;33m\u001b[0m\u001b[0m\n\u001b[1;32m    156\u001b[0m         \u001b[1;32mif\u001b[0m \u001b[0me\u001b[0m\u001b[1;33m.\u001b[0m\u001b[0merrno\u001b[0m \u001b[1;33m==\u001b[0m \u001b[0merrno\u001b[0m\u001b[1;33m.\u001b[0m\u001b[0mENOENT\u001b[0m\u001b[1;33m:\u001b[0m\u001b[1;33m\u001b[0m\u001b[0m\n\u001b[0;32m--> 157\u001b[0;31m             \u001b[1;32mraise\u001b[0m \u001b[0mExecutableNotFound\u001b[0m\u001b[1;33m(\u001b[0m\u001b[0margs\u001b[0m\u001b[1;33m)\u001b[0m\u001b[1;33m\u001b[0m\u001b[0m\n\u001b[0m\u001b[1;32m    158\u001b[0m         \u001b[1;32melse\u001b[0m\u001b[1;33m:\u001b[0m  \u001b[1;31m# pragma: no cover\u001b[0m\u001b[1;33m\u001b[0m\u001b[0m\n\u001b[1;32m    159\u001b[0m             \u001b[1;32mraise\u001b[0m\u001b[1;33m\u001b[0m\u001b[0m\n",
      "\u001b[0;31mExecutableNotFound\u001b[0m: failed to execute ['dot', '-Tpng'], make sure the Graphviz executables are on your systems' PATH"
     ]
    }
   ],
   "source": [
    "# TODO:\n",
    "# Plot xgb metrix\n",
    "\n",
    "xgb.plot_importance(bst)\n",
    "xgb.plot_tree(bst, num_trees=2)\n",
    "xgb.to_graphviz(bst, num_trees=2)\n",
    "\n",
    "res = xgb.cv(\n",
    "    params = params, \n",
    "    data = X_train, \n",
    "    label = y_train,\n",
    "    nround = 2, \n",
    "    nfold = 5, \n",
    "    prediction = TRUE\n",
    ")\n",
    "str(res)"
   ]
  },
  {
   "cell_type": "markdown",
   "metadata": {},
   "source": [
    "# cv"
   ]
  },
  {
   "cell_type": "code",
   "execution_count": 37,
   "metadata": {
    "collapsed": true
   },
   "outputs": [],
   "source": [
    "lables, _, texts = zip(*doc_texts)\n",
    "\n",
    "lables = list(lables)\n",
    "texts = map(lambda x: stemmer.stem(x), list(texts))\n",
    "texts = map(lambda x: tokenizer.tokenize(x), texts)\n",
    "texts = map(lambda x: re.sub(r'\\s\\d+\\s', ' ', ' '.join(x)), texts)"
   ]
  },
  {
   "cell_type": "code",
   "execution_count": 38,
   "metadata": {
    "collapsed": true
   },
   "outputs": [],
   "source": [
    "# texts = map(lambda x: re.sub(r'(?<=[^\\w])20\\d\\d(?=[^\\w]?)', 'year_mask', x), texts)\n",
    "# texts = map(lambda x: re.sub(r'year_mask +(0[1-9]|1[0-2]) +([0-2][1-9]|3[01])', 'date_mask', x), texts)\n",
    "# texts = map(lambda x: re.sub(r'year_mask +([0-2][1-9]|3[01]) +(0[1-9]|1[0-2])', 'date_mask', x), texts)\n",
    "# texts = map(lambda x: re.sub(r'([0-2][1-9]|3[01]) +(0[1-9]|1[0-2]) +year_mask', 'date_mask', x), texts)\n",
    "# texts = map(lambda x: re.sub(r'(0[1-9]|1[0-2]) +([0-2][1-9]|3[01]) +year_mask', 'date_mask', x), texts)\n",
    "\n",
    "lable_dict = dict(zip(list(set(lables)), range(len(set(lables)))))\n",
    "inv_lable_dict = dict(zip(lable_dict.values(), lable_dict.keys()))\n",
    "\n",
    "lables_int = np.array(map(lambda x: lable_dict[x], lables))\n",
    "\n",
    "# vectorizer = sklearn.feature_extraction.text.TfidfVectorizer(sublinear_tf=False, max_df=1.0, min_df=5, use_idf=True, \n",
    "#                                                              stop_words='english', lowercase=True, max_features=None,\n",
    "#                                                              strip_accents = 'unicode', ngram_range=(1,3), norm=u'l2',\n",
    "#                                                              smooth_idf=True, token_pattern=r'[a-z]{3,}')\n",
    "\n",
    "# X = vectorizer.fit_transform(texts)\n",
    "X = np.array(texts)\n",
    "y = lables_int"
   ]
  },
  {
   "cell_type": "code",
   "execution_count": 1,
   "metadata": {
    "collapsed": false
   },
   "outputs": [
    {
     "ename": "NameError",
     "evalue": "name 'X' is not defined",
     "output_type": "error",
     "traceback": [
      "\u001b[0;31m---------------------------------------------------------------------------\u001b[0m",
      "\u001b[0;31mNameError\u001b[0m                                 Traceback (most recent call last)",
      "\u001b[0;32m<ipython-input-1-181daf95d453>\u001b[0m in \u001b[0;36m<module>\u001b[0;34m()\u001b[0m\n\u001b[0;32m----> 1\u001b[0;31m \u001b[1;32mprint\u001b[0m\u001b[1;33m(\u001b[0m\u001b[0mX\u001b[0m\u001b[1;33m.\u001b[0m\u001b[0mshape\u001b[0m\u001b[1;33m)\u001b[0m\u001b[1;33m\u001b[0m\u001b[0m\n\u001b[0m\u001b[1;32m      2\u001b[0m \u001b[1;32mprint\u001b[0m\u001b[1;33m(\u001b[0m\u001b[1;34m'# classes:'\u001b[0m\u001b[1;33m,\u001b[0m \u001b[0mlen\u001b[0m\u001b[1;33m(\u001b[0m\u001b[0mlable_dict\u001b[0m\u001b[1;33m)\u001b[0m\u001b[1;33m)\u001b[0m\u001b[1;33m\u001b[0m\u001b[0m\n\u001b[1;32m      3\u001b[0m \u001b[1;32mfor\u001b[0m \u001b[0mi\u001b[0m \u001b[1;32min\u001b[0m \u001b[0mlable_dict\u001b[0m\u001b[1;33m.\u001b[0m\u001b[0mkeys\u001b[0m\u001b[1;33m(\u001b[0m\u001b[1;33m)\u001b[0m\u001b[1;33m:\u001b[0m\u001b[1;33m\u001b[0m\u001b[0m\n\u001b[1;32m      4\u001b[0m     \u001b[1;32mprint\u001b[0m\u001b[1;33m(\u001b[0m\u001b[0mi\u001b[0m\u001b[1;33m,\u001b[0m \u001b[1;34m' '\u001b[0m\u001b[1;33m*\u001b[0m\u001b[1;33m(\u001b[0m\u001b[1;36m10\u001b[0m\u001b[1;33m-\u001b[0m\u001b[0mlen\u001b[0m\u001b[1;33m(\u001b[0m\u001b[0mi\u001b[0m\u001b[1;33m)\u001b[0m\u001b[1;33m)\u001b[0m\u001b[1;33m,\u001b[0m\u001b[1;34m':'\u001b[0m\u001b[1;33m,\u001b[0m \u001b[0mlist\u001b[0m\u001b[1;33m(\u001b[0m\u001b[0mlables_int\u001b[0m\u001b[1;33m)\u001b[0m\u001b[1;33m.\u001b[0m\u001b[0mcount\u001b[0m\u001b[1;33m(\u001b[0m\u001b[0mlable_dict\u001b[0m\u001b[1;33m[\u001b[0m\u001b[0mi\u001b[0m\u001b[1;33m]\u001b[0m\u001b[1;33m)\u001b[0m\u001b[1;33m)\u001b[0m\u001b[1;33m\u001b[0m\u001b[0m\n\u001b[1;32m      5\u001b[0m \u001b[1;32mprint\u001b[0m\u001b[1;33m(\u001b[0m\u001b[0mlable_dict\u001b[0m\u001b[1;33m)\u001b[0m\u001b[1;33m\u001b[0m\u001b[0m\n",
      "\u001b[0;31mNameError\u001b[0m: name 'X' is not defined"
     ]
    }
   ],
   "source": [
    "print(X.shape)\n",
    "print('# classes:', len(lable_dict))\n",
    "for i in lable_dict.keys():\n",
    "    print(i, ' '*(10-len(i)),':', list(lables_int).count(lable_dict[i]))\n",
    "print(lable_dict)\n",
    "print(Counter(y))"
   ]
  },
  {
   "cell_type": "code",
   "execution_count": 40,
   "metadata": {
    "collapsed": true
   },
   "outputs": [],
   "source": [
    "param = {}\n",
    "param ['booster'] = 'gbtree'\n",
    "param['objective'] = 'multi:softmax'\n",
    "param['eta'] = 0.3\n",
    "param['gamma'] = 0.1\n",
    "param['min_child_weight'] = 0.1\n",
    "param['scale_pos_weight'] = 1.0 * (y_train.shape[0] - y_train.sum()) / (y_train.sum() + 1)\n",
    "\n",
    "#param['max_delta_step'] = 10\n",
    "param['max_depth'] = 5\n",
    "param['silent'] = 1\n",
    "param['subsample'] = 0.5\n",
    "param['colsample_bytree' ] = 0.5\n",
    "param['colsample_bylevel' ] = 0.5\n",
    "param['alpha' ] = 0.0\n",
    "param['lambda' ] = 5.0\n",
    "param['nthread'] = 4\n",
    "param['num_class'] = len(lable_dict)\n",
    "# param['one_drop'] = 1\n",
    "# param['rate_drop'] =  0.2\n",
    "param['updater']='grow_histmaker,prune'\n",
    "# param['sample_type'] =  \"weighted\"\n",
    "# param['normalize_type'] = \"forest\"\n",
    "param['eval_metric'] = 'merror'\n",
    "num_round = 200"
   ]
  },
  {
   "cell_type": "code",
   "execution_count": 41,
   "metadata": {
    "collapsed": true
   },
   "outputs": [],
   "source": [
    "cv = sklearn.model_selection.KFold(n_splits=5, random_state=42, shuffle=True)"
   ]
  },
  {
   "cell_type": "code",
   "execution_count": 42,
   "metadata": {
    "collapsed": false
   },
   "outputs": [
    {
     "name": "stdout",
     "output_type": "stream",
     "text": [
      "Fold 0 ...\n",
      "---------------------------------\n",
      " Done\n",
      "Fold 0 accuracy :\t 0.865771812081 \n",
      "\n",
      "Fold 1 ...\n",
      "---------------------------------\n",
      " Done\n",
      "Fold 1 accuracy :\t 0.851351351351 \n",
      "\n",
      "Fold 2 ...\n",
      "---------------------------------\n",
      " Done\n",
      "Fold 2 accuracy :\t 0.898648648649 \n",
      "\n",
      "Fold 3 ...\n",
      "---------------------------------\n",
      " Done\n",
      "Fold 3 accuracy :\t 0.898648648649 \n",
      "\n",
      "Fold 4 ...\n",
      "---------------------------------\n",
      " Done\n",
      "Fold 4 accuracy :\t 0.878378378378 \n",
      "\n",
      "5-Fold cross-validation accuracy over 2 classes for the basic BST model is: 0.878559767822\n"
     ]
    }
   ],
   "source": [
    "cc = 0\n",
    "accs = []\n",
    "incorrect_classes = Counter()\n",
    "incorrect_files = Counter()\n",
    "common_mistakes = Counter()\n",
    "for i ,j in  cv.split(range(len(doc_texts))):\n",
    "    print ('Fold', cc, '...')\n",
    "    X_train, X_test = X[i], X[j]\n",
    "    y_train, y_test = y[i], y[j]\n",
    "    \n",
    "    vectorizer = sklearn.feature_extraction.text.TfidfVectorizer(\n",
    "        sublinear_tf=False, \n",
    "        max_df=0.9, \n",
    "        min_df=0.3, \n",
    "        use_idf=True,                                    \n",
    "        stop_words='english',  \n",
    "#         stop_words=_stopwords,                                           \n",
    "        lowercase=True,                                       \n",
    "        max_features=None,                                \n",
    "        strip_accents = 'unicode',                                     \n",
    "        ngram_range=(1,3),                                            \n",
    "        norm=u'l2',                                        \n",
    "        smooth_idf=True,                                                       \n",
    "        token_pattern=r'[a-z\\d]{2,}'\n",
    "    )\n",
    "    \n",
    "    vectorizer.fit(X_train)\n",
    "    X_train = vectorizer.transform(X_train)\n",
    "    X_test =  vectorizer.transform(X_test)\n",
    "    \n",
    "    D_train = xgb.DMatrix(X_train, label = y_train)\n",
    "    D_test = xgb.DMatrix(X_test, label = y_test)\n",
    "    \n",
    "    bst = xgb.train(param, D_train, num_round)\n",
    "    xxx = bst.predict(D_test)\n",
    "\n",
    "    accuracy = 1.0*map(lambda x,y: 1 if x == y else 0, y_test, xxx).count(1)/len(y_test)\n",
    "    accs.append(accuracy)\n",
    "    \n",
    "    for pr in range(len(xxx)):\n",
    "        if xxx[pr] != y_test[pr]:\n",
    "#            print('pred:', inv_lable_dict[xxx[pr]])\n",
    "#            print('true:', inv_lable_dict[y_test[pr]])\n",
    "#            print(doc_texts[j[pr]][1], '\\n')\n",
    "            incorrect_classes[inv_lable_dict[y_test[pr]]] += 1\n",
    "            incorrect_files[doc_texts[j[pr]][1]] += 1\n",
    "            common_mistakes[(inv_lable_dict[xxx[pr]], inv_lable_dict[y_test[pr]])] += 1\n",
    "            #print(doc_texts[j][2])\n",
    "    \n",
    "    print ('---------------------------------\\n', 'Done')\n",
    "    print ('Fold', cc, 'accuracy :\\t', accuracy, '\\n')\n",
    "    cc += 1\n",
    "cv_acc = sum(accs)/len(accs)\n",
    "print ('%s-Fold cross-validation accuracy over %s classes for the basic BST model is:' % (cv.n_splits,len(lable_dict)), cv_acc)"
   ]
  },
  {
   "cell_type": "code",
   "execution_count": 43,
   "metadata": {
    "collapsed": false
   },
   "outputs": [
    {
     "data": {
      "text/plain": [
       "[('Approved', 61), ('Other', 29)]"
      ]
     },
     "execution_count": 43,
     "metadata": {},
     "output_type": "execute_result"
    }
   ],
   "source": [
    "sorted(incorrect_classes.items(), key =lambda x: x[1], reverse = True)"
   ]
  },
  {
   "cell_type": "code",
   "execution_count": 44,
   "metadata": {
    "collapsed": false
   },
   "outputs": [
    {
     "name": "stdout",
     "output_type": "stream",
     "text": [
      "85\n",
      "[(('Other', 'Approved'), 61), (('Approved', 'Other'), 29)]\n",
      "\n"
     ]
    },
    {
     "data": {
      "text/plain": [
       "[('RE   Approval  BC OND JFM allowance.txt', 2),\n",
       " ('RE    NRO request  DFS SG   SK-II miniature .txt', 2),\n",
       " ('RE  Approval Needed - Release TRAVEL RETAIL  2002825715  DFS VENTURE SINGAPORE PTE LTD   SKII   17 APR 2017.txt',\n",
       "  2),\n",
       " ('Approval  NRO - Kingpower Tester request.txt', 2),\n",
       " ('RE  New PO# G124293 for Procter & Gamble   (1).txt', 2),\n",
       " ('RE  NRO FTE 2ml Sachet - Hainan Order.txt', 1),\n",
       " ('FW   Approval  GWP DFS Aug 2017 First Class Beauty Event .txt', 1),\n",
       " ('FW  IShopChangi Program .txt', 1),\n",
       " ('RE  Approval Needed - Release TRAVEL RETAIL Order   2002834049 HARRODS DC (THATCHAM)  SK-II   19 May 2017.txt',\n",
       "  1),\n",
       " ('RE    NRO request BC incentive allowance    JFM 2017  ( ANZ   SG DFS   INDO  .txt',\n",
       "  1),\n",
       " (\"RE  Copy of SKII_NRO_Order_Form - FY1617 -RWS Jul-Sep'16 Hampers contest xlsx (8).txt\",\n",
       "  1),\n",
       " ('RE  Shilla FITW Lucky Draw prize NRO.txt', 1),\n",
       " ('RE   Approval  Ageless Beauty Travel Kit NRO.txt', 1),\n",
       " ('RE   seek help  SG LGS remnant (2).txt', 1),\n",
       " ('RE  NRO - Additional tester for Dufry Cambodia.txt', 1),\n",
       " ('RE    JPTR MEN .txt', 1),\n",
       " (\"RE  Everrich Jan'16 product incentive NRO order-3.txt\", 1),\n",
       " ('RE   PICK UP  Miniatures to Arvo - 15519 & 20k FTE 2ml.txt', 1),\n",
       " ('RE  Regent May PO - Manila & Cebu.txt', 1),\n",
       " ('RE   Approval  Japan Airline partnership Okinawa.txt', 1),\n",
       " ('RE   Approval  FITW ISC GWP Plan .txt', 1),\n",
       " ('RE  Approval Needed - Release TRAVEL RETAIL  2002825715  DFS VENTURE SINGAPORE PTE LTD   SKII   17 APR 2017 (2).txt',\n",
       "  1),\n",
       " ('RE    NRO request  DFS SG   SK-II miniature  (1).txt', 1),\n",
       " ('RE   Approval  FTE 2ml - Okinawa (2).txt', 1),\n",
       " (\"RE  Copy of SKII_NRO_Order_Form - FY1617 -RWS Jul-Sep'16 Hampers contest xlsx (4).txt\",\n",
       "  1),\n",
       " ('RE   Approval  ISGHK - GWP - JAS .txt', 1),\n",
       " ('Re  Approval Needed - Release TRAVEL RETAIL  2002825408 KING POWER TRAVELER COMPANY LIMITED  SKII   23 Mar.txt',\n",
       "  1),\n",
       " (\"RE  Copy of SKII_NRO_Order_Form - FY1617 -RWS Jul-Sep'16 Hampers contest xlsx (6).txt\",\n",
       "  1),\n",
       " ('RE   Approval  DFS HPP Qty Split - DFS OKI.txt', 1),\n",
       " (\"RE  Copy of SKII_NRO_Order_Form - FY1617 -RWS Jul-Sep'16 Hampers contest xlsx.txt\",\n",
       "  1),\n",
       " ('RE  Approval Needed - Release TRAVEL RETAIL  2002825400 KING POWER INTERNATIONAL CO  LTD   SKII   29 Mar 2017.txt',\n",
       "  1),\n",
       " ('RE  Approval Needed - Release TRAVEL RETAIL  2002825416 HKCDF MERCHANDISE CO LTD  SKII   06 Apr 2017.txt',\n",
       "  1),\n",
       " ('RE  NRO DFS HI.txt', 1),\n",
       " ('RE   seek approval  Additional testers NRO.txt', 1),\n",
       " ('NRO - additional tester for RWS Singapore-3 .txt', 1),\n",
       " ('RE  Approval NRO support for DFS NZD Customhouse - Skycity Casino VIP Event .txt',\n",
       "  1),\n",
       " (\"RE  Copy of SKII_NRO_Order_Form - FY1617 -RWS Jul-Sep'16 Hampers contest xlsx (5).txt\",\n",
       "  1),\n",
       " ('RE  SKII_NRO_Order_Form -Shilla CL Cream Tester NRO xlsx.txt', 1),\n",
       " ('RE  For your approval - NRO - FTE 230ml Special Roadshow-2 .txt', 1),\n",
       " ('RE  Regent May PO - Manila & Cebu (1).txt', 1),\n",
       " ('RE   Approval  TW LGS SKII May  PO#PUF170400165.txt', 1),\n",
       " ('RE  For your approval - NRO - FTE 230ml Special Roadshow-1 .txt', 1),\n",
       " ('RE   Next step sharing  Leveraging April Staff Sale (5).txt', 1),\n",
       " ('RE   seek approval TW Jun incentive NRO.txt', 1),\n",
       " ('Fwd   Approval  NA BA Allowance OND & JFM.txt', 1),\n",
       " ('Re  Approval Needed - Release TRAVEL RETAIL Order    2002708880 STARBOARD CRUISE SERVICES  SK-II   06 Apr 2017.txt',\n",
       "  1),\n",
       " ('RE   RE-Approval  DFS HPP Qty Split - DFS OKI.txt', 1),\n",
       " ('RE  TW NRO incentives.txt', 1),\n",
       " ('RE   Seek approval Everrich Mar incentive NRO.txt', 1),\n",
       " ('NRO request  DFS SG   SK-II miniature .txt', 1),\n",
       " ('RE   Approval  SG Shilla DFS RWS & TH BC Allowance OND & JFM.txt', 1),\n",
       " ('FW   Approval needed  SKII_NRO_Order incentive product (AMJ).txt', 1),\n",
       " ('RE   Approval  BC OND JFM allowance (1).txt', 1),\n",
       " (\"RE  Shilla Dec'16 contest NRO.txt\", 1),\n",
       " ('FW   Approval  NRO Items for TFWA.txt', 1),\n",
       " ('RE   Approval  ISGHK - GWP - JAS  (1).txt', 1),\n",
       " (\"Copy of SKII_NRO_Order_Form - FY1617 -RWS Jul-Sep'16 Hampers contest xlsx.txt\",\n",
       "  1),\n",
       " ('FW  NRO - 15 Feb 2017 (For 2nd site display).txt', 1),\n",
       " ('RE   Seek approval Tasameng Apr incentive NRO.txt', 1),\n",
       " ('RE  RE  Approval Needed - Release TRAVEL RETAIL Order    2002708880 STARBOARD CRUISE SERVICES  SK-II   05 Apr 2017.txt',\n",
       "  1),\n",
       " ('RE   Next step sharing  Leveraging April Staff Sale (7).txt', 1),\n",
       " ('RE  Approval Needed - Release TRAVEL RETAIL Order   2002825419 CHINA SALES GROUP LTD   SK-II  2 May 2017.txt',\n",
       "  1),\n",
       " ('RE   seek help  SG LGS remnant (3).txt', 1),\n",
       " ('NRO - additional tester for DFS Vietnam-2.txt', 1),\n",
       " ('RE  Approval Needed - Release TRAVEL RETAIL  2002825416 HKCDF MERCHANDISE CO LTD  SKII   24 Mar 2017.txt',\n",
       "  1),\n",
       " ('RE  Approval Needed - Release TRAVEL RETAIL Order   2002827111  SHILLA TRAVEL RETAIL PTE LTD   SKII   17 Mar 2017.txt',\n",
       "  1),\n",
       " ('RE   seek approval TW Jun incentive NRO (3).txt', 1),\n",
       " (\"RE  Everrich Jan'16 product incentive NRO order.txt\", 1),\n",
       " ('RE  Products to NRO.txt', 1),\n",
       " (\"RE  Copy of SKII_NRO_Order_Form - FY1617 -RWS Jul-Sep'16 Hampers contest xlsx (7).txt\",\n",
       "  1),\n",
       " ('FW  CDFG Cambodia - SK II product incentive Jan 2017.txt', 1),\n",
       " ('RE  For your approval - Silk Air GWP.txt', 1),\n",
       " ('RE   NRO needed  LGS TH Deluxe Sets Clearance.txt', 1),\n",
       " ('RE   seek approval TW Jun incentive NRO (4).txt', 1),\n",
       " ('RE  Shilla FITW PR Event.txt', 1),\n",
       " ('RE  KA2017Q1 Crew Incentive - SK-II .txt', 1),\n",
       " (\"RE  Approval Needed - PPD Waiver- Unearned cash discount TR SKII - APR'17.txt\",\n",
       "  1),\n",
       " ('RE  Products to NRO (3).txt', 1),\n",
       " ('RE  New PO# G124293 for Procter & Gamble  .txt', 1),\n",
       " ('RE    NRO request  DFS SG   SK-II miniature  (2).txt', 1),\n",
       " ('FW   Approval  FTE 2ml - Okinawa.txt', 1),\n",
       " (\"RE  Everrich Jan'16 product incentive NRO order-1.txt\", 1),\n",
       " ('RE   Anna to approva  090617_SK-II NRO - FITW & 2nd Site.txt', 1),\n",
       " ('URGENT Approval  LGS TH Deluxe Sets Clearance.txt', 1),\n",
       " ('Approval  - Additional BC Allowance OND JFM.txt', 1)]"
      ]
     },
     "execution_count": 44,
     "metadata": {},
     "output_type": "execute_result"
    }
   ],
   "source": [
    "print(len(incorrect_files))\n",
    "print(sorted(common_mistakes.items(), key =lambda x: x[1], reverse = True))\n",
    "print()\n",
    "sorted(incorrect_files.items(), key = lambda x: x[1], reverse = True)"
   ]
  },
  {
   "cell_type": "code",
   "execution_count": 45,
   "metadata": {
    "collapsed": false
   },
   "outputs": [
    {
     "data": {
      "text/plain": [
       "[('f204', 53),\n",
       " ('f28', 31),\n",
       " ('f26', 28),\n",
       " ('f251', 25),\n",
       " ('f44', 22),\n",
       " ('f203', 22),\n",
       " ('f105', 22),\n",
       " ('f27', 20),\n",
       " ('f41', 18),\n",
       " ('f53', 18),\n",
       " ('f8', 18),\n",
       " ('f188', 17),\n",
       " ('f0', 17),\n",
       " ('f260', 17),\n",
       " ('f179', 17),\n",
       " ('f245', 16),\n",
       " ('f12', 16),\n",
       " ('f194', 15),\n",
       " ('f51', 15),\n",
       " ('f220', 15),\n",
       " ('f180', 14),\n",
       " ('f130', 14),\n",
       " ('f11', 14),\n",
       " ('f16', 14),\n",
       " ('f9', 14),\n",
       " ('f271', 14),\n",
       " ('f200', 13),\n",
       " ('f244', 13),\n",
       " ('f158', 13),\n",
       " ('f111', 12),\n",
       " ('f33', 12),\n",
       " ('f72', 12),\n",
       " ('f163', 11),\n",
       " ('f205', 11),\n",
       " ('f100', 11),\n",
       " ('f29', 11),\n",
       " ('f30', 11),\n",
       " ('f129', 11),\n",
       " ('f240', 11),\n",
       " ('f207', 11),\n",
       " ('f18', 11),\n",
       " ('f4', 11),\n",
       " ('f61', 11),\n",
       " ('f168', 10),\n",
       " ('f208', 10),\n",
       " ('f112', 10),\n",
       " ('f134', 10),\n",
       " ('f232', 10),\n",
       " ('f32', 10),\n",
       " ('f3', 10),\n",
       " ('f246', 10),\n",
       " ('f94', 10),\n",
       " ('f252', 10),\n",
       " ('f19', 10),\n",
       " ('f267', 10),\n",
       " ('f73', 10),\n",
       " ('f42', 9),\n",
       " ('f47', 9),\n",
       " ('f199', 9),\n",
       " ('f107', 9),\n",
       " ('f133', 9),\n",
       " ('f233', 9),\n",
       " ('f171', 9),\n",
       " ('f183', 8),\n",
       " ('f25', 8),\n",
       " ('f132', 8),\n",
       " ('f85', 8),\n",
       " ('f241', 8),\n",
       " ('f242', 8),\n",
       " ('f155', 8),\n",
       " ('f255', 8),\n",
       " ('f14', 8),\n",
       " ('f67', 8),\n",
       " ('f272', 8),\n",
       " ('f278', 8),\n",
       " ('f79', 8),\n",
       " ('f70', 8),\n",
       " ('f164', 7),\n",
       " ('f43', 7),\n",
       " ('f113', 7),\n",
       " ('f52', 7),\n",
       " ('f192', 7),\n",
       " ('f101', 7),\n",
       " ('f184', 7),\n",
       " ('f229', 7),\n",
       " ('f24', 7),\n",
       " ('f157', 7),\n",
       " ('f99', 7),\n",
       " ('f10', 7),\n",
       " ('f1', 7),\n",
       " ('f2', 7),\n",
       " ('f140', 7),\n",
       " ('f31', 7),\n",
       " ('f270', 7),\n",
       " ('f76', 7),\n",
       " ('f71', 7),\n",
       " ('f49', 6),\n",
       " ('f106', 6),\n",
       " ('f102', 6),\n",
       " ('f135', 6),\n",
       " ('f237', 6),\n",
       " ('f231', 6),\n",
       " ('f146', 6),\n",
       " ('f13', 6),\n",
       " ('f15', 6),\n",
       " ('f64', 6),\n",
       " ('f57', 5),\n",
       " ('f54', 5),\n",
       " ('f196', 5),\n",
       " ('f186', 5),\n",
       " ('f139', 5),\n",
       " ('f202', 5),\n",
       " ('f230', 5),\n",
       " ('f38', 5),\n",
       " ('f243', 5),\n",
       " ('f141', 5),\n",
       " ('f144', 5),\n",
       " ('f159', 5),\n",
       " ('f98', 5),\n",
       " ('f257', 5),\n",
       " ('f256', 5),\n",
       " ('f17', 5),\n",
       " ('f6', 5),\n",
       " ('f269', 5),\n",
       " ('f62', 5),\n",
       " ('f114', 4),\n",
       " ('f223', 4),\n",
       " ('f226', 4),\n",
       " ('f55', 4),\n",
       " ('f222', 4),\n",
       " ('f224', 4),\n",
       " ('f247', 4),\n",
       " ('f154', 4),\n",
       " ('f211', 4),\n",
       " ('f5', 4),\n",
       " ('f266', 4),\n",
       " ('f201', 4),\n",
       " ('f66', 4),\n",
       " ('f65', 4),\n",
       " ('f172', 4),\n",
       " ('f277', 4),\n",
       " ('f225', 4),\n",
       " ('f78', 4),\n",
       " ('f45', 3),\n",
       " ('f119', 3),\n",
       " ('f116', 3),\n",
       " ('f110', 3),\n",
       " ('f56', 3),\n",
       " ('f195', 3),\n",
       " ('f50', 3),\n",
       " ('f193', 3),\n",
       " ('f23', 3),\n",
       " ('f138', 3),\n",
       " ('f131', 3),\n",
       " ('f137', 3),\n",
       " ('f234', 3),\n",
       " ('f35', 3),\n",
       " ('f212', 3),\n",
       " ('f156', 3),\n",
       " ('f259', 3),\n",
       " ('f254', 3),\n",
       " ('f149', 3),\n",
       " ('f268', 3),\n",
       " ('f68', 3),\n",
       " ('f185', 3),\n",
       " ('f74', 3),\n",
       " ('f77', 3),\n",
       " ('f169', 2),\n",
       " ('f167', 2),\n",
       " ('f115', 2),\n",
       " ('f209', 2),\n",
       " ('f215', 2),\n",
       " ('f198', 2),\n",
       " ('f210', 2),\n",
       " ('f221', 2),\n",
       " ('f109', 2),\n",
       " ('f108', 2),\n",
       " ('f103', 2),\n",
       " ('f21', 2),\n",
       " ('f20', 2),\n",
       " ('f40', 2),\n",
       " ('f173', 2),\n",
       " ('f125', 2),\n",
       " ('f145', 2),\n",
       " ('f152', 2),\n",
       " ('f95', 2),\n",
       " ('f258', 2),\n",
       " ('f253', 2),\n",
       " ('f187', 2),\n",
       " ('f177', 2),\n",
       " ('f170', 2),\n",
       " ('f160', 1),\n",
       " ('f86', 1),\n",
       " ('f48', 1),\n",
       " ('f197', 1),\n",
       " ('f58', 1),\n",
       " ('f59', 1),\n",
       " ('f46', 1),\n",
       " ('f37', 1),\n",
       " ('f39', 1),\n",
       " ('f124', 1),\n",
       " ('f127', 1),\n",
       " ('f147', 1),\n",
       " ('f89', 1),\n",
       " ('f91', 1),\n",
       " ('f97', 1),\n",
       " ('f7', 1)]"
      ]
     },
     "execution_count": 45,
     "metadata": {},
     "output_type": "execute_result"
    }
   ],
   "source": [
    "feature_imp = sorted(bst.get_fscore().items(), key = lambda x: x[1], reverse=True)\n",
    "feature_imp"
   ]
  },
  {
   "cell_type": "code",
   "execution_count": 46,
   "metadata": {
    "collapsed": true
   },
   "outputs": [],
   "source": [
    "feature_dict = vectorizer.get_feature_names()\n",
    "inv_feature_dict = dict(zip(map(lambda x: 'f'+ str(x), range(len(feature_dict))), feature_dict))"
   ]
  },
  {
   "cell_type": "code",
   "execution_count": 47,
   "metadata": {
    "collapsed": false
   },
   "outputs": [
    {
     "name": "stdout",
     "output_type": "stream",
     "text": [
      "pm                              53\n",
      "approved                        31\n",
      "approval                        28\n",
      "thank                           25\n",
      "com cc                          22\n",
      "pls                             22\n",
      "hi                              22\n",
      "approve                         20\n",
      "cest                            18\n",
      "com upcoming                    18\n",
      "12                              18\n",
      "ooo                             17\n",
      "05                              17\n",
      "tr                              17\n",
      "nro                             17\n",
      "subject approval                16\n",
      "17                              16\n",
      "order                           15\n",
      "com subject                     15\n",
      "retail                          15\n",
      "om                              14\n",
      "ion cc                          14\n",
      "16                              14\n",
      "65                              14\n",
      "13                              14\n",
      "usd                             14\n",
      "pg com subject                  13\n",
      "skii                            13\n",
      "muthuraman pg                   13\n",
      "ii                              12\n",
      "best regards                    12\n",
      "day                             12\n",
      "new                             11\n",
      "po                              11\n",
      "global                          11\n",
      "attached                        11\n",
      "attached nro                    11\n",
      "ion                             11\n",
      "ship                            11\n",
      "proceed                         11\n",
      "alagammai muthuraman            11\n",
      "10                              11\n",
      "customer                        11\n",
      "nino                            10\n",
      "process                         10\n",
      "im                              10\n",
      "liang                           10\n",
      "sent tuesday                    10\n",
      "best                            10\n",
      "08                              10\n",
      "tan                             10\n",
      "essence                         10\n",
      "thank best                      10\n",
      "alagammai muthuraman pg         10\n",
      "travel retail                   10\n",
      "dear                            10\n",
      "check                           9\n",
      "com mailto                      9\n",
      "pg com onetravelretail          9\n",
      "hold                            9\n",
      "kindly                          9\n",
      "sent wednesday                  9\n",
      "nino pg                         9\n",
      "onetravelretail                 8\n",
      "anna liang pg                   8\n",
      "ion onetravelretail im          8\n",
      "email                           8\n",
      "singapore                       8\n",
      "sk                              8\n",
      "muthuraman                      8\n",
      "thanks                          8\n",
      "2017                            8\n",
      "darryl                          8\n",
      "use                             8\n",
      "wen                             8\n",
      "drop                            8\n",
      "darryl lu pg                    8\n",
      "ng                              7\n",
      "code                            7\n",
      "im pg                           7\n",
      "com tan                         7\n",
      "operations                      7\n",
      "help                            7\n",
      "onetravelretail im              7\n",
      "sent friday                     7\n",
      "anna liang                      7\n",
      "muthuraman alagammai muthuraman  7\n",
      "gamble                          7\n",
      "15                              7\n",
      "06                              7\n",
      "07                              7\n",
      "lu darryl                       7\n",
      "behalf                          7\n",
      "upcoming ooo                    7\n",
      "description                     7\n",
      "date                            7\n",
      "com onetravelretail             6\n",
      "hi om                           6\n",
      "herwen                          6\n",
      "liang anna                      6\n",
      "sg                              6\n",
      "sent thursday                   6\n",
      "mailto                          6\n",
      "18                              6\n",
      "21                              6\n",
      "daisyanne                       6\n",
      "confidential information intended  5\n",
      "com upcoming ooo                5\n",
      "pg com cc                       5\n",
      "onetravelretail ion             5\n",
      "lu                              5\n",
      "pg com upcoming                 5\n",
      "sent monday                     5\n",
      "buona                           5\n",
      "sk ii                           5\n",
      "lu darryl lu                    5\n",
      "lu pg                           5\n",
      "muthuraman pg com               5\n",
      "friday                          5\n",
      "thanks best regards             5\n",
      "thanks best                     5\n",
      "alagammai                       5\n",
      "11 pg                           5\n",
      "upcoming                        5\n",
      "customer service                5\n",
      "im pg com                       4\n",
      "sa sg                           4\n",
      "sender                          4\n",
      "confidential                    4\n",
      "sa                              4\n",
      "sa sg branch                    4\n",
      "tan herwen                      4\n",
      "monday                          4\n",
      "promotion                       4\n",
      "11                              4\n",
      "travel                          4\n",
      "pg com tan                      4\n",
      "daisyanne nino pg               4\n",
      "daisyanne nino                  4\n",
      "nino pg com                     4\n",
      "wednesday                       4\n",
      "seek                            4\n",
      "drive                           4\n",
      "com electronic                  3\n",
      "information                     3\n",
      "individual                      3\n",
      "hw pg com                       3\n",
      "confidential information        3\n",
      "orders                          3\n",
      "com onetravelretail ion         3\n",
      "operations sa                   3\n",
      "anna                            3\n",
      "liang pg com                    3\n",
      "ion onetravelretail             3\n",
      "liang pg                        3\n",
      "service                         3\n",
      "branch                          3\n",
      "received                        3\n",
      "muthuraman alagammai            3\n",
      "tower                           3\n",
      "thank regards                   3\n",
      "message                         3\n",
      "tuesday                         3\n",
      "darryl lu                       3\n",
      "onetravelretail im pg           3\n",
      "delete                          3\n",
      "distribution                    3\n",
      "nino daisyanne                  2\n",
      "ng rubee                        2\n",
      "immediately                     2\n",
      "procter                         2\n",
      "recipient                       2\n",
      "pg com mailto                   2\n",
      "procter gamble                  2\n",
      "rubee                           2\n",
      "hw pg                           2\n",
      "hw                              2\n",
      "herwen tan                      2\n",
      "analyst customer                2\n",
      "analyst                         2\n",
      "buona vista drive               2\n",
      "north                           2\n",
      "intended recipient              2\n",
      "lu pg com                       2\n",
      "metropolis                      2\n",
      "europe                          2\n",
      "thursday                        2\n",
      "thank best regards              2\n",
      "onetravelretail ion onetravelretail  2\n",
      "notify sender                   2\n",
      "nino daisyanne nino             2\n",
      "named                           1\n",
      "email lu                        1\n",
      "com mailto ng                   1\n",
      "pg com electronic               1\n",
      "contains                        1\n",
      "contains information            1\n",
      "com electronic message          1\n",
      "branch email lu                 1\n",
      "buona vista                     1\n",
      "intended                        1\n",
      "intended use                    1\n",
      "mailto ng                       1\n",
      "entity named                    1\n",
      "error                           1\n",
      "europe sa sg                    1\n",
      "11 pg com                       1\n"
     ]
    }
   ],
   "source": [
    "a = []\n",
    "for i in feature_imp:\n",
    "    a.append(inv_feature_dict[i[0]])\n",
    "    print(inv_feature_dict[i[0]], ' ' * (30 - len(inv_feature_dict[i[0]])), i[1])"
   ]
  },
  {
   "cell_type": "code",
   "execution_count": null,
   "metadata": {
    "collapsed": true
   },
   "outputs": [],
   "source": []
  }
 ],
 "metadata": {
  "kernelspec": {
   "display_name": "Python 2",
   "language": "python",
   "name": "python2"
  },
  "language_info": {
   "codemirror_mode": {
    "name": "ipython",
    "version": 2
   },
   "file_extension": ".py",
   "mimetype": "text/x-python",
   "name": "python",
   "nbconvert_exporter": "python",
   "pygments_lexer": "ipython2",
   "version": "2.7.13"
  }
 },
 "nbformat": 4,
 "nbformat_minor": 2
}
