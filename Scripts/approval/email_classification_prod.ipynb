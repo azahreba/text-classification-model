{
 "cells": [
  {
   "cell_type": "code",
   "execution_count": 1,
   "metadata": {
    "collapsed": true
   },
   "outputs": [],
   "source": [
    "# encoding=utf8\n",
    "# coding: utf-8"
   ]
  },
  {
   "cell_type": "code",
   "execution_count": 3,
   "metadata": {
    "collapsed": false
   },
   "outputs": [],
   "source": [
    "from __future__ import division\n",
    "\n",
    "import re\n",
    "import pandas as pd\n",
    "import numpy as np\n",
    "import scipy\n",
    "import math\n",
    "import json\n",
    "import pickle\n",
    "from collections import Counter\n",
    "from bs4 import BeautifulSoup\n",
    "import sklearn\n",
    "import xgboost as xgb\n",
    "import nltk\n",
    "#nltk.download('stopwords')\n",
    "\n",
    "import sys\n",
    "from nltk.stem.snowball import SnowballStemmer\n",
    "stemmer = SnowballStemmer(language='english', ignore_stopwords=True)\n",
    "tokenizer = RegexpTokenizer(r'\\s+', gaps=True)"
   ]
  },
  {
   "cell_type": "code",
   "execution_count": 2,
   "metadata": {
    "collapsed": false,
    "scrolled": true
   },
   "outputs": [
    {
     "ename": "IOError",
     "evalue": "[Errno 2] No such file or directory: '-f'",
     "output_type": "error",
     "traceback": [
      "\u001b[0;31m---------------------------------------------------------------------------\u001b[0m",
      "\u001b[0;31mIOError\u001b[0m                                   Traceback (most recent call last)",
      "\u001b[0;32m<ipython-input-2-39ea16d8af24>\u001b[0m in \u001b[0;36m<module>\u001b[0;34m()\u001b[0m\n\u001b[0;32m----> 1\u001b[0;31m \u001b[1;32mwith\u001b[0m \u001b[0mopen\u001b[0m\u001b[1;33m(\u001b[0m\u001b[0msys\u001b[0m\u001b[1;33m.\u001b[0m\u001b[0margv\u001b[0m\u001b[1;33m[\u001b[0m\u001b[1;36m1\u001b[0m\u001b[1;33m]\u001b[0m\u001b[1;33m)\u001b[0m \u001b[1;32mas\u001b[0m \u001b[0mf\u001b[0m\u001b[1;33m:\u001b[0m\u001b[1;33m\u001b[0m\u001b[0m\n\u001b[0m\u001b[1;32m      2\u001b[0m     \u001b[0mtext\u001b[0m \u001b[1;33m=\u001b[0m \u001b[0mf\u001b[0m\u001b[1;33m.\u001b[0m\u001b[0mread\u001b[0m\u001b[1;33m(\u001b[0m\u001b[1;33m)\u001b[0m\u001b[1;33m\u001b[0m\u001b[0m\n",
      "\u001b[0;31mIOError\u001b[0m: [Errno 2] No such file or directory: '-f'"
     ]
    }
   ],
   "source": [
    "with open(sys.argv[1]) as f:\n",
    "    text = f.read()"
   ]
  },
  {
   "cell_type": "code",
   "execution_count": 4,
   "metadata": {
    "collapsed": false
   },
   "outputs": [
    {
     "name": "stdout",
     "output_type": "stream",
     "text": [
      "From: WingYan, Choi\n",
      "Sent: Tue Jul 26 04:57:03 CEST 2016\n",
      "To: Ong, Cherie; Meng, FanRu; onetravelretail, Ion; Yip, Desmond\n",
      "Cc: \n",
      "Subject: RE: NRO approvals\n",
      "Hi Cherie, \n",
      "\n",
      " \n",
      "\n",
      "We don�t have any samples in DC , you can have those leftover in office.\n",
      "\n",
      " \n",
      "\n",
      "Thank you.\n",
      "\n",
      " \n",
      "\n",
      "Clef  \n",
      "\n",
      " \n",
      "\n",
      "From: Ong, Cherie \n",
      "Sent: Tuesday, July 26, 2016 10:56 AM\n",
      "To: Meng, FanRu; onetravelretail, Ion; WingYan, Choi; Yip, Desmond\n",
      "Subject: NRO approvals\n",
      "\n",
      " \n",
      "\n",
      "Hi Fanru,\n",
      "\n",
      " \n",
      "\n",
      "Please kindly help to advise approval for the attached NROs, thanks!\n",
      "\n",
      " \n",
      "\n",
      "1.       Kris shop party workshop testers\n",
      "\n",
      "2.       SEA training GS gift \n",
      "\n",
      " \n",
      "\n",
      " \n",
      "\n",
      "Clef and Desmond, please advise stocks supply, thanks!\n",
      "\n",
      " \n",
      "\n",
      " \n",
      "\n",
      " \n",
      "\n",
      " \n",
      "\n",
      " \n",
      "\n",
      "\n",
      "\n",
      " \n",
      "\n",
      "\n",
      "\n"
     ]
    }
   ],
   "source": [
    "### LOCAL\n",
    "approved_ex_path = r'C:\\Users\\Artur_Zahreba\\Desktop\\WorkFusion\\P&G\\Approval By Email\\training_set_txt\\Approved\\FW  NRO application  Sanya addtional testers tag on PO#G0314-PCA2017057 HTB(SK-II).txt'\n",
    "other_ex_path = r'C:\\Users\\Artur_Zahreba\\Desktop\\WorkFusion\\P&G\\Approval By Email\\training_set_txt\\Other\\NRO approvals-2.txt'\n",
    "\n",
    "with open(other_ex_path) as f:\n",
    "    text = f.read()\n",
    "    \n",
    "print(text)"
   ]
  },
  {
   "cell_type": "code",
   "execution_count": null,
   "metadata": {
    "collapsed": true
   },
   "outputs": [],
   "source": [
    "model_path = '/home/tomcat/ml/models/'\n",
    "model_type = 'xgb'\n",
    "model_name = '2classes_xgb_tfidf_v1.model'\n",
    "\n",
    "bst = xgb.Booster(model_file=model_path + model_type +'/' + model_name)"
   ]
  },
  {
   "cell_type": "code",
   "execution_count": 5,
   "metadata": {
    "collapsed": false
   },
   "outputs": [],
   "source": [
    "### LOCAL\n",
    "model_path = r'C:\\Users\\Artur_Zahreba\\Desktop\\text-classification-model\\Scripts\\models\\xgb\\2classes_xgb_tfidf_v1.model'\n",
    "bst = xgb.Booster(model_file=model_path)"
   ]
  },
  {
   "cell_type": "code",
   "execution_count": null,
   "metadata": {
    "collapsed": true
   },
   "outputs": [],
   "source": [
    "vectorizer_path = '/home/tomcat/ml/vectorizers/'\n",
    "vectorizer_type = 'tfidf'\n",
    "vectorizer_name = 'vectorizer2.pk'\n",
    "\n",
    "with open(vectorizer_path + vectorizer_type + '/' + vectorizer_name, 'rb') as fin:\n",
    "    vectorizer = pickle.load(fin)"
   ]
  },
  {
   "cell_type": "code",
   "execution_count": 6,
   "metadata": {
    "collapsed": false
   },
   "outputs": [],
   "source": [
    "### LOCAL\n",
    "with open(r'C:\\Users\\Artur_Zahreba\\Desktop\\text-classification-model\\Scripts\\vectorizers\\tfidf\\vectorizer2.pk', 'rb') as vec_file:\n",
    "    vectorizer = pickle.load(vec_file)"
   ]
  },
  {
   "cell_type": "code",
   "execution_count": 7,
   "metadata": {
    "collapsed": false
   },
   "outputs": [
    {
     "data": {
      "text/plain": [
       "{0: 'Other', 1: 'Approved'}"
      ]
     },
     "execution_count": 7,
     "metadata": {},
     "output_type": "execute_result"
    }
   ],
   "source": [
    "lable_dict = {'Approved': 1, 'Other': 0}\n",
    "\n",
    "inv_lable_dict = dict(zip(lable_dict.values(), lable_dict.keys()))\n",
    "inv_lable_dict"
   ]
  },
  {
   "cell_type": "code",
   "execution_count": 8,
   "metadata": {
    "collapsed": false
   },
   "outputs": [
    {
     "data": {
      "text/plain": [
       "(1, 216)"
      ]
     },
     "execution_count": 8,
     "metadata": {},
     "output_type": "execute_result"
    }
   ],
   "source": [
    "text = text.decode('utf8', 'ignore')\n",
    "\n",
    "texts = [text]\n",
    "\n",
    "texts = map(lambda x: stemmer.stem(x), texts)\n",
    "texts = map(lambda x: tokenizer.tokenize(x), texts)\n",
    "texts = map(lambda x: re.sub(r'\\s\\d+\\s', ' ', ' '.join(x)), texts)\n",
    "\n",
    "\n",
    "X = np.array(texts)\n",
    "\n",
    "X = vectorizer.transform(X)\n",
    "X.shape"
   ]
  },
  {
   "cell_type": "code",
   "execution_count": 9,
   "metadata": {
    "collapsed": false
   },
   "outputs": [
    {
     "data": {
      "text/plain": [
       "(1, 216)"
      ]
     },
     "execution_count": 9,
     "metadata": {},
     "output_type": "execute_result"
    }
   ],
   "source": [
    "# X_lens = np.ones([X.shape[0], 1])\n",
    "# X_dense = np.array(map(lambda x, y: 1.0 * len(x) / y, text, X_lens)).reshape(X.shape[0], 1)\n",
    "\n",
    "# X = scipy.sparse.hstack([X, X_lens, X_dense])\n",
    "X.shape"
   ]
  },
  {
   "cell_type": "code",
   "execution_count": 15,
   "metadata": {
    "collapsed": false,
    "scrolled": false
   },
   "outputs": [
    {
     "data": {
      "text/plain": [
       "array([ 0.], dtype=float32)"
      ]
     },
     "execution_count": 15,
     "metadata": {},
     "output_type": "execute_result"
    }
   ],
   "source": [
    "DX = xgb.DMatrix(X)\n",
    "# result = bst.predict(DX, output_margin=True)\n",
    "result = bst.predict(DX)\n",
    "result"
   ]
  },
  {
   "cell_type": "code",
   "execution_count": 11,
   "metadata": {
    "collapsed": false
   },
   "outputs": [
    {
     "ename": "TypeError",
     "evalue": "unhashable type: 'numpy.ndarray'",
     "output_type": "error",
     "traceback": [
      "\u001b[0;31m---------------------------------------------------------------------------\u001b[0m",
      "\u001b[0;31mTypeError\u001b[0m                                 Traceback (most recent call last)",
      "\u001b[0;32m<ipython-input-11-9a8756926ce6>\u001b[0m in \u001b[0;36m<module>\u001b[0;34m()\u001b[0m\n\u001b[0;32m----> 1\u001b[0;31m \u001b[0minv_lable_dict\u001b[0m\u001b[1;33m[\u001b[0m\u001b[0mresult\u001b[0m\u001b[1;33m[\u001b[0m\u001b[1;36m0\u001b[0m\u001b[1;33m]\u001b[0m\u001b[1;33m]\u001b[0m\u001b[1;33m\u001b[0m\u001b[0m\n\u001b[0m",
      "\u001b[0;31mTypeError\u001b[0m: unhashable type: 'numpy.ndarray'"
     ]
    }
   ],
   "source": [
    "inv_lable_dict[result[0]]"
   ]
  },
  {
   "cell_type": "code",
   "execution_count": 12,
   "metadata": {
    "collapsed": true
   },
   "outputs": [],
   "source": [
    "def softmax(array):\n",
    "    e = map (lambda x: sum(map (lambda y: math.pow(math.e, y), x)), array)\n",
    "    array = map (lambda x, y: map (lambda z: math.pow(math.e, z)/y, x), array, e)\n",
    "    return np.array(array)"
   ]
  },
  {
   "cell_type": "code",
   "execution_count": 13,
   "metadata": {
    "collapsed": false
   },
   "outputs": [
    {
     "data": {
      "text/plain": [
       "array([[ 0.50155758,  0.49844242]])"
      ]
     },
     "execution_count": 13,
     "metadata": {},
     "output_type": "execute_result"
    }
   ],
   "source": [
    "softmax(result)"
   ]
  },
  {
   "cell_type": "code",
   "execution_count": 16,
   "metadata": {
    "collapsed": false
   },
   "outputs": [
    {
     "data": {
      "text/plain": [
       "['\"O\"', '\"t\"', '\"h\"', '\"e\"', '\"r\"']"
      ]
     },
     "execution_count": 16,
     "metadata": {},
     "output_type": "execute_result"
    }
   ],
   "source": [
    "result = inv_lable_dict[result[0]]\n",
    "\n",
    "true_out = map(json.dumps, result)\n",
    "true_out"
   ]
  },
  {
   "cell_type": "code",
   "execution_count": null,
   "metadata": {
    "collapsed": true
   },
   "outputs": [],
   "source": []
  },
  {
   "cell_type": "code",
   "execution_count": null,
   "metadata": {
    "collapsed": true
   },
   "outputs": [],
   "source": []
  },
  {
   "cell_type": "code",
   "execution_count": null,
   "metadata": {
    "collapsed": true
   },
   "outputs": [],
   "source": [
    "true_out = map(json.dumps, true_out)"
   ]
  },
  {
   "cell_type": "code",
   "execution_count": null,
   "metadata": {
    "collapsed": true
   },
   "outputs": [],
   "source": [
    "f = open(sys.argv[2], 'w')\n",
    "\n",
    "for i in range(batch_size):\n",
    "    sys.stdout.write(true_out[i])\n",
    "    f.write(true_out[i])\n",
    "\n",
    "f.close()"
   ]
  }
 ],
 "metadata": {
  "kernelspec": {
   "display_name": "Python 2",
   "language": "python",
   "name": "python2"
  },
  "language_info": {
   "codemirror_mode": {
    "name": "ipython",
    "version": 2
   },
   "file_extension": ".py",
   "mimetype": "text/x-python",
   "name": "python",
   "nbconvert_exporter": "python",
   "pygments_lexer": "ipython2",
   "version": "2.7.13"
  }
 },
 "nbformat": 4,
 "nbformat_minor": 2
}
