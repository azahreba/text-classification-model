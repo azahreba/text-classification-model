{
 "cells": [
  {
   "cell_type": "markdown",
   "metadata": {},
   "source": [
    "## TextBlob is a text processing library for Python\n",
    "https://textblob.readthedocs.io/en/dev/\n",
    "\n",
    "## The machine learning functions in TextBlob wrap NLTK\n",
    "https://github.com/sloria/TextBlob\n",
    "\n",
    "https://github.com/nltk/nltk/tree/develop/nltk/classify\n",
    "\n",
    "## NLTK Naive Bayes\n",
    "https://github.com/nltk/nltk/blob/develop/nltk/classify/naivebayes.py"
   ]
  },
  {
   "cell_type": "code",
   "execution_count": 66,
   "metadata": {
    "collapsed": true
   },
   "outputs": [],
   "source": [
    "import re\n",
    "import random\n",
    "import collections\n",
    "\n",
    "from os import listdir\n",
    "\n",
    "from nltk.corpus import stopwords\n",
    "from string import punctuation\n",
    "\n",
    "from nltk.stem.snowball import SnowballStemmer\n",
    "stemmer = SnowballStemmer(language='english', ignore_stopwords=True)"
   ]
  },
  {
   "cell_type": "code",
   "execution_count": 9,
   "metadata": {
    "collapsed": false
   },
   "outputs": [
    {
     "data": {
      "text/plain": [
       "sklearn.datasets.base.Bunch"
      ]
     },
     "execution_count": 9,
     "metadata": {},
     "output_type": "execute_result"
    }
   ],
   "source": [
    "# The Newsgroup Data\n",
    "# http://scikit-learn.org/stable/datasets/twenty_newsgroups.html#newsgroups\n",
    "from sklearn.datasets import fetch_20newsgroups\n",
    "texts = fetch_20newsgroups(subset='train')\n",
    "dir(texts)"
   ]
  },
  {
   "cell_type": "code",
   "execution_count": 67,
   "metadata": {
    "collapsed": false
   },
   "outputs": [
    {
     "name": "stdout",
     "output_type": "stream",
     "text": [
      "194\n"
     ]
    }
   ],
   "source": [
    "doc_path = 'C:\\\\Users\\\\Artur_Zahreba\\\\Desktop\\\\WorkFusion\\\\P&G\\\\sample email June 15\\\\DocsTxt'\n",
    "\n",
    "doc_types = sorted(listdir(doc_path))\n",
    "\n",
    "doc_texts = []\n",
    "\n",
    "for doc_type in doc_types:\n",
    "    filenames = sorted(listdir(doc_path + '\\\\' + doc_type))\n",
    "    filenames = filter(lambda x: re.search(r'\\.txt$', x), filenames)\n",
    "    for filename in filenames:\n",
    "        with open(doc_path + '\\\\' + doc_type + '\\\\' + filename, 'r') as ffile:\n",
    "            txt = ffile.read()\n",
    "            doc_texts.append((doc_type, filename, txt))\n",
    "            ffile.close()\n",
    "\n",
    "random.shuffle(doc_texts)            \n",
    "lables, _, texts = zip(*doc_texts)\n",
    "texts = (texts)\n",
    "\n",
    "lable_dict = dict(zip(list(set(lables)), range(len(set(lables)))))\n",
    "\n",
    "lables_int = list(map(lambda x: lable_dict[x], lables))\n",
    "\n",
    "txts_tpl = collections.namedtuple('txts_tpl',['data','target_names','target'])\n",
    "texts = txts_tpl(texts, lables, lables_int)\n",
    "\n",
    "print(len(texts.target))"
   ]
  },
  {
   "cell_type": "code",
   "execution_count": 68,
   "metadata": {
    "collapsed": false
   },
   "outputs": [
    {
     "name": "stdout",
     "output_type": "stream",
     "text": [
      "0 Approved\n",
      "1 Approved\n",
      "2 Approved\n",
      "3 Approved\n",
      "4 Approved\n",
      "5 Other\n",
      "6 Approved\n",
      "7 Approved\n",
      "8 Approved\n",
      "9 Approved\n",
      "10 Approved\n",
      "11 Other\n",
      "12 Approved\n",
      "13 Approved\n",
      "14 Approved\n",
      "15 Approved\n",
      "16 Approved\n",
      "17 Other\n",
      "18 Approved\n",
      "19 Approved\n"
     ]
    }
   ],
   "source": [
    "# Mapping of classes to numbers\n",
    "for i in range(20):\n",
    "    print(i,texts.target_names[i])"
   ]
  },
  {
   "cell_type": "code",
   "execution_count": 69,
   "metadata": {
    "collapsed": false
   },
   "outputs": [
    {
     "data": {
      "text/plain": [
       "\"From: Velasquez, Tyrone\\nSent: Friday, May 12, 2017 8:53 AM\\nTo: Ng, RuBee; Lu, Darryl\\nCc: Le, Wenyi; onetravelretail,\\n\\nIon; Tan, HerWen; Low, Jevon; Shin, Jiwon\\nSubject: RE: Approval Needed - Release TRAVEL\\n\\nRETAIL Order | 2002825715 DFS VENTURE SINGAPORE PTE LTD [SK-II ] 13 May 2017\\n\\nThanks\\n\\nRubee. Approved\\n\\nTyrone\\n\\nTyrone\\n\\nBob C. Velasquez\\n\\nOut\\n\\nof Office (AMJ):\\nLeaves:\\nMay\\n\\n25 / Jun 9, 12-16\\n\\nPublic\\n\\nHolidays:\\n\\nJun\\n\\n26\\n\\nThis electronic message transmission\\n\\ncontains information which may be confidential. The information is intended for\\n\\nthe use of the individual or entity named above. If you are not the intended\\n\\nrecipient, and have received this electronic transmission in error, please\\n\\nnotify sender then delete immediately.\\n\\nThis message may contain Employee\\n\\nPersonally Identifiable Information (PII).\\n\\nBeforesharing this information with an internal or external contact, it\\n\\nis your responsibility to make sure there is a valid business need,that\\n\\ntheinformation is protected and secure during transmission, and that it\\n\\nis handled in accordance with the company's Global Data Privacy Policy at all\\n\\ntimes.\\n\\nFrom: Ng, RuBee \\nSent: Friday, May 12, 2017 2:48 PM\\nTo: Velasquez, Tyrone <velasquez.tc@pg.com>;\\n\\nLu, Darryl <lu.d.6@pg.com>\\nCc: Le, Wenyi <le.w@pg.com>;\\n\\nonetravelretail, Ion <onetravelretail.im@pg.com>;\\n\\nTan, HerWen <tan.hw@pg.com>; Low,\\n\\nJevon <low.j@pg.com>; Shin, Jiwon <shin.jw@pg.com>\\nSubject: RE: Approval Needed - Release TRAVEL RETAIL Order | 2002825715\\n\\nDFS VENTURE SINGAPORE PTE LTD [SK-II ] 13 May 2017\\n\\nHi Tyrone,\\n\\nGood day.\\n\\nFor overdue INV#\\n4872321055 and INV# 4872321038, we have received RA from\\n\\ncustomer that payment has been auto TT on 11- May-17. Currently pend payment to\\n\\nreflect in bank statement.\\n\\n\\n\\nTotal\\n\\noverdue value for 2 invoices : USD 81,192.21\\n\\n\\nRA\\n\\npayment : USD 267,796.76 ( payment value is higher because\\n\\nthis payment include payment for other DFS account as well. There are total 4\\n\\nactive payer code uner DFS)\\n\\n\\nFor Invoice with 0\\n\\narrears, we have received RA from customer as well that the payment will auto\\n\\nTT today 12-May-17.\\n\\n\\nTotal\\n\\ninvoice with 0 arrears : USD\\n\\n408,914.25\\n\\n\\nRA\\n\\npayment : USD 408,914.25\\n\\n\\nThank you.\\n\\nBest Regards,\\nRu Bee\\nProcter & Gamble\\n\\nEurope SA Singapore Branch\\nCustomer Service Asia\\n\\nPrestige\\n\\n\\nPHONE : (65) 6622 1473 | EMAIL: ng.rb@pg.com | \\nGREAT SERVICE comes from the heartY\\n\\nFrom: Velasquez, Tyrone \\nSent: Friday, May 12, 2017 2:33 PM\\nTo: Lu, Darryl <lu.d.6@pg.com>\\nCc: Le, Wenyi <le.w@pg.com>; Ng,\\n\\nRuBee <ng.rb@pg.com>; onetravelretail,\\n\\nIon <onetravelretail.im@pg.com>;\\n\\nTan, HerWen <tan.hw@pg.com>; Low,\\n\\nJevon <low.j@pg.com>; Shin, Jiwon <shin.jw@pg.com>\\nSubject: RE: Approval Needed - Release TRAVEL RETAIL Order | 2002825715\\n\\nDFS VENTURE SINGAPORE PTE LTD [SK-II ] 13 May 2017\\n\\nWhy\\n\\nis payment only 267,796.76 if the overdue (until today) is more than\\n\\nthat\\n\\n\\n\\nTyrone\\n\\nTyrone\\n\\nBob C. Velasquez\\n\\nOut\\n\\nof Office (AMJ):\\nLeaves:\\nMay\\n\\n25 / Jun 9, 12-16\\n\\nPublic\\n\\nHolidays:\\n\\nJun\\n\\n26\\n\\nThis electronic message transmission\\n\\ncontains information which may be confidential. The information is intended for\\n\\nthe use of the individual or entity named above. If you are not the intended\\n\\nrecipient, and have received this electronic transmission in error, please\\n\\nnotify sender then delete immediately.\\n\\nThis message may contain Employee\\n\\nPersonally Identifiable Information (PII).\\n\\nBeforesharing this information with an internal or external contact, it\\n\\nis your responsibility to make sure there is a valid business need,that\\n\\ntheinformation is protected and secure during transmission, and that it\\n\\nis handled in accordance with the company's Global Data Privacy Policy at all\\n\\ntimes.\\n\\nFrom: Lu, Darryl \\nSent: Friday, May 12, 2017 2:27 PM\\nTo: Velasquez, Tyrone <velasquez.tc@pg.com>\\nCc: Le, Wenyi <le.w@pg.com>; Ng,\\n\\nRuBee <ng.rb@pg.com>; onetravelretail,\\n\\nIon <onetravelretail.im@pg.com>;\\n\\nTan, HerWen <tan.hw@pg.com>; Low,\\n\\nJevon <low.j@pg.com>; Shin, Jiwon <shin.jw@pg.com>; Lu, Darryl <lu.d.6@pg.com>\\nSubject: Approval Needed - Release TRAVEL RETAIL Order | 2002825715 DFS\\n\\nVENTURE SINGAPORE PTE LTD [SK-II ] 13 May 2017\\n\\nDear Tyrone,\\nThis seeks for your approval\\n\\nto release order for TRAVEL RETAIL Order | 2002825715 DFS VENTURE\\n\\nSINGAPORE PTE LTD [SK-II ] 13 May 2017\\n\\nOrder to be\\n\\n  released\\n\\n  :\\nUSD\\n65,696.00\\nReason for order on\\n\\n  hold : \\nOverdue Invoices\\nExceeded Credit\\n\\n  Limit\\n\\n  : \\nUSD\\nNil\\nUsed\\n50.57 %\\nReason for CL\\n\\n  exceed\\n\\n  : \\nNil\\nOverdue\\n\\n  invoice(s)\\n\\n  : \\n81,192.21\\nPayment commitment\\n\\n  date :\\nPayment in transit. Customer\\n\\n  arrange payment on 11 May. Attached RA for your reference\\nLatest\\n\\n  Payscore\\n\\n  :\\n\\nFYTD 15/16\\nNA\\n\\n\\nOrders on Hold: \\n\\nF.35  A6P (USD):\\n\\nFBL5  A6P (USD) : \\n\\n\\n\\n\\nBest\\n\\nRegards, \\nDarryl\\n\\nLu\\n\\n(OM\\n\\nAnalyst - Customer Service Operation)\\nP&G\\n\\nEurope SA SG branch\\nEmail: lu.d.6@pg.com\\nThis electronic message transmission contains information which may be\\n\\nconfidential. The information is intended for the use of the individual or\\n\\nentity named above. If you are not the intended recipient, and have received\\n\\nthis electronic transmission in error, please notify sender then delete\\n\\nimmediately.\""
      ]
     },
     "execution_count": 69,
     "metadata": {},
     "output_type": "execute_result"
    }
   ],
   "source": [
    "texts.data[0]"
   ]
  },
  {
   "cell_type": "code",
   "execution_count": 70,
   "metadata": {
    "collapsed": false
   },
   "outputs": [
    {
     "name": "stdout",
     "output_type": "stream",
     "text": [
      "['from', ':', 'velasquez', ',', 'tyrone', 'sent', ':', 'friday', ',', 'may', '12', ',', '2017', '8:53', 'am', 'to', ':', 'ng', ',', 'rubee', ';', 'lu', ',', 'darryl', 'cc', ':', 'le', ',', 'wenyi', ';', 'onetravelretail', ',', 'ion', ';', 'tan', ',', 'herwen', ';', 'low', ',', 'jevon', ';', 'shin', ',', 'jiwon', 'subject', ':', 're', ':', 'approval', 'needed', '-', 'release', 'travel', 'retail', 'order', '|', '2002825715', 'dfs', 'venture', 'singapore', 'pte', 'ltd', '[', 'sk-ii', ']', '13', 'may', '2017', 'thanks', 'rubee', '.', 'approved', 'tyrone', 'tyrone', 'bob', 'c.', 'velasquez', 'out', 'of', 'office', '(', 'amj', ')', ':', 'leaves', ':', 'may', '25', '/', 'jun', '9', ',', '12-16', 'public', 'holidays', ':', 'jun', '26', 'this', 'electronic', 'message', 'transmission', 'contains', 'information', 'which', 'may', 'be', 'confidential', '.', 'the', 'information', 'is', 'intended', 'for', 'the', 'use', 'of', 'the', 'individual', 'or', 'entity', 'named', 'above', '.', 'if', 'you', 'are', 'not', 'the', 'intended', 'recipient', ',', 'and', 'have', 'received', 'this', 'electronic', 'transmission', 'in', 'error', ',', 'please', 'notify', 'sender', 'then', 'delete', 'immediately', '.', 'this', 'message', 'may', 'contain', 'employee', 'personally', 'identifiable', 'information', '(', 'pii', ')', '.', 'beforesharing', 'this', 'information', 'with', 'an', 'internal', 'or', 'external', 'contact', ',', 'it', 'is', 'your', 'responsibility', 'to', 'make', 'sure', 'there', 'is', 'a', 'valid', 'business', 'need', ',', 'that', 'theinformation', 'is', 'protected', 'and', 'secure', 'during', 'transmission', ',', 'and', 'that', 'it', 'is', 'handled', 'in', 'accordance', 'with', 'the', 'company', \"'s\", 'global', 'data', 'privacy', 'policy', 'at', 'all', 'times', '.', 'from', ':', 'ng', ',', 'rubee', 'sent', ':', 'friday', ',', 'may', '12', ',', '2017', '2:48', 'pm', 'to', ':', 'velasquez', ',', 'tyrone', '<', 'velasquez.tc', '@', 'pg.com', '>', ';', 'lu', ',', 'darryl', '<', 'lu.d.6', '@', 'pg.com', '>', 'cc', ':', 'le', ',', 'wenyi', '<', 'le.w', '@', 'pg.com', '>', ';', 'onetravelretail', ',', 'ion', '<', 'onetravelretail.im', '@', 'pg.com', '>', ';', 'tan', ',', 'herwen', '<', 'tan.hw', '@', 'pg.com', '>', ';', 'low', ',', 'jevon', '<', 'low.j', '@', 'pg.com', '>', ';', 'shin', ',', 'jiwon', '<', 'shin.jw', '@', 'pg.com', '>', 'subject', ':', 're', ':', 'approval', 'needed', '-', 'release', 'travel', 'retail', 'order', '|', '2002825715', 'dfs', 'venture', 'singapore', 'pte', 'ltd', '[', 'sk-ii', ']', '13', 'may', '2017', 'hi', 'tyrone', ',', 'good', 'day', '.', 'for', 'overdue', 'inv', '#', '4872321055', 'and', 'inv', '#', '4872321038', ',', 'we', 'have', 'received', 'ra', 'from', 'customer', 'that', 'payment', 'has', 'been', 'auto', 'tt', 'on', '11-', 'may-17', '.', 'currently', 'pend', 'payment', 'to', 'reflect', 'in', 'bank', 'statement', '.', 'total', 'overdue', 'value', 'for', '2', 'invoices', ':', 'usd', '81,192.21', 'ra', 'payment', ':', 'usd', '267,796.76', '(', 'payment', 'value', 'is', 'higher', 'because', 'this', 'payment', 'include', 'payment', 'for', 'other', 'dfs', 'account', 'as', 'well', '.', 'there', 'are', 'total', '4', 'active', 'payer', 'code', 'uner', 'dfs', ')', 'for', 'invoice', 'with', '0', 'arrears', ',', 'we', 'have', 'received', 'ra', 'from', 'customer', 'as', 'well', 'that', 'the', 'payment', 'will', 'auto', 'tt', 'today', '12-may-17', '.', 'total', 'invoice', 'with', '0', 'arrears', ':', 'usd', '408,914.25', 'ra', 'payment', ':', 'usd', '408,914.25', 'thank', 'you', '.', 'best', 'regards', ',', 'ru', 'bee', 'procter', '&', 'gamble', 'europe', 'sa', 'singapore', 'branch', 'customer', 'service', 'asia', 'prestige', 'phone', ':', '(', '65', ')', '6622', '1473', '|', 'email', ':', 'ng.rb', '@', 'pg.com', '|', 'great', 'service', 'comes', 'from', 'the', 'hearty', 'from', ':', 'velasquez', ',', 'tyrone', 'sent', ':', 'friday', ',', 'may', '12', ',', '2017', '2:33', 'pm', 'to', ':', 'lu', ',', 'darryl', '<', 'lu.d.6', '@', 'pg.com', '>', 'cc', ':', 'le', ',', 'wenyi', '<', 'le.w', '@', 'pg.com', '>', ';', 'ng', ',', 'rubee', '<', 'ng.rb', '@', 'pg.com', '>', ';', 'onetravelretail', ',', 'ion', '<', 'onetravelretail.im', '@', 'pg.com', '>', ';', 'tan', ',', 'herwen', '<', 'tan.hw', '@', 'pg.com', '>', ';', 'low', ',', 'jevon', '<', 'low.j', '@', 'pg.com', '>', ';', 'shin', ',', 'jiwon', '<', 'shin.jw', '@', 'pg.com', '>', 'subject', ':', 're', ':', 'approval', 'needed', '-', 'release', 'travel', 'retail', 'order', '|', '2002825715', 'dfs', 'venture', 'singapore', 'pte', 'ltd', '[', 'sk-ii', ']', '13', 'may', '2017', 'why', 'is', 'payment', 'only', '267,796.76', 'if', 'the', 'overdue', '(', 'until', 'today', ')', 'is', 'more', 'than', 'that', 'tyrone', 'tyrone', 'bob', 'c.', 'velasquez', 'out', 'of', 'office', '(', 'amj', ')', ':', 'leaves', ':', 'may', '25', '/', 'jun', '9', ',', '12-16', 'public', 'holidays', ':', 'jun', '26', 'this', 'electronic', 'message', 'transmission', 'contains', 'information', 'which', 'may', 'be', 'confidential', '.', 'the', 'information', 'is', 'intended', 'for', 'the', 'use', 'of', 'the', 'individual', 'or', 'entity', 'named', 'above', '.', 'if', 'you', 'are', 'not', 'the', 'intended', 'recipient', ',', 'and', 'have', 'received', 'this', 'electronic', 'transmission', 'in', 'error', ',', 'please', 'notify', 'sender', 'then', 'delete', 'immediately', '.', 'this', 'message', 'may', 'contain', 'employee', 'personally', 'identifiable', 'information', '(', 'pii', ')', '.', 'beforesharing', 'this', 'information', 'with', 'an', 'internal', 'or', 'external', 'contact', ',', 'it', 'is', 'your', 'responsibility', 'to', 'make', 'sure', 'there', 'is', 'a', 'valid', 'business', 'need', ',', 'that', 'theinformation', 'is', 'protected', 'and', 'secure', 'during', 'transmission', ',', 'and', 'that', 'it', 'is', 'handled', 'in', 'accordance', 'with', 'the', 'company', \"'s\", 'global', 'data', 'privacy', 'policy', 'at', 'all', 'times', '.', 'from', ':', 'lu', ',', 'darryl', 'sent', ':', 'friday', ',', 'may', '12', ',', '2017', '2:27', 'pm', 'to', ':', 'velasquez', ',', 'tyrone', '<', 'velasquez.tc', '@', 'pg.com', '>', 'cc', ':', 'le', ',', 'wenyi', '<', 'le.w', '@', 'pg.com', '>', ';', 'ng', ',', 'rubee', '<', 'ng.rb', '@', 'pg.com', '>', ';', 'onetravelretail', ',', 'ion', '<', 'onetravelretail.im', '@', 'pg.com', '>', ';', 'tan', ',', 'herwen', '<', 'tan.hw', '@', 'pg.com', '>', ';', 'low', ',', 'jevon', '<', 'low.j', '@', 'pg.com', '>', ';', 'shin', ',', 'jiwon', '<', 'shin.jw', '@', 'pg.com', '>', ';', 'lu', ',', 'darryl', '<', 'lu.d.6', '@', 'pg.com', '>', 'subject', ':', 'approval', 'needed', '-', 'release', 'travel', 'retail', 'order', '|', '2002825715', 'dfs', 'venture', 'singapore', 'pte', 'ltd', '[', 'sk-ii', ']', '13', 'may', '2017', 'dear', 'tyrone', ',', 'this', 'seeks', 'for', 'your', 'approval', 'to', 'release', 'order', 'for', 'travel', 'retail', 'order', '|', '2002825715', 'dfs', 'venture', 'singapore', 'pte', 'ltd', '[', 'sk-ii', ']', '13', 'may', '2017', 'order', 'to', 'be', 'released', ':', 'usd', '65,696.00', 'reason', 'for', 'order', 'on', 'hold', ':', 'overdue', 'invoices', 'exceeded', 'credit', 'limit', ':', 'usd', 'nil', 'used', '50.57', '%', 'reason', 'for', 'cl', 'exceed', ':', 'nil', 'overdue', 'invoice', '(', 's', ')', ':', '81,192.21', 'payment', 'commitment', 'date', ':', 'payment', 'in', 'transit', '.', 'customer', 'arrange', 'payment', 'on', '11', 'may', '.', 'attached', 'ra', 'for', 'your', 'reference', 'latest', 'payscore', ':', 'fytd', '15/16', 'na', 'orders', 'on', 'hold', ':', 'f.35', 'a6p', '(', 'usd', ')', ':', 'fbl5', 'a6p', '(', 'usd', ')', ':', 'best', 'regards', ',', 'darryl', 'lu', '(', 'om', 'analyst', '-', 'customer', 'service', 'operation', ')', 'p', '&', 'g', 'europe', 'sa', 'sg', 'branch', 'email', ':', 'lu.d.6', '@', 'pg.com', 'this', 'electronic', 'message', 'transmission', 'contains', 'information', 'which', 'may', 'be', 'confidential', '.', 'the', 'information', 'is', 'intended', 'for', 'the', 'use', 'of', 'the', 'individual', 'or', 'entity', 'named', 'above', '.', 'if', 'you', 'are', 'not', 'the', 'intended', 'recipient', ',', 'and', 'have', 'received', 'this', 'electronic', 'transmission', 'in', 'error', ',', 'please', 'notify', 'sender', 'then', 'delete', 'immediately', '.']\n"
     ]
    }
   ],
   "source": [
    "# TextBlob automatically tokenizes\n",
    "# https://github.com/sloria/TextBlob/blob/dev/textblob/classifiers.py\n",
    "from textblob.tokenizers import word_tokenize\n",
    "print(list(word_tokenize(texts.data[0].lower())))"
   ]
  },
  {
   "cell_type": "code",
   "execution_count": 57,
   "metadata": {
    "collapsed": false
   },
   "outputs": [
    {
     "name": "stdout",
     "output_type": "stream",
     "text": [
      "The size of vocabulary is:  1767\n",
      "['service', 'sk2', 'june', '2ml', 'wingyan.c', 'march', 'stock', 'cream', 'pls', 'code', 'mask', 'operations', 'teo', 'ship', 'tr', 'ng.rb', 'kindly', 'us', 'operation', 'check']\n",
      "('wu david 25 ginny seek tw jun incentive ginny 25 wu david wu.da.2 wingyan.c seek tw jun incentive david reseek jun incentive due code change drop accordingly 25 ginny liang.gl.1 seek tw jun incentive ginny code change kindly reseek amended form nice day analyst service operation ginny 25 seek tw jun incentive need resend case 25 10:16 ginny liang.gl.1 wu david wu.da.2 wingyan.c seek tw jun incentive ginny pls see update incentive proceed except ww sku cant ship pls asia sku instead ean code product description unit cost total cost quantity gcas stock ctmz ever rich sk2 aa ageless beauty cream duo set rna crm 24 sk2 rna pwr rdcl age ess duo set rna ess 24 4979006052404 330ml 9.46 82248447 4979006067088 r.n.a.power radical age cream 100g 60 82248646 mask deluxe set 24 cant shipped stock 4979006067118 r.n.a.power radical age 75ml 82248670 4979006595840 mask 10pcs 82248437 4979006045635 250ml 7.83 60 82248444 4979006620344 mask 6pcs 3.87 82247494 4979006070071 160ml 200 82252508 incentive proceed ean code product description unit cost total cost quantity gcas stock 4979006049626 gentle cleanser 120g 3.23 14 82247382 4979006067118 r.n.a.power radical age 75ml 14 82248670 4979006067057 rna eye cream 15g 3.46 14 82249240 4979006052404 330ml 9.46 14 82248447 4979006067088 r.n.a.power radical age cream 100g 10 82248646 4979006595840 mask 10pcs 10 82248437 anne g. nio global tr intl operations 6712 4022 ginny 23 wu david wu.da.2 wingyan.c seek tw jun incentive david seek jun incentive check supply drop accordingly', 'Other')\n"
     ]
    }
   ],
   "source": [
    "num_training = int(len(texts.data) * 0.8)\n",
    "num_testing = len(texts.data) - num_training\n",
    "\n",
    "# first get vocabulary. We are creating a vocabulary to limit the features,\n",
    "# since each word will eventually be a feature.\n",
    "# https://docs.python.org/2/library/collections.html#collections.Counter\n",
    "all_text = ''\n",
    "for i in range(num_training):\n",
    "    all_text += texts.data[i].lower()\n",
    "\n",
    "    \n",
    "\n",
    "_stopwords = set(stopwords.words('english') + list(punctuation) + \n",
    "                 [\"pg.com\", \"from\", \"sent\", \"cc\", \"please\", \"thank\"])\n",
    "    \n",
    "# make a list of words, we need to tokenize ourselves to get this list\n",
    "from nltk.tokenize import word_tokenize\n",
    "tokens = word_tokenize(all_text)\n",
    "# stemmer.stem(token)\n",
    "tokens = [token.lower() for token in tokens if token.lower() not in _stopwords]\n",
    "\n",
    "# get the most common words\n",
    "import collections\n",
    "cnt = collections.Counter(tokens).most_common()\n",
    "vocab = [k for k,v in cnt if v >= 5 and v <= int(len(texts.data)*0.8)]\n",
    "print(\"The size of vocabulary is: \", len(vocab))\n",
    "print(vocab[:20])\n",
    "# checking in a set is much faster than checking in a list\n",
    "vocab = set(vocab)\n",
    "\n",
    "# Now create the training and testing data, filtering out words not in our vocabulary\n",
    "# This is important because each word is a feature, and you don't want too many features\n",
    "training_data = []\n",
    "for i in range(num_training):\n",
    "    tokens = word_tokenize(texts.data[i])\n",
    "    item_text = ' '.join([t.lower() for t in tokens if t.lower() in vocab])\n",
    "    training_data.append((item_text,texts.target_names[texts.target[i]]))\n",
    "testing_data = []\n",
    "for i in range(num_training,num_training+num_testing):\n",
    "    tokens = word_tokenize(texts.data[i])\n",
    "    item_text = ' '.join([t.lower() for t in tokens if t.lower() in vocab])\n",
    "    testing_data.append((item_text,texts.target_names[texts.target[i]]))\n",
    "print(training_data[0])"
   ]
  },
  {
   "cell_type": "code",
   "execution_count": 58,
   "metadata": {
    "collapsed": true
   },
   "outputs": [],
   "source": [
    "# The standard TextBlob Naive Bayes classifier re-parses the whole text of the corpus\n",
    "# for each record. This makes it slow. I fixed that and included the fix in the\n",
    "# course materials\n",
    "#from textblob.classifiers import NaiveBayesClassifier\n",
    "from our_textblob_classifiers import NaiveBayesClassifier\n",
    "\n",
    "# Train. Takes a while\n",
    "cl = NaiveBayesClassifier(training_data)"
   ]
  },
  {
   "cell_type": "code",
   "execution_count": 59,
   "metadata": {
    "collapsed": false
   },
   "outputs": [
    {
     "name": "stdout",
     "output_type": "stream",
     "text": [
      "Most Informative Features\n",
      "         contains(avoid) = True           Approv : Other  =     20.9 : 1.0\n",
      "       contains(related) = True           Approv : Other  =     20.9 : 1.0\n",
      "        contains(result) = True           Approv : Other  =     17.7 : 1.0\n",
      "        contains(direct) = True           Approv : Other  =     17.7 : 1.0\n",
      "        contains(packed) = True           Approv : Other  =     17.7 : 1.0\n",
      "       contains(matters) = True           Approv : Other  =     17.7 : 1.0\n",
      "     contains(regarding) = True           Approv : Other  =     17.7 : 1.0\n",
      "         contains(12:19) = True           Approv : Other  =     14.4 : 1.0\n",
      "         contains(click) = True           Approv : Other  =     14.4 : 1.0\n",
      "        contains(access) = True           Approv : Other  =     14.4 : 1.0\n",
      "  contains(image004.jpg) = True           Approv : Other  =     14.4 : 1.0\n",
      "        contains(placed) = True           Approv : Other  =     14.4 : 1.0\n",
      "          contains(cuts) = True           Approv : Other  =     14.4 : 1.0\n",
      "     contains(companies) = True           Approv : Other  =     14.4 : 1.0\n",
      "       contains(costing) = True           Approv : Other  =     14.4 : 1.0\n",
      "          contains(http) = True           Approv : Other  =     14.4 : 1.0\n",
      "       contains(towards) = True           Approv : Other  =     14.4 : 1.0\n",
      "          contains(7:51) = True           Approv : Other  =     14.4 : 1.0\n",
      "   contains(opportunity) = True           Approv : Other  =     14.4 : 1.0\n",
      "       contains(freight) = True           Approv : Other  =     14.4 : 1.0\n"
     ]
    }
   ],
   "source": [
    "# Shows what the features look like and what the important ones are\n",
    "# Very helpful for debugging and understanding data\n",
    "cl.show_informative_features(20)"
   ]
  },
  {
   "cell_type": "code",
   "execution_count": 60,
   "metadata": {
    "collapsed": false
   },
   "outputs": [
    {
     "name": "stdout",
     "output_type": "stream",
     "text": [
      "Accuracy:  0.7692307692307693\n"
     ]
    }
   ],
   "source": [
    "# Pretty good, baseline is 5% because we have 20 classes\n",
    "print(\"Accuracy: \", cl.accuracy(testing_data))"
   ]
  },
  {
   "cell_type": "code",
   "execution_count": 64,
   "metadata": {
    "collapsed": false
   },
   "outputs": [
    {
     "data": {
      "text/plain": [
       "'Other'"
      ]
     },
     "execution_count": 64,
     "metadata": {},
     "output_type": "execute_result"
    }
   ],
   "source": [
    "testDoc = r'C:\\Users\\Artur_Zahreba\\Desktop\\WorkFusion\\P&G\\sample email June 15\\Emails\\Q\\TEST\\RE Approval DFS HPP Qty Split - DFS OKI.txt'\n",
    "with open(testDoc, 'r') as ffile:\n",
    "    testText = ffile.read()\n",
    "# Weird thing, it doesn't work well for short sentences.\n",
    "# Maybe can't overcome prior because it was trained on longer texts.\n",
    "cl.classify(testText)"
   ]
  },
  {
   "cell_type": "code",
   "execution_count": 65,
   "metadata": {
    "collapsed": false
   },
   "outputs": [
    {
     "name": "stdout",
     "output_type": "stream",
     "text": [
      "behalf 27 ond jfm allowance processed eta analyst service operation 27 chia.ic f\n",
      "Predicted: Other, Actual: Other\n",
      "september 29 2016 ho soriano paul toll asia operations quek josephine honghupron\n",
      "Predicted: Other, Actual: Approved\n",
      "jevon june 5 le wenyi shin jiwon chan meilay dietrich wendi 2002587038 america 0\n",
      "Predicted: Other, Actual: Other\n",
      "ginny march 31 chai winnie location set apr request ship alone since theres oos \n",
      "Predicted: Approved, Actual: Other\n",
      "march 14 chai winnie soriano paul chan meilay honghupronnie ayard henri ginny lo\n",
      "Predicted: Approved, Actual: Other\n",
      "27 5:24 ond jfm allowance told stocks tomorrow tomorrow instead 27 chia.ic fw on\n",
      "Predicted: Other, Actual: Other\n",
      "shin jiwon march 31 jevon chan meilay pannese marianna retail| logistics 31 mar \n",
      "Predicted: Other, Actual: Other\n",
      "shin jiwon 6 dietrich wendi jevon chan meilay 2002708880 starboard cruise servic\n",
      "Predicted: Other, Actual: Other\n",
      "koh yueee 17 sharma shweta jevon shin jiwon chan meilay tr delay due payment tim\n",
      "Predicted: Other, Actual: Approved\n",
      "wu david 17 ginny seek apr incentive 17 wu david wu.da.2 ginny liang.gl.1 seek a\n",
      "Predicted: Other, Actual: Other\n"
     ]
    }
   ],
   "source": [
    "# We see it does better with the full text\n",
    "for t in testing_data[:10]:\n",
    "    print(t[0][:80])\n",
    "    print(\"Predicted: {}, Actual: {}\".format(cl.classify(t[0]),t[1]))"
   ]
  },
  {
   "cell_type": "markdown",
   "metadata": {},
   "source": [
    "## Exercise: play with the hyperparameters (like the vocabulary size), and see if you can improve the performance."
   ]
  }
 ],
 "metadata": {
  "kernelspec": {
   "display_name": "Python 3",
   "language": "python",
   "name": "python3"
  },
  "language_info": {
   "codemirror_mode": {
    "name": "ipython",
    "version": 3
   },
   "file_extension": ".py",
   "mimetype": "text/x-python",
   "name": "python",
   "nbconvert_exporter": "python",
   "pygments_lexer": "ipython3",
   "version": "3.6.1"
  }
 },
 "nbformat": 4,
 "nbformat_minor": 1
}
