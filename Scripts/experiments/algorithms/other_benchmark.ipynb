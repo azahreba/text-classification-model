{
 "cells": [
  {
   "cell_type": "code",
   "execution_count": 27,
   "metadata": {
    "collapsed": true
   },
   "outputs": [],
   "source": [
    "import re\n",
    "import random\n",
    "import collections\n",
    "\n",
    "from os import listdir\n",
    "\n",
    "from nltk.corpus import stopwords\n",
    "from string import punctuation\n",
    "\n",
    "from nltk.stem.snowball import SnowballStemmer\n",
    "stemmer = SnowballStemmer(language='english', ignore_stopwords=True)"
   ]
  },
  {
   "cell_type": "code",
   "execution_count": 28,
   "metadata": {
    "collapsed": false
   },
   "outputs": [
    {
     "name": "stdout",
     "output_type": "stream",
     "text": [
      "737\n"
     ]
    }
   ],
   "source": [
    "doc_path = r'C:\\Users\\Artur_Zahreba\\Desktop\\WorkFusion\\P&G\\Approval By Email\\Training Set\\v5\\Training Set\\ALL_FIXED'\n",
    "\n",
    "doc_types = sorted(listdir(doc_path))\n",
    "\n",
    "doc_texts = []\n",
    "\n",
    "for doc_type in doc_types:\n",
    "    filenames = sorted(listdir(doc_path + '\\\\' + doc_type))\n",
    "    filenames = filter(lambda x: re.search(r'\\.txt$', x), filenames)\n",
    "    for filename in filenames:\n",
    "        with open(doc_path + '\\\\' + doc_type + '\\\\' + filename, 'r') as ffile:\n",
    "            txt = ffile.read()\n",
    "            doc_texts.append((doc_type, filename, txt))\n",
    "            ffile.close()\n",
    "\n",
    "random.shuffle(doc_texts)            \n",
    "lables, _, texts = zip(*doc_texts)\n",
    "texts = (texts)\n",
    "\n",
    "lable_dict = dict(zip(list(set(lables)), range(len(set(lables)))))\n",
    "\n",
    "lables_int = list(map(lambda x: lable_dict[x], lables))\n",
    "\n",
    "txts_tpl = collections.namedtuple('txts_tpl',['data','target_names','target'])\n",
    "texts = txts_tpl(texts, lables, lables_int)\n",
    "\n",
    "print(len(texts.target))"
   ]
  },
  {
   "cell_type": "code",
   "execution_count": 29,
   "metadata": {
    "collapsed": true
   },
   "outputs": [],
   "source": [
    "# Define a get minibatch that returns just a little of the data at a time\n",
    "# If storing the data on disk, data_idx could be a file pointer\n",
    "\n",
    "BATCH_SIZE = 32\n",
    "# data_idx - pointer to current record\n",
    "# texts - dataset\n",
    "\n",
    "def get_batch(data_idx, texts):\n",
    "    # Need it as a list of x and a list of y\n",
    "    data_x, data_y = [],[]\n",
    "    for t in range(BATCH_SIZE):\n",
    "        # We will loop through the data multiple times\n",
    "        if data_idx == len(texts.data):\n",
    "            return [], [], 0\n",
    "        data_x.append(texts.data[data_idx])\n",
    "        data_y.append(texts.target[data_idx])\n",
    "        data_idx += 1\n",
    "    return data_x, data_y, data_idx\n",
    "\n",
    "# start with index 0\n",
    "data_idx = 0"
   ]
  },
  {
   "cell_type": "code",
   "execution_count": 30,
   "metadata": {
    "collapsed": true
   },
   "outputs": [],
   "source": [
    "import numpy as np\n",
    "\n",
    "from sklearn.feature_extraction.text import HashingVectorizer\n",
    "from sklearn.linear_model import SGDClassifier\n",
    "from sklearn.linear_model import PassiveAggressiveClassifier\n",
    "from sklearn.linear_model import Perceptron\n",
    "from sklearn.naive_bayes import MultinomialNB"
   ]
  },
  {
   "cell_type": "code",
   "execution_count": 31,
   "metadata": {
    "collapsed": true
   },
   "outputs": [],
   "source": [
    "# Uses hashing trick: Instead of creating a dictionary and associating each\n",
    "# word with an index i, the index for a word w is computed using a hashing\n",
    "# function h. i = h(w) mod n_features\n",
    "vectorizer = HashingVectorizer(\n",
    "    decode_error='ignore', \n",
    "    n_features=2 ** 18,\n",
    "    non_negative=True\n",
    ")"
   ]
  },
  {
   "cell_type": "code",
   "execution_count": 32,
   "metadata": {
    "collapsed": true
   },
   "outputs": [],
   "source": [
    "# number of classes\n",
    "all_classes = np.array(range(2))"
   ]
  },
  {
   "cell_type": "code",
   "execution_count": 33,
   "metadata": {
    "collapsed": true
   },
   "outputs": [],
   "source": [
    "# Let's try four different classifiers\n",
    "partial_fit_classifiers = {\n",
    "    'SGD': SGDClassifier(), # An SVM\n",
    "    'Perceptron': Perceptron(),\n",
    "    'NB Multinomial': MultinomialNB(alpha=0.01), # ignores non-occuring features\n",
    "    'Passive-Aggressive': PassiveAggressiveClassifier(), # for large-scale learning\n",
    "}"
   ]
  },
  {
   "cell_type": "code",
   "execution_count": 34,
   "metadata": {
    "collapsed": true
   },
   "outputs": [],
   "source": [
    "# First we hold out a number of examples to estimate accuracy\n",
    "n_test_documents = BATCH_SIZE\n",
    "X_test_text = []\n",
    "y_test = []\n",
    "for i in range(6):\n",
    "    _X_test_text, _y_test, data_idx = get_batch(data_idx, texts)\n",
    "    X_test_text.extend(_X_test_text)\n",
    "    y_test.extend((_y_test))"
   ]
  },
  {
   "cell_type": "code",
   "execution_count": 35,
   "metadata": {
    "collapsed": false
   },
   "outputs": [
    {
     "data": {
      "text/plain": [
       "(192, 262144)"
      ]
     },
     "execution_count": 35,
     "metadata": {},
     "output_type": "execute_result"
    }
   ],
   "source": [
    "# Convert the test data into features    \n",
    "X_test = vectorizer.transform(X_test_text)\n",
    "X_test.shape"
   ]
  },
  {
   "cell_type": "code",
   "execution_count": 36,
   "metadata": {
    "collapsed": true
   },
   "outputs": [],
   "source": [
    "# Create some structure to store statistics\n",
    "def progress(cls_name, stats):\n",
    "    \"\"\"Report progress information, return a string.\"\"\"\n",
    "    s = \"%20s classifier : \\t\" % cls_name\n",
    "    s += \"accuracy: %(accuracy).3f \" % stats\n",
    "    return s\n",
    "\n",
    "cls_stats = {}\n",
    "for cls_name in partial_fit_classifiers:\n",
    "    stats = {'n_train': 0, 'n_train_pos': 0,\n",
    "             'accuracy': 0.0, 'accuracy_history': [(0, 0)]}\n",
    "    cls_stats[cls_name] = stats"
   ]
  },
  {
   "cell_type": "code",
   "execution_count": 37,
   "metadata": {
    "collapsed": false
   },
   "outputs": [
    {
     "name": "stdout",
     "output_type": "stream",
     "text": [
      "  Passive-Aggressive classifier : \taccuracy: 0.776 \n",
      "          Perceptron classifier : \taccuracy: 0.734 \n",
      "                 SGD classifier : \taccuracy: 0.693 \n",
      "      NB Multinomial classifier : \taccuracy: 0.776 \n",
      "\n",
      "\n",
      "  Passive-Aggressive classifier : \taccuracy: 0.776 \n",
      "          Perceptron classifier : \taccuracy: 0.771 \n",
      "                 SGD classifier : \taccuracy: 0.802 \n",
      "      NB Multinomial classifier : \taccuracy: 0.776 \n",
      "\n",
      "\n",
      "  Passive-Aggressive classifier : \taccuracy: 0.818 \n",
      "          Perceptron classifier : \taccuracy: 0.760 \n",
      "                 SGD classifier : \taccuracy: 0.755 \n",
      "      NB Multinomial classifier : \taccuracy: 0.776 \n",
      "\n",
      "\n",
      "  Passive-Aggressive classifier : \taccuracy: 0.823 \n",
      "          Perceptron classifier : \taccuracy: 0.651 \n",
      "                 SGD classifier : \taccuracy: 0.729 \n",
      "      NB Multinomial classifier : \taccuracy: 0.776 \n",
      "\n",
      "\n",
      "  Passive-Aggressive classifier : \taccuracy: 0.797 \n",
      "          Perceptron classifier : \taccuracy: 0.755 \n",
      "                 SGD classifier : \taccuracy: 0.755 \n",
      "      NB Multinomial classifier : \taccuracy: 0.776 \n",
      "\n",
      "\n"
     ]
    }
   ],
   "source": [
    "# Main loop : iterate on mini-batches of examples\n",
    "X_train_text, y_train, data_idx = get_batch(data_idx, texts)\n",
    "\n",
    "loop_count = 0\n",
    "while len(X_train_text) > 0:\n",
    "    \n",
    "    loop_count += 1\n",
    "    \n",
    "    # vectorize train data\n",
    "    X_train = vectorizer.transform(X_train_text)\n",
    "\n",
    "    for cls_name, cls in partial_fit_classifiers.items():\n",
    "\n",
    "        # update estimator with examples in the current mini-batch\n",
    "        cls.partial_fit(X_train, y_train, classes=all_classes)\n",
    "\n",
    "        # accumulate test accuracy stats\n",
    "        cls_stats[cls_name]['n_train'] += X_train.shape[0]\n",
    "        cls_stats[cls_name]['n_train_pos'] += sum(y_train)\n",
    "        cls_stats[cls_name]['accuracy'] = cls.score(X_test, y_test)\n",
    "        acc_history = (cls_stats[cls_name]['accuracy'],\n",
    "                       cls_stats[cls_name]['n_train'])\n",
    "        cls_stats[cls_name]['accuracy_history'].append(acc_history)\n",
    "\n",
    "        if loop_count % 3 == 0:\n",
    "            print(progress(cls_name, cls_stats[cls_name]))\n",
    "    if loop_count % 3 == 0:\n",
    "        print('\\n')\n",
    "        \n",
    "    X_train_text, y_train, data_idx = get_batch(data_idx, texts)\n",
    "        \n",
    "# Getting divide by 0 because in some calls not all classes are represented\n",
    "# http://stackoverflow.com/questions/32697093/errors-encountered-in-partial-fit-in-scikit-learn"
   ]
  },
  {
   "cell_type": "code",
   "execution_count": 38,
   "metadata": {
    "collapsed": false
   },
   "outputs": [
    {
     "data": {
      "text/plain": [
       "<matplotlib.legend.Legend at 0x9f96b38>"
      ]
     },
     "execution_count": 38,
     "metadata": {},
     "output_type": "execute_result"
    },
    {
     "data": {
      "image/png": "[encoded data removed]",
      "text/plain": [
       "<matplotlib.figure.Figure at 0xcae3f28>"
      ]
     },
     "metadata": {},
     "output_type": "display_data"
    }
   ],
   "source": [
    "%matplotlib inline \n",
    "import matplotlib.pyplot as plt\n",
    "from matplotlib import rcParams\n",
    "\n",
    "def plot_accuracy(x, y, x_legend):\n",
    "    \"\"\"Plot accuracy as a function of x.\"\"\"\n",
    "    x = np.array(x)\n",
    "    y = np.array(y)\n",
    "    plt.title('Classification accuracy as a function of %s' % x_legend)\n",
    "    plt.xlabel('%s' % x_legend)\n",
    "    plt.ylabel('Accuracy')\n",
    "    plt.grid(True)\n",
    "    plt.plot(x, y)\n",
    "\n",
    "rcParams['legend.fontsize'] = 10\n",
    "cls_names = list(sorted(cls_stats.keys()))\n",
    "\n",
    "# Plot accuracy evolution\n",
    "plt.figure()\n",
    "for _, stats in sorted(cls_stats.items()):\n",
    "    # Plot accuracy evolution with #examples\n",
    "    accuracy, n_examples = zip(*stats['accuracy_history'])\n",
    "    plot_accuracy(n_examples, accuracy, \"training examples (#)\")\n",
    "    ax = plt.gca()\n",
    "    ax.set_ylim((0.8, 1))\n",
    "plt.legend(cls_names, loc='best')"
   ]
  },
  {
   "cell_type": "code",
   "execution_count": null,
   "metadata": {
    "collapsed": true
   },
   "outputs": [],
   "source": []
  }
 ],
 "metadata": {
  "kernelspec": {
   "display_name": "Python 2",
   "language": "python",
   "name": "python2"
  },
  "language_info": {
   "codemirror_mode": {
    "name": "ipython",
    "version": 2
   },
   "file_extension": ".py",
   "mimetype": "text/x-python",
   "name": "python",
   "nbconvert_exporter": "python",
   "pygments_lexer": "ipython2",
   "version": "2.7.13"
  }
 },
 "nbformat": 4,
 "nbformat_minor": 2
}
