{
 "cells": [
  {
   "cell_type": "code",
   "execution_count": 129,
   "metadata": {
    "collapsed": true
   },
   "outputs": [],
   "source": [
    "import re\n",
    "\n",
    "import nltk\n",
    "\n",
    "import sklearn\n",
    "from sklearn.externals import joblib\n",
    "\n",
    "import numpy as np\n",
    "from os import listdir\n",
    "\n",
    "\n",
    "from nltk.stem.snowball import SnowballStemmer\n",
    "from nltk.tokenize import RegexpTokenizer\n",
    "\n",
    "stemmer = SnowballStemmer(language='english', ignore_stopwords=True)\n",
    "# tokenizer = RegexpTokenizer(r'[a-z\\d]{2,}')\n",
    "tokenizer = RegexpTokenizer(r'\\s+', gaps=True)"
   ]
  },
  {
   "cell_type": "code",
   "execution_count": 130,
   "metadata": {
    "collapsed": true
   },
   "outputs": [],
   "source": [
    "doc_path = r'C:\\Users\\Artur_Zahreba\\Desktop\\WorkFusion\\P&G\\Approval By Email\\Training Set\\v5\\Training Set\\ALL_FIXED'"
   ]
  },
  {
   "cell_type": "code",
   "execution_count": 131,
   "metadata": {
    "collapsed": false
   },
   "outputs": [
    {
     "name": "stdout",
     "output_type": "stream",
     "text": [
      "737\n"
     ]
    }
   ],
   "source": [
    "doc_types = sorted(listdir(doc_path))\n",
    "\n",
    "doc_texts = []\n",
    "\n",
    "for doc_type in doc_types:\n",
    "    filenames = sorted(listdir(doc_path + '\\\\' + doc_type))\n",
    "    filenames = filter(lambda x: re.search(r'\\.txt$', x), filenames)\n",
    "    for filename in filenames:\n",
    "        with open(doc_path + '\\\\' + doc_type + '\\\\' + filename, 'r') as ffile:\n",
    "            txt = ffile.read()\n",
    "            doc_texts.append((doc_type, filename, txt))\n",
    "            ffile.close()\n",
    "            \n",
    "print(len(doc_texts))"
   ]
  },
  {
   "cell_type": "code",
   "execution_count": 132,
   "metadata": {
    "collapsed": false
   },
   "outputs": [],
   "source": [
    "lables, fnames, texts = zip(*doc_texts)"
   ]
  },
  {
   "cell_type": "code",
   "execution_count": 133,
   "metadata": {
    "collapsed": false
   },
   "outputs": [
    {
     "data": {
      "text/plain": [
       "'From: Liang, Anna\\nSent: Wed May 17 10:05:28 CEST 2017\\nTo: Chia, Ian; Nino, DaisyAnne; onetravelretail, Ion; Muthuraman, Alagammai\\nCc: Tan, HerWen; Neo, Joyce; Eunice, Chiam\\nSubject: : [Approval] NRO - Kingpower Tester request\\nApprove\\n\\nAnna \\n\\n \\n\\n: Chia, Ian \\n: 2017517 16:00\\n: Nino, DaisyAnne <nino.d@pg.com>; onetravelretail, Ion\\n<onetravelretail.im@pg.com>; Muthuraman, Alagammai\\n<muthuraman.am@pg.com>\\n: Tan, HerWen <tan.hw@pg.com>; Neo, Joyce <neo.j.1@pg.com>; Liang,\\nAnna <liang.an.2@pg.com>; Eunice, Chiam <eunice.ec@pg.com>\\n: RE: [Approval] NRO - Kingpower Tester request\\n\\n \\n\\nHi Anna,\\n\\n \\n\\nPlease approve attached NRO.\\n\\n \\n\\nHi Daisy,\\n\\n \\n\\nThanks!\\n\\n \\n\\nThank you!\\n\\nIan\\n\\n\\n\\nThe Metropolis, 11 North Buona Vista Drive, #21-07, The Metropolis\\nTower 2, Singapore 138589\\n\\n \\n\\nOOO Date: 8  12 May 2017, please expect delayed response on enquiries\\nand emails.\\n\\n \\n\\nAll decisions on pricing, promotion, distribution, assortment and\\nshelving are at the sole discretion of the retailer.\\n\\nThis electronic message transmission contains information which may be\\nconfidential. The information is intended for the use of the individual\\nor entity named above. If you are not the intended recipient, and have\\nreceived this electronic transmission in error, please notify sender\\nthen delete immediately.\\n\\n \\n\\nFrom: Nino, DaisyAnne \\nSent: Wednesday, May 17, 2017 3:59 PM\\nTo: Chia, Ian <chia.ic@pg.com <mailto:chia.ic@pg.com> >;\\nonetravelretail, Ion <onetravelretail.im@pg.com\\n<mailto:onetravelretail.im@pg.com> >; Muthuraman, Alagammai\\n<muthuraman.am@pg.com <mailto:muthuraman.am@pg.com> >\\nCc: Tan, HerWen <tan.hw@pg.com <mailto:tan.hw@pg.com> >; Neo, Joyce\\n<neo.j.1@pg.com <mailto:neo.j.1@pg.com> >; Liang, Anna\\n<liang.an.2@pg.com <mailto:liang.an.2@pg.com> >; Eunice, Chiam\\n<eunice.ec@pg.com <mailto:eunice.ec@pg.com> >\\nSubject: RE: [Approval] NRO - Kingpower Tester request\\n\\n \\n\\nHi Ian,\\n\\n \\n\\nOk to proceed.  Thanks. \\n\\nEAN Code\\n\\nProduct Description\\n\\nQuantity \\n\\nGCAS\\n\\nSTOCK\\n\\n\\t\\n\\t\\n4979006045635\\n\\nFacial Treatment Essence 250ml\\n\\n4\\n\\n82248444\\n\\nOK\\n\\n\\t\\n4979006052404\\n\\nFacial Treatment Essence 330ml\\n\\n4\\n\\n82248447\\n\\nOK\\n\\n\\t\\n4979006070071\\n\\nFacial Treatment Essence 160ml\\n\\n4\\n\\n82252508\\n\\nOK\\n\\n\\t\\n4979006070033\\n\\nSKII Facial Treatment Oil 50mL RG\\n\\n4\\n\\n82249908\\n\\nOK\\n\\n\\t\\n4979006366815\\n\\nFacial Treatment Repair C 30ml\\n\\n4\\n\\n82247476\\n\\nOK\\n\\n\\t\\n4979006070132\\n\\nSK-II Facial Treatment Clear Lotion 230ml\\n\\n4\\n\\n82247369\\n\\nOK\\n\\n\\t\\n4979006073461\\n\\nSK2 WH ATMOS AIRY LGT UV EMULSION 30g\\n\\n14\\n\\n82246038\\n\\nOK\\n\\n\\t\\n4979006073133\\n\\nSK2 WH ATMOS CC CREAM UV 30g\\n\\n14\\n\\n82243755\\n\\nOK\\n\\n\\t\\n4979006066999\\n\\nMid-Day Miracle Essence 50ML\\n\\n8\\n\\n82247497\\n\\nOK\\n\\n\\t\\n4979006065114\\n\\nCellumination Deep Surge EX 50g\\n\\n4\\n\\n82250048\\n\\nOK\\n\\n\\t\\n4979006067088\\n\\nR.N.A.POWER RADICAL NEW AGE Cream 100G\\n\\n4\\n\\n82248646\\n\\nOK\\n\\n\\t\\n4979006067101\\n\\nR.N.A.POWER RADICAL NEW AGE ESSENCE 50ML \\n\\n4\\n\\n82248649\\n\\nOK\\n\\n\\t\\n4979006067118\\n\\nR.N.A.POWER RADICAL NEW AGE ESSENCE 75ML\\n\\n4\\n\\n82248670\\n\\nOK\\n\\n\\t\\n4979006067057\\n\\nRNA Eye Cream 15g\\n\\n8\\n\\n82249240\\n\\nOK\\n\\n\\t\\n\\n \\n\\n \\n\\nBest Regards,\\n\\nDaisy Anne G. Nio (Daisy)\\n\\nGlobal SK-II TR\\n\\nProcter & Gamble Intl Operations SA SG Branch\\n\\nT: +65 6712 4022 | nino.d@pg.com <mailto:nino.d@pg.com> \\n\\n \\n\\nUpcoming OOO: \\n\\n \\n\\n \\n\\nFrom: Chia, Ian \\nSent: Wednesday, May 17, 2017 3:47 PM\\nTo: Nino, DaisyAnne <nino.d@pg.com <mailto:nino.d@pg.com> >;\\nonetravelretail, Ion <onetravelretail.im@pg.com\\n<mailto:onetravelretail.im@pg.com> >; Muthuraman, Alagammai\\n<muthuraman.am@pg.com <mailto:muthuraman.am@pg.com> >\\nCc: Tan, HerWen <tan.hw@pg.com <mailto:tan.hw@pg.com> >; Neo, Joyce\\n<neo.j.1@pg.com <mailto:neo.j.1@pg.com> >; Liang, Anna\\n<liang.an.2@pg.com <mailto:liang.an.2@pg.com> >; Eunice, Chiam\\n<eunice.ec@pg.com <mailto:eunice.ec@pg.com> >\\nSubject: RE: [Approval] NRO - Kingpower Tester request\\n\\n \\n\\nHi Daisy,\\n\\n \\n\\nIve edited the NRO.\\n\\nPlease kindly approve.\\n\\n \\n\\nThank you!\\n\\nIan\\n\\n\\n\\nThe Metropolis, 11 North Buona Vista Drive, #21-07, The Metropolis\\nTower 2, Singapore 138589\\n\\n \\n\\nOOO Date: 8  12 May 2017, please expect delayed response on enquiries\\nand emails.\\n\\n \\n\\nAll decisions on pricing, promotion, distribution, assortment and\\nshelving are at the sole discretion of the retailer.\\n\\nThis electronic message transmission contains information which may be\\nconfidential. The information is intended for the use of the individual\\nor entity named above. If you are not the intended recipient, and have\\nreceived this electronic transmission in error, please notify sender\\nthen delete immediately.\\n\\n \\n\\nFrom: Nino, DaisyAnne \\nSent: Wednesday, May 17, 2017 1:54 PM\\nTo: Chia, Ian <chia.ic@pg.com <mailto:chia.ic@pg.com> >;\\nonetravelretail, Ion <onetravelretail.im@pg.com\\n<mailto:onetravelretail.im@pg.com> >; Muthuraman, Alagammai\\n<muthuraman.am@pg.com <mailto:muthuraman.am@pg.com> >\\nCc: Tan, HerWen <tan.hw@pg.com <mailto:tan.hw@pg.com> >; Neo, Joyce\\n<neo.j.1@pg.com <mailto:neo.j.1@pg.com> >; Liang, Anna\\n<liang.an.2@pg.com <mailto:liang.an.2@pg.com> >; Eunice, Chiam\\n<eunice.ec@pg.com <mailto:eunice.ec@pg.com> >\\nSubject: RE: [Approval] NRO - Kingpower Tester request\\n\\n \\n\\nHi Ian,\\n\\n \\n\\nOk to proceed except for the last 4 items.  Thanks ahead.  \\n\\n \\n\\nEAN Code\\n\\nProduct Description\\n\\nQuantity \\n\\nGCAS\\n\\nSTOCK\\n\\n\\t\\n\\t\\n4979006045635\\n\\nFacial Treatment Essence 250ml\\n\\n4\\n\\n82248444\\n\\nOK\\n\\n\\t\\n4979006052404\\n\\nFacial Treatment Essence 330ml\\n\\n4\\n\\n82248447\\n\\nOK\\n\\n\\t\\n4979006070071\\n\\nFacial Treatment Essence 160ml\\n\\n4\\n\\n82252508\\n\\nOK\\n\\n\\t\\n4979006070033\\n\\nSKII Facial Treatment Oil 50mL RG\\n\\n4\\n\\n82249908\\n\\nOK\\n\\n\\t\\n4979006366815\\n\\nFacial Treatment Repair C 30ml\\n\\n4\\n\\n82247476\\n\\nOK\\n\\n\\t\\n4979006070132\\n\\nSK-II Facial Treatment Clear Lotion 230ml\\n\\n4\\n\\n82247369\\n\\nOK\\n\\n\\t\\n4979006073461\\n\\nSK2 WH ATMOS AIRY LGT UV EMULSION 30g\\n\\n14\\n\\n82246038\\n\\nOK\\n\\n\\t\\n4979006073133\\n\\nSK2 WH ATMOS CC CREAM UV 30g\\n\\n14\\n\\n82243755\\n\\nOK\\n\\n\\t\\n4979006066999\\n\\nMid-Day Miracle Essence 50ML\\n\\n8\\n\\n82247497\\n\\nOK\\n\\n\\t\\n4979006065114\\n\\nCellumination Deep Surge EX 50g\\n\\n4\\n\\n82250048\\n\\nOK\\n\\n\\t\\n4979006067088\\n\\nR.N.A.POWER RADICAL NEW AGE Cream 100G\\n\\n4\\n\\n82248646\\n\\nOK\\n\\n\\t\\n4979006067101\\n\\nR.N.A.POWER RADICAL NEW AGE ESSENCE 50ML \\n\\n4\\n\\n82248649\\n\\nOK\\n\\n\\t\\n4979006067118\\n\\nR.N.A.POWER RADICAL NEW AGE ESSENCE 75ML\\n\\n4\\n\\n82248670\\n\\nOK\\n\\n\\t\\n4979006067057\\n\\nRNA Eye Cream 15g\\n\\n8\\n\\n82249240\\n\\nOK\\n\\n\\t\\n4979006068665\\n\\nGENOPTICS AURA ESS 50ML\\n\\n4\\n\\n82251846\\n\\nNOT OK\\n\\n\\t\\n4979006068542\\n\\nGENOPTICS AURA ESS 75ML\\n\\n4\\n\\n82251848\\n\\nNOT OK\\n\\n\\t\\n4979006068566\\n\\nGENOPTICS SPOT ESS 50ML\\n\\n4\\n\\n82250697\\n\\nNOT OK\\n\\n\\t\\n4979006068641\\n\\nGENOPTICS SPOT ESS 75ML\\n\\n4\\n\\n82250698\\n\\nNOT OK\\n\\n\\t\\n\\n \\n\\n \\n\\nBest Regards,\\n\\nDaisy Anne G. Nio (Daisy)\\n\\nGlobal SK-II TR\\n\\nProcter & Gamble Intl Operations SA SG Branch\\n\\nT: +65 6712 4022 | nino.d@pg.com <mailto:nino.d@pg.com> \\n\\n \\n\\nUpcoming OOO: \\n\\n \\n\\n \\n\\nFrom: Chia, Ian \\nSent: Wednesday, May 17, 2017 11:06 AM\\nTo: onetravelretail, Ion <onetravelretail.im@pg.com\\n<mailto:onetravelretail.im@pg.com> >; Muthuraman, Alagammai\\n<muthuraman.am@pg.com <mailto:muthuraman.am@pg.com> >; Nino, DaisyAnne\\n<nino.d@pg.com <mailto:nino.d@pg.com> >\\nCc: Tan, HerWen <tan.hw@pg.com <mailto:tan.hw@pg.com> >; Neo, Joyce\\n<neo.j.1@pg.com <mailto:neo.j.1@pg.com> >; Liang, Anna\\n<liang.an.2@pg.com <mailto:liang.an.2@pg.com> >; Eunice, Chiam\\n<eunice.ec@pg.com <mailto:eunice.ec@pg.com> >\\nSubject: RE: [Approval] NRO - Kingpower Tester request\\n\\n \\n\\nHi Daisy & Ala,\\n\\n \\n\\nPlease approve attached NRO for Kingpower Tester if stock is available.\\n\\n \\n\\nThank you!\\n\\nIan\\n\\n\\n\\nThe Metropolis, 11 North Buona Vista Drive, #21-07, The Metropolis\\nTower 2, Singapore 138589\\n\\n \\n\\nOOO Date: 8  12 May 2017, please expect delayed response on enquiries\\nand emails.\\n\\n \\n\\nAll decisions on pricing, promotion, distribution, assortment and\\nshelving are at the sole discretion of the retailer.\\n\\nThis electronic message transmission contains information which may be\\nconfidential. The information is intended for the use of the individual\\nor entity named above. If you are not the intended recipient, and have\\nreceived this electronic transmission in error, please notify sender\\nthen delete immediately.\\n\\n \\n\\nFrom: Lu, Darryl On Behalf Of onetravelretail, Ion\\nSent: Tuesday, May 16, 2017 5:20 PM\\nTo: Chia, Ian <chia.ic@pg.com <mailto:chia.ic@pg.com> >;\\nonetravelretail, Ion <onetravelretail.im@pg.com\\n<mailto:onetravelretail.im@pg.com> >; Muthuraman, Alagammai\\n<muthuraman.am@pg.com <mailto:muthuraman.am@pg.com> >; Nino, DaisyAnne\\n<nino.d@pg.com <mailto:nino.d@pg.com> >\\nCc: Tan, HerWen <tan.hw@pg.com <mailto:tan.hw@pg.com> >; Neo, Joyce\\n<neo.j.1@pg.com <mailto:neo.j.1@pg.com> >; Liang, Anna\\n<liang.an.2@pg.com <mailto:liang.an.2@pg.com> >; Eunice, Chiam\\n<eunice.ec@pg.com <mailto:eunice.ec@pg.com> >\\nSubject: RE: [Approval] NRO - Kingpower Tester request\\n\\n \\n\\nDear All,\\n\\n \\n\\nOrder on hold pending supply approval.\\n\\nThanks\\n\\n \\n\\nBest Regards, \\n\\nDarryl Lu\\n\\n \\n\\n(OM Analyst - Customer Service Operation)\\n\\nP&G Europe SA SG branch\\n\\nEmail: lu.d.6@pg.com <mailto:ng.e.11@pg.com> \\n\\nThis electronic message transmission contains information which may be\\nconfidential. The information is intended for the use of the individual\\nor entity named above. If you are not the intended recipient, and have\\nreceived this electronic transmission in error, please notify sender\\nthen delete immediately.\\n\\n \\n\\nFrom: Chia, Ian \\nSent: Monday, May 15, 2017 11:48 AM\\nTo: onetravelretail, Ion <onetravelretail.im@pg.com\\n<mailto:onetravelretail.im@pg.com> >; Muthuraman, Alagammai\\n<muthuraman.am@pg.com <mailto:muthuraman.am@pg.com> >; Nino, DaisyAnne\\n<nino.d@pg.com <mailto:nino.d@pg.com> >\\nCc: Tan, HerWen <tan.hw@pg.com <mailto:tan.hw@pg.com> >; Neo, Joyce\\n<neo.j.1@pg.com <mailto:neo.j.1@pg.com> >; Liang, Anna\\n<liang.an.2@pg.com <mailto:liang.an.2@pg.com> >; Eunice, Chiam\\n<eunice.ec@pg.com <mailto:eunice.ec@pg.com> >\\nSubject: RE: [Approval] NRO - Kingpower Tester request\\n\\n \\n\\nHi Ala & Daisy,\\n\\n \\n\\nPlease approve attached NRO is stock is available.\\n\\n \\n\\nHi OM,\\n\\n \\n\\nPlease proceed with NRO once approval from supply is granted.\\n\\n \\n\\nThank you!\\n\\nIan\\n\\n\\n\\nThe Metropolis, 11 North Buona Vista Drive, #21-07, The Metropolis\\nTower 2, Singapore 138589\\n\\n \\n\\nOOO Date: 8  12 May 2017, please expect delayed response on enquiries\\nand emails.\\n\\n \\n\\nAll decisions on pricing, promotion, distribution, assortment and\\nshelving are at the sole discretion of the retailer.\\n\\nThis electronic message transmission contains information which may be\\nconfidential. The information is intended for the use of the individual\\nor entity named above. If you are not the intended recipient, and have\\nreceived this electronic transmission in error, please notify sender\\nthen delete immediately.\\n\\n \\n\\nFrom: Lu, Darryl On Behalf Of onetravelretail, Ion\\nSent: Monday, May 15, 2017 11:43 AM\\nTo: Chia, Ian <chia.ic@pg.com <mailto:chia.ic@pg.com> >; Liang, Anna\\n<liang.an.2@pg.com <mailto:liang.an.2@pg.com> >; Eunice, Chiam\\n<eunice.ec@pg.com <mailto:eunice.ec@pg.com> >\\nCc: Tan, HerWen <tan.hw@pg.com <mailto:tan.hw@pg.com> >;\\nonetravelretail, Ion <onetravelretail.im@pg.com\\n<mailto:onetravelretail.im@pg.com> >; Neo, Joyce <neo.j.1@pg.com\\n<mailto:neo.j.1@pg.com> >\\nSubject: RE: [Approval] NRO - Kingpower Tester request\\n\\n \\n\\nHi Ian,\\n\\n \\n\\nAs the order consist more than 10 IT in a single line.\\n\\nPlease obtain supply check.\\n\\nOrder on hold.\\n\\nThanks\\n\\n \\n\\nBest Regards, \\n\\nDarryl Lu\\n\\n \\n\\n(OM Analyst - Customer Service Operation)\\n\\nP&G Europe SA SG branch\\n\\nEmail: lu.d.6@pg.com <mailto:ng.e.11@pg.com> \\n\\nThis electronic message transmission contains information which may be\\nconfidential. The information is intended for the use of the individual\\nor entity named above. If you are not the intended recipient, and have\\nreceived this electronic transmission in error, please notify sender\\nthen delete immediately.\\n\\n \\n\\nFrom: Chia, Ian \\nSent: Monday, May 15, 2017 9:31 AM\\nTo: Liang, Anna <liang.an.2@pg.com <mailto:liang.an.2@pg.com> >;\\nEunice, Chiam <eunice.ec@pg.com <mailto:eunice.ec@pg.com> >\\nCc: Tan, HerWen <tan.hw@pg.com <mailto:tan.hw@pg.com> >;\\nonetravelretail, Ion <onetravelretail.im@pg.com\\n<mailto:onetravelretail.im@pg.com> >; tidaras Pholsith\\n<tidarasp@gmail.com <mailto:tidarasp@gmail.com> >; Neo, Joyce\\n<neo.j.1@pg.com <mailto:neo.j.1@pg.com> >\\nSubject: RE: [Approval] NRO - Kingpower Tester request\\n\\n \\n\\nHi OM,\\n\\n \\n\\nPlease process attached NRO.\\n\\n \\n\\nThank you!\\n\\nIan\\n\\n\\n\\nThe Metropolis, 11 North Buona Vista Drive, #21-07, The Metropolis\\nTower 2, Singapore 138589\\n\\n \\n\\nOOO Date: 8  12 May 2017, please expect delayed response on enquiries\\nand emails.\\n\\n \\n\\nAll decisions on pricing, promotion, distribution, assortment and\\nshelving are at the sole discretion of the retailer.\\n\\nThis electronic message transmission contains information which may be\\nconfidential. The information is intended for the use of the individual\\nor entity named above. If you are not the intended recipient, and have\\nreceived this electronic transmission in error, please notify sender\\nthen delete immediately.\\n\\n \\n\\nFrom: Liang, Anna \\nSent: Sunday, May 14, 2017 8:04 PM\\nTo: Eunice, Chiam <eunice.ec@pg.com <mailto:eunice.ec@pg.com> >\\nCc: Tan, HerWen <tan.hw@pg.com <mailto:tan.hw@pg.com> >;\\nonetravelretail, Ion <onetravelretail.im@pg.com\\n<mailto:onetravelretail.im@pg.com> >; tidaras Pholsith\\n<tidarasp@gmail.com <mailto:tidarasp@gmail.com> >; Neo, Joyce\\n<neo.j.1@pg.com <mailto:neo.j.1@pg.com> >; Chia, Ian <chia.ic@pg.com\\n<mailto:chia.ic@pg.com> >\\nSubject: : [Approval] NRO - Kingpower Tester request\\n\\n \\n\\nApprove\\n\\nAnna \\n\\n \\n\\n: Eunice, Chiam \\n: 2017513 19:41\\n: Liang, Anna <liang.an.2@pg.com <mailto:liang.an.2@pg.com> >\\n: Tan, HerWen <tan.hw@pg.com <mailto:tan.hw@pg.com> >;\\nonetravelretail, Ion <onetravelretail.im@pg.com\\n<mailto:onetravelretail.im@pg.com> >; tidaras Pholsith\\n<tidarasp@gmail.com <mailto:tidarasp@gmail.com> >; Neo, Joyce\\n<neo.j.1@pg.com <mailto:neo.j.1@pg.com> >; Chia, Ian <chia.ic@pg.com\\n<mailto:chia.ic@pg.com> >\\n: [Approval] NRO - Kingpower Tester request\\n\\n \\n\\nHi Anna \\n\\n \\n\\nPlease provide approval for Kingpower tester request. \\n\\n \\n\\n \\n\\nHi Tidaras\\n\\n \\n\\nMoving forward please send your request to Ian in cc. \\n\\nAlso please take note to input customer as kingpower when sending over\\nthe NRO also. Ive revised for you this time. \\n\\n\\n\\n \\n\\n \\n\\nRegards\\n\\nEunice\\n\\n \\n\\n\\n\\nThe Metropolis, 11 North Buona Vista Drive, #21-07, The Metropolis\\nTower 2, Singapore 138589\\n\\n \\n\\nAll decisions on pricing, promotion, distribution, assortment and\\nshelving are at the sole discretion of the retailer.\\n\\nThis electronic message transmission contains information which may be\\nconfidential. The information is intended for the use of the individual\\nor entity named above. If you are not the intended recipient, and have\\nreceived this electronic transmission in error, please notify sender\\nthen delete immediately.\\n\\n \\n\\n \\n\\nFrom: tidaras Pholsith [mailto:tidarasp@gmail.com\\n<mailto:tidarasp@gmail.com> ] \\nSent: Friday, May 12, 2017 12:10 AM\\nTo: Neo, Joyce <neo.j.1@pg.com <mailto:neo.j.1@pg.com> >\\nCc: Tan, HerWen <tan.hw@pg.com <mailto:tan.hw@pg.com> >;\\nonetravelretail, Ion <onetravelretail.im@pg.com\\n<mailto:onetravelretail.im@pg.com> >; Eunice, Chiam <eunice.ec@pg.com\\n<mailto:eunice.ec@pg.com> >\\nSubject: Re: Tester request\\n\\n \\n\\nDear all,\\n\\n \\n\\nI would like to refer for our buyer advised for KP Tester  below.\\n\\n \\n\\n-----------------------------------------------------------------------\\n--------------------------------------------------------------\\n\\n \\n\\n \\n\\nDear Her Wen,\\n\\n \\n\\nI would like to inform you that you can ship tester now, but there is\\nspecial instructions for tester shipment which are\\n\\n1.       AWB for tester shipment has to be issued separately with other\\nshipments. If you would like to ship tester together with sellable,\\nplease make sure that AWB of tester will be issued separately or you can\\nship tester alone now.\\n\\n2.       All tester products must have FDA number.\\n\\n \\n\\nThe above instructions are applied now and we would like to seek your\\nkind cooperation to strictly follow.\\n\\n \\n\\nIf you have any question, please feel free to let me know.\\n\\n \\n\\nThank you.\\n\\nBest Regards,\\n\\n \\n\\nNichamon Punnamech \\nBuyer \\nMerchandising Department\\n___________________________________ \\n\\n\\n\\n\\n \\n\\nBest Regards,\\n\\n \\n\\n \\n\\nTidaras  Pholsith (Aeh)\\n\\n+6686-7735666\\n\\nFSS of SK-II Thailand\\n\\n \\n\\nOn Thu, May 11, 2017 at 11:02 PM, tidaras Pholsith <tidarasp@gmail.com\\n<mailto:tidarasp@gmail.com> > wrote:\\n\\n\\tDear Joyce,\\n\\n\\t \\n\\n\\tPlease consider for tester request from KP\\n\\n\\t100 pcs.\\n\\n\\t \\n\\n\\tBest Regards,\\n\\n\\t \\n\\n\\t \\n\\n\\tTidaras  Pholsith (Aeh)\\n\\n\\t+6686-7735666\\n\\n\\tFSS of SK-II Thailand'"
      ]
     },
     "execution_count": 133,
     "metadata": {},
     "output_type": "execute_result"
    }
   ],
   "source": [
    "texts[0]"
   ]
  },
  {
   "cell_type": "code",
   "execution_count": 134,
   "metadata": {
    "collapsed": false
   },
   "outputs": [
    {
     "data": {
      "text/plain": [
       "u'from: liang, anna sent: wed may 10:05:28 cest to: chia, ian; nino, daisyanne; onetravelretail, ion; muthuraman, alagammai cc: tan, herwen; neo, joyce; eunice, chiam subject: : [approval] nro - kingpower tester request approve anna : chia, ian : 16:00 : nino, daisyanne <nino.d@pg.com>; onetravelretail, ion <onetravelretail.im@pg.com>; muthuraman, alagammai <muthuraman.am@pg.com> : tan, herwen <tan.hw@pg.com>; neo, joyce <neo.j.1@pg.com>; liang, anna <liang.an.2@pg.com>; eunice, chiam <eunice.ec@pg.com> : re: [approval] nro - kingpower tester request hi anna, please approve attached nro. hi daisy, thanks! thank you! ian the metropolis, north buona vista drive, #21-07, the metropolis tower 2, singapore ooo date: 12 may 2017, please expect delayed response on enquiries and emails. all decisions on pricing, promotion, distribution, assortment and shelving are at the sole discretion of the retailer. this electronic message transmission contains information which may be confidential. the information is intended for the use of the individual or entity named above. if you are not the intended recipient, and have received this electronic transmission in error, please notify sender then delete immediately. from: nino, daisyanne sent: wednesday, may 17, 3:59 pm to: chia, ian <chia.ic@pg.com <mailto:chia.ic@pg.com> >; onetravelretail, ion <onetravelretail.im@pg.com <mailto:onetravelretail.im@pg.com> >; muthuraman, alagammai <muthuraman.am@pg.com <mailto:muthuraman.am@pg.com> > cc: tan, herwen <tan.hw@pg.com <mailto:tan.hw@pg.com> >; neo, joyce <neo.j.1@pg.com <mailto:neo.j.1@pg.com> >; liang, anna <liang.an.2@pg.com <mailto:liang.an.2@pg.com> >; eunice, chiam <eunice.ec@pg.com <mailto:eunice.ec@pg.com> > subject: re: [approval] nro - kingpower tester request hi ian, ok to proceed. thanks. ean code product description quantity gcas stock facial treatment essence 250ml 82248444 ok facial treatment essence 330ml 82248447 ok facial treatment essence 160ml 82252508 ok skii facial treatment oil 50ml rg 82249908 ok facial treatment repair c 30ml 82247476 ok sk-ii facial treatment clear lotion 230ml 82247369 ok sk2 wh atmos airy lgt uv emulsion 30g 82246038 ok sk2 wh atmos cc cream uv 30g 82243755 ok mid-day miracle essence 50ml 82247497 ok cellumination deep surge ex 50g 82250048 ok r.n.a.power radical new age cream 100g 82248646 ok r.n.a.power radical new age essence 50ml 82248649 ok r.n.a.power radical new age essence 75ml 82248670 ok rna eye cream 15g 82249240 ok best regards, daisy anne g. nio (daisy) global sk-ii tr procter & gamble intl operations sa sg branch t: +65 4022 | nino.d@pg.com <mailto:nino.d@pg.com> upcoming ooo: from: chia, ian sent: wednesday, may 17, 3:47 pm to: nino, daisyanne <nino.d@pg.com <mailto:nino.d@pg.com> >; onetravelretail, ion <onetravelretail.im@pg.com <mailto:onetravelretail.im@pg.com> >; muthuraman, alagammai <muthuraman.am@pg.com <mailto:muthuraman.am@pg.com> > cc: tan, herwen <tan.hw@pg.com <mailto:tan.hw@pg.com> >; neo, joyce <neo.j.1@pg.com <mailto:neo.j.1@pg.com> >; liang, anna <liang.an.2@pg.com <mailto:liang.an.2@pg.com> >; eunice, chiam <eunice.ec@pg.com <mailto:eunice.ec@pg.com> > subject: re: [approval] nro - kingpower tester request hi daisy, ive edited the nro. please kindly approve. thank you! ian the metropolis, north buona vista drive, #21-07, the metropolis tower 2, singapore ooo date: 12 may 2017, please expect delayed response on enquiries and emails. all decisions on pricing, promotion, distribution, assortment and shelving are at the sole discretion of the retailer. this electronic message transmission contains information which may be confidential. the information is intended for the use of the individual or entity named above. if you are not the intended recipient, and have received this electronic transmission in error, please notify sender then delete immediately. from: nino, daisyanne sent: wednesday, may 17, 1:54 pm to: chia, ian <chia.ic@pg.com <mailto:chia.ic@pg.com> >; onetravelretail, ion <onetravelretail.im@pg.com <mailto:onetravelretail.im@pg.com> >; muthuraman, alagammai <muthuraman.am@pg.com <mailto:muthuraman.am@pg.com> > cc: tan, herwen <tan.hw@pg.com <mailto:tan.hw@pg.com> >; neo, joyce <neo.j.1@pg.com <mailto:neo.j.1@pg.com> >; liang, anna <liang.an.2@pg.com <mailto:liang.an.2@pg.com> >; eunice, chiam <eunice.ec@pg.com <mailto:eunice.ec@pg.com> > subject: re: [approval] nro - kingpower tester request hi ian, ok to proceed except for the last items. thanks ahead. ean code product description quantity gcas stock facial treatment essence 250ml 82248444 ok facial treatment essence 330ml 82248447 ok facial treatment essence 160ml 82252508 ok skii facial treatment oil 50ml rg 82249908 ok facial treatment repair c 30ml 82247476 ok sk-ii facial treatment clear lotion 230ml 82247369 ok sk2 wh atmos airy lgt uv emulsion 30g 82246038 ok sk2 wh atmos cc cream uv 30g 82243755 ok mid-day miracle essence 50ml 82247497 ok cellumination deep surge ex 50g 82250048 ok r.n.a.power radical new age cream 100g 82248646 ok r.n.a.power radical new age essence 50ml 82248649 ok r.n.a.power radical new age essence 75ml 82248670 ok rna eye cream 15g 82249240 ok genoptics aura ess 50ml 82251846 not ok genoptics aura ess 75ml 82251848 not ok genoptics spot ess 50ml 82250697 not ok genoptics spot ess 75ml 82250698 not ok best regards, daisy anne g. nio (daisy) global sk-ii tr procter & gamble intl operations sa sg branch t: +65 4022 | nino.d@pg.com <mailto:nino.d@pg.com> upcoming ooo: from: chia, ian sent: wednesday, may 17, 11:06 am to: onetravelretail, ion <onetravelretail.im@pg.com <mailto:onetravelretail.im@pg.com> >; muthuraman, alagammai <muthuraman.am@pg.com <mailto:muthuraman.am@pg.com> >; nino, daisyanne <nino.d@pg.com <mailto:nino.d@pg.com> > cc: tan, herwen <tan.hw@pg.com <mailto:tan.hw@pg.com> >; neo, joyce <neo.j.1@pg.com <mailto:neo.j.1@pg.com> >; liang, anna <liang.an.2@pg.com <mailto:liang.an.2@pg.com> >; eunice, chiam <eunice.ec@pg.com <mailto:eunice.ec@pg.com> > subject: re: [approval] nro - kingpower tester request hi daisy & ala, please approve attached nro for kingpower tester if stock is available. thank you! ian the metropolis, north buona vista drive, #21-07, the metropolis tower 2, singapore ooo date: 12 may 2017, please expect delayed response on enquiries and emails. all decisions on pricing, promotion, distribution, assortment and shelving are at the sole discretion of the retailer. this electronic message transmission contains information which may be confidential. the information is intended for the use of the individual or entity named above. if you are not the intended recipient, and have received this electronic transmission in error, please notify sender then delete immediately. from: lu, darryl on behalf of onetravelretail, ion sent: tuesday, may 16, 5:20 pm to: chia, ian <chia.ic@pg.com <mailto:chia.ic@pg.com> >; onetravelretail, ion <onetravelretail.im@pg.com <mailto:onetravelretail.im@pg.com> >; muthuraman, alagammai <muthuraman.am@pg.com <mailto:muthuraman.am@pg.com> >; nino, daisyanne <nino.d@pg.com <mailto:nino.d@pg.com> > cc: tan, herwen <tan.hw@pg.com <mailto:tan.hw@pg.com> >; neo, joyce <neo.j.1@pg.com <mailto:neo.j.1@pg.com> >; liang, anna <liang.an.2@pg.com <mailto:liang.an.2@pg.com> >; eunice, chiam <eunice.ec@pg.com <mailto:eunice.ec@pg.com> > subject: re: [approval] nro - kingpower tester request dear all, order on hold pending supply approval. thanks best regards, darryl lu (om analyst - customer service operation) p&g europe sa sg branch email: lu.d.6@pg.com <mailto:ng.e.11@pg.com> this electronic message transmission contains information which may be confidential. the information is intended for the use of the individual or entity named above. if you are not the intended recipient, and have received this electronic transmission in error, please notify sender then delete immediately. from: chia, ian sent: monday, may 15, 11:48 am to: onetravelretail, ion <onetravelretail.im@pg.com <mailto:onetravelretail.im@pg.com> >; muthuraman, alagammai <muthuraman.am@pg.com <mailto:muthuraman.am@pg.com> >; nino, daisyanne <nino.d@pg.com <mailto:nino.d@pg.com> > cc: tan, herwen <tan.hw@pg.com <mailto:tan.hw@pg.com> >; neo, joyce <neo.j.1@pg.com <mailto:neo.j.1@pg.com> >; liang, anna <liang.an.2@pg.com <mailto:liang.an.2@pg.com> >; eunice, chiam <eunice.ec@pg.com <mailto:eunice.ec@pg.com> > subject: re: [approval] nro - kingpower tester request hi ala & daisy, please approve attached nro is stock is available. hi om, please proceed with nro once approval from supply is granted. thank you! ian the metropolis, north buona vista drive, #21-07, the metropolis tower 2, singapore ooo date: 12 may 2017, please expect delayed response on enquiries and emails. all decisions on pricing, promotion, distribution, assortment and shelving are at the sole discretion of the retailer. this electronic message transmission contains information which may be confidential. the information is intended for the use of the individual or entity named above. if you are not the intended recipient, and have received this electronic transmission in error, please notify sender then delete immediately. from: lu, darryl on behalf of onetravelretail, ion sent: monday, may 15, 11:43 am to: chia, ian <chia.ic@pg.com <mailto:chia.ic@pg.com> >; liang, anna <liang.an.2@pg.com <mailto:liang.an.2@pg.com> >; eunice, chiam <eunice.ec@pg.com <mailto:eunice.ec@pg.com> > cc: tan, herwen <tan.hw@pg.com <mailto:tan.hw@pg.com> >; onetravelretail, ion <onetravelretail.im@pg.com <mailto:onetravelretail.im@pg.com> >; neo, joyce <neo.j.1@pg.com <mailto:neo.j.1@pg.com> > subject: re: [approval] nro - kingpower tester request hi ian, as the order consist more than it in a single line. please obtain supply check. order on hold. thanks best regards, darryl lu (om analyst - customer service operation) p&g europe sa sg branch email: lu.d.6@pg.com <mailto:ng.e.11@pg.com> this electronic message transmission contains information which may be confidential. the information is intended for the use of the individual or entity named above. if you are not the intended recipient, and have received this electronic transmission in error, please notify sender then delete immediately. from: chia, ian sent: monday, may 15, 9:31 am to: liang, anna <liang.an.2@pg.com <mailto:liang.an.2@pg.com> >; eunice, chiam <eunice.ec@pg.com <mailto:eunice.ec@pg.com> > cc: tan, herwen <tan.hw@pg.com <mailto:tan.hw@pg.com> >; onetravelretail, ion <onetravelretail.im@pg.com <mailto:onetravelretail.im@pg.com> >; tidaras pholsith <tidarasp@gmail.com <mailto:tidarasp@gmail.com> >; neo, joyce <neo.j.1@pg.com <mailto:neo.j.1@pg.com> > subject: re: [approval] nro - kingpower tester request hi om, please process attached nro. thank you! ian the metropolis, north buona vista drive, #21-07, the metropolis tower 2, singapore ooo date: 12 may 2017, please expect delayed response on enquiries and emails. all decisions on pricing, promotion, distribution, assortment and shelving are at the sole discretion of the retailer. this electronic message transmission contains information which may be confidential. the information is intended for the use of the individual or entity named above. if you are not the intended recipient, and have received this electronic transmission in error, please notify sender then delete immediately. from: liang, anna sent: sunday, may 14, 8:04 pm to: eunice, chiam <eunice.ec@pg.com <mailto:eunice.ec@pg.com> > cc: tan, herwen <tan.hw@pg.com <mailto:tan.hw@pg.com> >; onetravelretail, ion <onetravelretail.im@pg.com <mailto:onetravelretail.im@pg.com> >; tidaras pholsith <tidarasp@gmail.com <mailto:tidarasp@gmail.com> >; neo, joyce <neo.j.1@pg.com <mailto:neo.j.1@pg.com> >; chia, ian <chia.ic@pg.com <mailto:chia.ic@pg.com> > subject: : [approval] nro - kingpower tester request approve anna : eunice, chiam : 19:41 : liang, anna <liang.an.2@pg.com <mailto:liang.an.2@pg.com> > : tan, herwen <tan.hw@pg.com <mailto:tan.hw@pg.com> >; onetravelretail, ion <onetravelretail.im@pg.com <mailto:onetravelretail.im@pg.com> >; tidaras pholsith <tidarasp@gmail.com <mailto:tidarasp@gmail.com> >; neo, joyce <neo.j.1@pg.com <mailto:neo.j.1@pg.com> >; chia, ian <chia.ic@pg.com <mailto:chia.ic@pg.com> > : [approval] nro - kingpower tester request hi anna please provide approval for kingpower tester request. hi tidaras moving forward please send your request to ian in cc. also please take note to input customer as kingpower when sending over the nro also. ive revised for you this time. regards eunice the metropolis, north buona vista drive, #21-07, the metropolis tower 2, singapore all decisions on pricing, promotion, distribution, assortment and shelving are at the sole discretion of the retailer. this electronic message transmission contains information which may be confidential. the information is intended for the use of the individual or entity named above. if you are not the intended recipient, and have received this electronic transmission in error, please notify sender then delete immediately. from: tidaras pholsith [mailto:tidarasp@gmail.com <mailto:tidarasp@gmail.com> ] sent: friday, may 12, 12:10 am to: neo, joyce <neo.j.1@pg.com <mailto:neo.j.1@pg.com> > cc: tan, herwen <tan.hw@pg.com <mailto:tan.hw@pg.com> >; onetravelretail, ion <onetravelretail.im@pg.com <mailto:onetravelretail.im@pg.com> >; eunice, chiam <eunice.ec@pg.com <mailto:eunice.ec@pg.com> > subject: re: tester request dear all, i would like to refer for our buyer advised for kp tester below. ----------------------------------------------------------------------- -------------------------------------------------------------- dear her wen, i would like to inform you that you can ship tester now, but there is special instructions for tester shipment which are 1. awb for tester shipment has to be issued separately with other shipments. if you would like to ship tester together with sellable, please make sure that awb of tester will be issued separately or you can ship tester alone now. 2. all tester products must have fda number. the above instructions are applied now and we would like to seek your kind cooperation to strictly follow. if you have any question, please feel free to let me know. thank you. best regards, nichamon punnamech buyer merchandising department ___________________________________ best regards, tidaras pholsith (aeh) +6686-7735666 fss of sk-ii thailand on thu, may 11, at 11:02 pm, tidaras pholsith <tidarasp@gmail.com <mailto:tidarasp@gmail.com> > wrote: dear joyce, please consider for tester request from kp pcs. best regards, tidaras pholsith (aeh) +6686-7735666 fss of sk-ii thailand'"
      ]
     },
     "execution_count": 134,
     "metadata": {},
     "output_type": "execute_result"
    }
   ],
   "source": [
    "texts = map(lambda x: stemmer.stem(x), texts)\n",
    "texts = map(lambda x: tokenizer.tokenize(x), texts)\n",
    "texts = map(lambda x: re.sub(r'\\s\\d+\\s', ' ', ' '.join(x)), texts)\n",
    "texts[0]"
   ]
  },
  {
   "cell_type": "code",
   "execution_count": 135,
   "metadata": {
    "collapsed": true
   },
   "outputs": [],
   "source": [
    "lable_dict = dict(zip(list(set(lables)), range(len(set(lables)))))\n",
    "lables_int = map(lambda x: lable_dict[x], lables)"
   ]
  },
  {
   "cell_type": "code",
   "execution_count": 136,
   "metadata": {
    "collapsed": true
   },
   "outputs": [],
   "source": [
    "from sklearn.model_selection import train_test_split\n",
    "\n",
    "train_ind, test_ind = train_test_split(range(len(texts)), test_size = 0.2, random_state=42)"
   ]
  },
  {
   "cell_type": "code",
   "execution_count": 137,
   "metadata": {
    "collapsed": false
   },
   "outputs": [],
   "source": [
    "X = np.array(texts)\n",
    "y = np.array(lables_int)\n",
    "D = np.array(fnames)\n",
    "\n",
    "X_train = X[train_ind]\n",
    "X_test = X[test_ind]\n",
    "y_train = y[train_ind]\n",
    "y_test = y[test_ind]\n",
    "\n",
    "F_names = D[test_ind]"
   ]
  },
  {
   "cell_type": "code",
   "execution_count": 138,
   "metadata": {
    "collapsed": false,
    "scrolled": true
   },
   "outputs": [
    {
     "data": {
      "text/plain": [
       "TfidfVectorizer(analyzer=u'word', binary=False, decode_error=u'strict',\n",
       "        dtype=<type 'numpy.int64'>, encoding=u'utf-8', input=u'content',\n",
       "        lowercase=True, max_df=0.9, max_features=None, min_df=0.3,\n",
       "        ngram_range=(1, 2), norm=u'l2', preprocessor=None, smooth_idf=True,\n",
       "        stop_words='english', strip_accents='unicode', sublinear_tf=False,\n",
       "        token_pattern='[a-z\\\\d]{2,}', tokenizer=None, use_idf=True,\n",
       "        vocabulary=None)"
      ]
     },
     "execution_count": 138,
     "metadata": {},
     "output_type": "execute_result"
    }
   ],
   "source": [
    "vectorizer = sklearn.feature_extraction.text.TfidfVectorizer(\n",
    "    sublinear_tf=False,\n",
    "    \n",
    "    max_df=0.9, \n",
    "    min_df=0.3, \n",
    "    \n",
    "    use_idf=True, \n",
    "                                                             \n",
    "    stop_words=\"english\", \n",
    "    lowercase=True, \n",
    "    max_features=None,\n",
    "                                                            \n",
    "    strip_accents='unicode', \n",
    "    ngram_range=(1,2), \n",
    "    norm=u'l2',\n",
    "                                                             \n",
    "    smooth_idf=True, \n",
    "    token_pattern=r'[a-z\\d]{2,}'\n",
    ")\n",
    "\n",
    "vectorizer.fit(X_train)"
   ]
  },
  {
   "cell_type": "code",
   "execution_count": 139,
   "metadata": {
    "collapsed": true
   },
   "outputs": [],
   "source": [
    "X_train = vectorizer.transform(X_train)\n",
    "X_test = vectorizer.transform(X_test)"
   ]
  },
  {
   "cell_type": "markdown",
   "metadata": {},
   "source": [
    "# Decision Tree Classifier"
   ]
  },
  {
   "cell_type": "code",
   "execution_count": 140,
   "metadata": {
    "collapsed": false
   },
   "outputs": [
    {
     "data": {
      "text/plain": [
       "DecisionTreeClassifier(class_weight=None, criterion='gini', max_depth=None,\n",
       "            max_features=None, max_leaf_nodes=25, min_impurity_split=1e-07,\n",
       "            min_samples_leaf=1, min_samples_split=2,\n",
       "            min_weight_fraction_leaf=0.0, presort=False, random_state=None,\n",
       "            splitter='best')"
      ]
     },
     "execution_count": 140,
     "metadata": {},
     "output_type": "execute_result"
    }
   ],
   "source": [
    "from sklearn.tree import DecisionTreeClassifier\n",
    "\n",
    "clf = DecisionTreeClassifier(max_leaf_nodes=25)\n",
    "# clf = DecisionTreeClassifier()\n",
    "\n",
    "clf = clf.fit(X_train, y_train)\n",
    "clf\n",
    "# clf.feature_importances_"
   ]
  },
  {
   "cell_type": "code",
   "execution_count": 141,
   "metadata": {
    "collapsed": false
   },
   "outputs": [
    {
     "data": {
      "text/plain": [
       "(589, 201)"
      ]
     },
     "execution_count": 141,
     "metadata": {},
     "output_type": "execute_result"
    }
   ],
   "source": [
    "X_train.shape"
   ]
  },
  {
   "cell_type": "code",
   "execution_count": 142,
   "metadata": {
    "collapsed": false
   },
   "outputs": [
    {
     "data": {
      "text/plain": [
       "(148, 201)"
      ]
     },
     "execution_count": 142,
     "metadata": {},
     "output_type": "execute_result"
    }
   ],
   "source": [
    "X_test.shape"
   ]
  },
  {
   "cell_type": "code",
   "execution_count": 143,
   "metadata": {
    "collapsed": false
   },
   "outputs": [],
   "source": [
    "predictions = clf.predict(X_test)"
   ]
  },
  {
   "cell_type": "code",
   "execution_count": 144,
   "metadata": {
    "collapsed": false
   },
   "outputs": [
    {
     "data": {
      "text/plain": [
       "0.79729729729729726"
      ]
     },
     "execution_count": 144,
     "metadata": {},
     "output_type": "execute_result"
    }
   ],
   "source": [
    "from sklearn.metrics import accuracy_score\n",
    "accuracy_score(y_test, predictions)"
   ]
  },
  {
   "cell_type": "markdown",
   "metadata": {},
   "source": [
    "### Errors"
   ]
  },
  {
   "cell_type": "code",
   "execution_count": 145,
   "metadata": {
    "collapsed": false
   },
   "outputs": [],
   "source": [
    "A_O = [pred[0] for pred in zip(F_names, y_test, predictions) if pred[1]-pred[2] == 1]\n",
    "O_A = [pred[0] for pred in zip(F_names, y_test, predictions) if pred[1]-pred[2] == -1]"
   ]
  },
  {
   "cell_type": "code",
   "execution_count": 146,
   "metadata": {
    "collapsed": false
   },
   "outputs": [
    {
     "name": "stdout",
     "output_type": "stream",
     "text": [
      "Approved to Other: 15\n"
     ]
    }
   ],
   "source": [
    "print('Approved to Other: ' + str(len(A_O)))\n",
    "# A_O"
   ]
  },
  {
   "cell_type": "code",
   "execution_count": 147,
   "metadata": {
    "collapsed": false,
    "scrolled": true
   },
   "outputs": [
    {
     "name": "stdout",
     "output_type": "stream",
     "text": [
      "Other to Approved: 15\n"
     ]
    }
   ],
   "source": [
    "print('Other to Approved: ' + str(len(O_A)))\n",
    "# O_A"
   ]
  },
  {
   "cell_type": "markdown",
   "metadata": {},
   "source": [
    "# Random Forest Classifier"
   ]
  },
  {
   "cell_type": "code",
   "execution_count": 148,
   "metadata": {
    "collapsed": false
   },
   "outputs": [
    {
     "data": {
      "text/plain": [
       "RandomForestClassifier(bootstrap=True, class_weight=None, criterion='gini',\n",
       "            max_depth=None, max_features='auto', max_leaf_nodes=None,\n",
       "            min_impurity_split=1e-07, min_samples_leaf=1,\n",
       "            min_samples_split=2, min_weight_fraction_leaf=0.0,\n",
       "            n_estimators=10, n_jobs=1, oob_score=False, random_state=1,\n",
       "            verbose=0, warm_start=False)"
      ]
     },
     "execution_count": 148,
     "metadata": {},
     "output_type": "execute_result"
    }
   ],
   "source": [
    "from sklearn.ensemble import RandomForestClassifier\n",
    "# clf = RandomForestClassifier(n_estimators = 1000, max_leaf_nodes = 15)\n",
    "clf = RandomForestClassifier(random_state=1)\n",
    "clf"
   ]
  },
  {
   "cell_type": "markdown",
   "metadata": {},
   "source": [
    "Decision Tree Params:\n",
    "class_weight=None,\n",
    "criterion='gini',\n",
    "max_depth=None,\n",
    "max_features='auto',\n",
    "max_leaf_nodes=None,\n",
    "min_impurity_split=1e-07,\n",
    "min_samples_leaf=1,\n",
    "min_samples_split=2,\n",
    "min_weight_fraction_leaf=0.0,\n",
    "\n",
    "Number of trees in the ensemble:\n",
    "n_estimators=10,\n",
    "\n"
   ]
  },
  {
   "cell_type": "code",
   "execution_count": 149,
   "metadata": {
    "collapsed": false
   },
   "outputs": [
    {
     "data": {
      "text/plain": [
       "0.86486486486486491"
      ]
     },
     "execution_count": 149,
     "metadata": {},
     "output_type": "execute_result"
    }
   ],
   "source": [
    "clf = clf.fit(X_train, y_train)\n",
    "predictions = clf.predict(X_test)\n",
    "accuracy_score(y_test, predictions)"
   ]
  },
  {
   "cell_type": "markdown",
   "metadata": {},
   "source": [
    "### Errors"
   ]
  },
  {
   "cell_type": "code",
   "execution_count": 150,
   "metadata": {
    "collapsed": false
   },
   "outputs": [],
   "source": [
    "A_O = [pred[0] for pred in zip(F_names, y_test, predictions) if pred[1]-pred[2] == 1]\n",
    "O_A = [pred[0] for pred in zip(F_names, y_test, predictions) if pred[1]-pred[2] == -1]"
   ]
  },
  {
   "cell_type": "code",
   "execution_count": 151,
   "metadata": {
    "collapsed": false
   },
   "outputs": [
    {
     "name": "stdout",
     "output_type": "stream",
     "text": [
      "Approved to Other: 13\n"
     ]
    }
   ],
   "source": [
    "print('Approved to Other: ' + str(len(A_O)))\n",
    "# A_O"
   ]
  },
  {
   "cell_type": "code",
   "execution_count": 152,
   "metadata": {
    "collapsed": false,
    "scrolled": true
   },
   "outputs": [
    {
     "name": "stdout",
     "output_type": "stream",
     "text": [
      "Other to Approved: 7\n"
     ]
    }
   ],
   "source": [
    "print('Other to Approved: ' + str(len(O_A)))\n",
    "# O_A"
   ]
  },
  {
   "cell_type": "markdown",
   "metadata": {},
   "source": [
    "# Gradient Boosted Tree"
   ]
  },
  {
   "cell_type": "code",
   "execution_count": 153,
   "metadata": {
    "collapsed": false
   },
   "outputs": [
    {
     "data": {
      "text/plain": [
       "GradientBoostingClassifier(criterion='friedman_mse', init=None,\n",
       "              learning_rate=0.1, loss='deviance', max_depth=1,\n",
       "              max_features=None, max_leaf_nodes=None,\n",
       "              min_impurity_split=1e-07, min_samples_leaf=1,\n",
       "              min_samples_split=2, min_weight_fraction_leaf=0.0,\n",
       "              n_estimators=1000, presort='auto', random_state=104,\n",
       "              subsample=1.0, verbose=0, warm_start=True)"
      ]
     },
     "execution_count": 153,
     "metadata": {},
     "output_type": "execute_result"
    }
   ],
   "source": [
    "from sklearn.ensemble import GradientBoostingClassifier\n",
    "\n",
    "clf = GradientBoostingClassifier(\n",
    "    max_depth=1,\n",
    "    n_estimators=1000,\n",
    "    warm_start=True,\n",
    "    random_state=104\n",
    ")\n",
    "clf"
   ]
  },
  {
   "cell_type": "code",
   "execution_count": 154,
   "metadata": {
    "collapsed": false
   },
   "outputs": [
    {
     "data": {
      "text/plain": [
       "0.86486486486486491"
      ]
     },
     "execution_count": 154,
     "metadata": {},
     "output_type": "execute_result"
    }
   ],
   "source": [
    "clf.fit(X_train.toarray(), y_train)\n",
    "predictions = clf.predict(X_test.toarray())\n",
    "accuracy_score(y_test, predictions)"
   ]
  },
  {
   "cell_type": "markdown",
   "metadata": {},
   "source": [
    "### Errors"
   ]
  },
  {
   "cell_type": "code",
   "execution_count": 155,
   "metadata": {
    "collapsed": false
   },
   "outputs": [],
   "source": [
    "A_O = [pred[0] for pred in zip(F_names, y_test, predictions) if pred[1]-pred[2] == 1]\n",
    "O_A = [pred[0] for pred in zip(F_names, y_test, predictions) if pred[1]-pred[2] == -1]"
   ]
  },
  {
   "cell_type": "code",
   "execution_count": 156,
   "metadata": {
    "collapsed": false
   },
   "outputs": [
    {
     "name": "stdout",
     "output_type": "stream",
     "text": [
      "Approved to Other: 10\n"
     ]
    }
   ],
   "source": [
    "print('Approved to Other: ' + str(len(A_O)))\n",
    "# A_O"
   ]
  },
  {
   "cell_type": "code",
   "execution_count": 157,
   "metadata": {
    "collapsed": false,
    "scrolled": false
   },
   "outputs": [
    {
     "name": "stdout",
     "output_type": "stream",
     "text": [
      "Other to Approved: 10\n"
     ]
    }
   ],
   "source": [
    "print('Other to Approved: ' + str(len(O_A)))\n",
    "# O_A"
   ]
  },
  {
   "cell_type": "markdown",
   "metadata": {},
   "source": [
    "# AdaBoost (sklearn)"
   ]
  },
  {
   "cell_type": "code",
   "execution_count": 158,
   "metadata": {
    "collapsed": true
   },
   "outputs": [],
   "source": [
    "from sklearn.ensemble import AdaBoostClassifier"
   ]
  },
  {
   "cell_type": "code",
   "execution_count": 159,
   "metadata": {
    "collapsed": false
   },
   "outputs": [
    {
     "data": {
      "text/plain": [
       "AdaBoostClassifier(algorithm='SAMME',\n",
       "          base_estimator=DecisionTreeClassifier(class_weight=None, criterion='gini', max_depth=1,\n",
       "            max_features=None, max_leaf_nodes=None,\n",
       "            min_impurity_split=1e-07, min_samples_leaf=1,\n",
       "            min_samples_split=2, min_weight_fraction_leaf=0.0,\n",
       "            presort=False, random_state=None, splitter='best'),\n",
       "          learning_rate=1.0, n_estimators=1000, random_state=104)"
      ]
     },
     "execution_count": 159,
     "metadata": {},
     "output_type": "execute_result"
    }
   ],
   "source": [
    "clf = AdaBoostClassifier(\n",
    "    base_estimator = DecisionTreeClassifier(max_depth=1),\n",
    "    algorithm='SAMME',\n",
    "    n_estimators=1000,\n",
    "    random_state=104\n",
    ")\n",
    "clf"
   ]
  },
  {
   "cell_type": "code",
   "execution_count": 160,
   "metadata": {
    "collapsed": false,
    "scrolled": true
   },
   "outputs": [
    {
     "data": {
      "text/plain": [
       "0.86486486486486491"
      ]
     },
     "execution_count": 160,
     "metadata": {},
     "output_type": "execute_result"
    }
   ],
   "source": [
    "clf.fit(X_train, y_train)\n",
    "predictions = clf.predict(X_test)\n",
    "accuracy_score(y_test, predictions)"
   ]
  },
  {
   "cell_type": "markdown",
   "metadata": {},
   "source": [
    "### Errors"
   ]
  },
  {
   "cell_type": "code",
   "execution_count": 161,
   "metadata": {
    "collapsed": false
   },
   "outputs": [],
   "source": [
    "A_O = [pred[0] for pred in zip(F_names, y_test, predictions) if pred[1]-pred[2] == 1]\n",
    "O_A = [pred[0] for pred in zip(F_names, y_test, predictions) if pred[1]-pred[2] == -1]"
   ]
  },
  {
   "cell_type": "code",
   "execution_count": 162,
   "metadata": {
    "collapsed": false
   },
   "outputs": [
    {
     "name": "stdout",
     "output_type": "stream",
     "text": [
      "Approved to Other: 10\n"
     ]
    }
   ],
   "source": [
    "print('Approved to Other: ' + str(len(A_O)))\n",
    "# A_O"
   ]
  },
  {
   "cell_type": "code",
   "execution_count": 163,
   "metadata": {
    "collapsed": false,
    "scrolled": false
   },
   "outputs": [
    {
     "name": "stdout",
     "output_type": "stream",
     "text": [
      "Other to Approved: 10\n"
     ]
    }
   ],
   "source": [
    "print('Other to Approved: ' + str(len(O_A)))\n",
    "# O_A"
   ]
  },
  {
   "cell_type": "markdown",
   "metadata": {},
   "source": [
    "# XGBoost (sklearn)"
   ]
  },
  {
   "cell_type": "code",
   "execution_count": 164,
   "metadata": {
    "collapsed": false
   },
   "outputs": [
    {
     "data": {
      "text/plain": [
       "XGBClassifier(base_score=0.5, colsample_bylevel=1, colsample_bytree=1,\n",
       "       gamma=0, learning_rate=0.1, max_delta_step=0, max_depth=3,\n",
       "       min_child_weight=1, missing=None, n_estimators=1000, nthread=-1,\n",
       "       objective='binary:logistic', reg_alpha=0, reg_lambda=1,\n",
       "       scale_pos_weight=1, seed=0, silent=True, subsample=1)"
      ]
     },
     "execution_count": 164,
     "metadata": {},
     "output_type": "execute_result"
    }
   ],
   "source": [
    "from xgboost.sklearn import XGBClassifier \n",
    "clf = XGBClassifier(n_estimators = 1000)\n",
    "clf"
   ]
  },
  {
   "cell_type": "code",
   "execution_count": 165,
   "metadata": {
    "collapsed": false
   },
   "outputs": [
    {
     "data": {
      "text/plain": [
       "0.88513513513513509"
      ]
     },
     "execution_count": 165,
     "metadata": {},
     "output_type": "execute_result"
    }
   ],
   "source": [
    "clf = clf.fit(X_train, y_train)\n",
    "predictions = clf.predict(X_test)\n",
    "accuracy_score(y_test, predictions)"
   ]
  },
  {
   "cell_type": "markdown",
   "metadata": {},
   "source": [
    "### Errors"
   ]
  },
  {
   "cell_type": "code",
   "execution_count": 166,
   "metadata": {
    "collapsed": false
   },
   "outputs": [],
   "source": [
    "A_O = [pred[0] for pred in zip(F_names, y_test, predictions) if pred[1]-pred[2] == 1]\n",
    "O_A = [pred[0] for pred in zip(F_names, y_test, predictions) if pred[1]-pred[2] == -1]"
   ]
  },
  {
   "cell_type": "code",
   "execution_count": 167,
   "metadata": {
    "collapsed": false
   },
   "outputs": [
    {
     "name": "stdout",
     "output_type": "stream",
     "text": [
      "Approved to Other: 6\n"
     ]
    }
   ],
   "source": [
    "print('Approved to Other: ' + str(len(A_O)))\n",
    "# A_O"
   ]
  },
  {
   "cell_type": "code",
   "execution_count": 168,
   "metadata": {
    "collapsed": false,
    "scrolled": true
   },
   "outputs": [
    {
     "name": "stdout",
     "output_type": "stream",
     "text": [
      "Other to Approved: 11\n"
     ]
    }
   ],
   "source": [
    "print('Other to Approved: ' + str(len(O_A)))\n",
    "# O_A"
   ]
  },
  {
   "cell_type": "markdown",
   "metadata": {},
   "source": [
    "## HPO"
   ]
  },
  {
   "cell_type": "code",
   "execution_count": 169,
   "metadata": {
    "collapsed": false
   },
   "outputs": [],
   "source": [
    "from hyperopt import fmin, tpe, hp, STATUS_OK, Trials"
   ]
  },
  {
   "cell_type": "code",
   "execution_count": 170,
   "metadata": {
    "collapsed": true
   },
   "outputs": [],
   "source": [
    "space ={\n",
    "    'n_estimators':hp.quniform('n_estimators',100,1000,1),\n",
    "    'learning_rate':hp.quniform('learning_rate',0.025,0.5,0.025),\n",
    "    'max_depth': hp.quniform('max_depth',1,13,1),\n",
    "    'min_child_weight': hp.quniform('min_child_weight',1,6,1),\n",
    "    'subsample': hp.quniform('subsample',0.5,1,0.05),\n",
    "    'gamma':hp.quniform('gamma',0.5,1,0.05),\n",
    "    'colsample_bytree':hp.quniform('colsample_bytree',0.5,1,0.05),\n",
    "    'nthread':6,\n",
    "    'silent':1\n",
    "}"
   ]
  },
  {
   "cell_type": "code",
   "execution_count": 171,
   "metadata": {
    "collapsed": true
   },
   "outputs": [],
   "source": [
    "def score(params):\n",
    "    params['n_estimators'] = int(params['n_estimators'])\n",
    "    params['max_depth'] = int(params['max_depth'])\n",
    "\n",
    "    clf = XGBClassifier(**params)\n",
    "    \n",
    "    clf = clf.fit(X_train, y_train)\n",
    "    predictions = clf.predict(X_test)\n",
    "    \n",
    "    return {'loss': 1 - accuracy_score(y_test, predictions), 'status': STATUS_OK}"
   ]
  },
  {
   "cell_type": "code",
   "execution_count": 172,
   "metadata": {
    "collapsed": true
   },
   "outputs": [],
   "source": [
    "trials = Trials()"
   ]
  },
  {
   "cell_type": "code",
   "execution_count": 173,
   "metadata": {
    "collapsed": false
   },
   "outputs": [
    {
     "data": {
      "text/plain": [
       "{'colsample_bytree': 0.8,\n",
       " 'gamma': 1.0,\n",
       " 'learning_rate': 0.47500000000000003,\n",
       " 'max_depth': 5.0,\n",
       " 'min_child_weight': 3.0,\n",
       " 'n_estimators': 171.0,\n",
       " 'subsample': 0.55}"
      ]
     },
     "execution_count": 173,
     "metadata": {},
     "output_type": "execute_result"
    }
   ],
   "source": [
    "best = fmin(score, space, algo = tpe.suggest, trials = trials, max_evals = 250)\n",
    "best"
   ]
  },
  {
   "cell_type": "code",
   "execution_count": 174,
   "metadata": {
    "collapsed": false
   },
   "outputs": [],
   "source": [
    "best['n_estimators'] = int(best['n_estimators'])\n",
    "best['max_depth'] = int(best['max_depth'])\n",
    "\n",
    "clf = XGBClassifier(**best)\n",
    "clf = clf.fit(X_train, y_train)\n",
    "predictions = clf.predict(X_test)"
   ]
  },
  {
   "cell_type": "code",
   "execution_count": 175,
   "metadata": {
    "collapsed": false
   },
   "outputs": [
    {
     "data": {
      "text/plain": [
       "0.95270270270270274"
      ]
     },
     "execution_count": 175,
     "metadata": {},
     "output_type": "execute_result"
    }
   ],
   "source": [
    "accuracy_score(y_test, predictions)"
   ]
  },
  {
   "cell_type": "markdown",
   "metadata": {},
   "source": [
    "### Errors"
   ]
  },
  {
   "cell_type": "code",
   "execution_count": 176,
   "metadata": {
    "collapsed": false
   },
   "outputs": [],
   "source": [
    "A_O = [pred[0] for pred in zip(F_names, y_test, predictions) if pred[1]-pred[2] == 1]\n",
    "O_A = [pred[0] for pred in zip(F_names, y_test, predictions) if pred[1]-pred[2] == -1]"
   ]
  },
  {
   "cell_type": "code",
   "execution_count": 177,
   "metadata": {
    "collapsed": false
   },
   "outputs": [
    {
     "name": "stdout",
     "output_type": "stream",
     "text": [
      "Approved to Other: 3\n"
     ]
    }
   ],
   "source": [
    "print('Approved to Other: ' + str(len(A_O)))\n",
    "# A_O"
   ]
  },
  {
   "cell_type": "code",
   "execution_count": 178,
   "metadata": {
    "collapsed": false,
    "scrolled": false
   },
   "outputs": [
    {
     "name": "stdout",
     "output_type": "stream",
     "text": [
      "Other to Approved: 4\n"
     ]
    }
   ],
   "source": [
    "print('Other to Approved: ' + str(len(O_A)))\n",
    "# O_A"
   ]
  },
  {
   "cell_type": "markdown",
   "metadata": {},
   "source": [
    "# XGBoost"
   ]
  },
  {
   "cell_type": "code",
   "execution_count": 179,
   "metadata": {
    "collapsed": true
   },
   "outputs": [],
   "source": [
    "import numpy as np\n",
    "import xgboost as xgb"
   ]
  },
  {
   "cell_type": "code",
   "execution_count": 180,
   "metadata": {
    "collapsed": false,
    "scrolled": true
   },
   "outputs": [],
   "source": [
    "dtrain = xgb.DMatrix(X_train, y_train)\n",
    "dtest = xgb.DMatrix(X_test, y_test)"
   ]
  },
  {
   "cell_type": "code",
   "execution_count": 181,
   "metadata": {
    "collapsed": true
   },
   "outputs": [],
   "source": [
    "params = {\n",
    "    'objective':'binary:logistic',\n",
    "    'max_depth':2,\n",
    "    'silent':1,\n",
    "    'eta':1\n",
    "}\n",
    "\n",
    "num_rounds = 5"
   ]
  },
  {
   "cell_type": "code",
   "execution_count": 182,
   "metadata": {
    "collapsed": true
   },
   "outputs": [],
   "source": [
    "bst = xgb.train(params, dtrain, num_rounds)"
   ]
  },
  {
   "cell_type": "code",
   "execution_count": 183,
   "metadata": {
    "collapsed": false,
    "scrolled": true
   },
   "outputs": [
    {
     "name": "stdout",
     "output_type": "stream",
     "text": [
      "[0]\ttest-error:0.222973\ttrain-error:0.195246\n",
      "[1]\ttest-error:0.168919\ttrain-error:0.134126\n",
      "[2]\ttest-error:0.135135\ttrain-error:0.110357\n",
      "[3]\ttest-error:0.148649\ttrain-error:0.089983\n",
      "[4]\ttest-error:0.121622\ttrain-error:0.076401\n"
     ]
    }
   ],
   "source": [
    "watchlist  = [(dtest,'test'), (dtrain,'train')] # native interface only\n",
    "bst = xgb.train(params, dtrain, num_rounds, watchlist)"
   ]
  },
  {
   "cell_type": "code",
   "execution_count": 184,
   "metadata": {
    "collapsed": false,
    "scrolled": true
   },
   "outputs": [
    {
     "data": {
      "text/plain": [
       "array([ 0.15363337,  0.21899767,  0.01181291,  0.02885863,  0.14517722,\n",
       "        0.07319494,  0.90725493,  0.13989983,  0.07319494,  0.26447749,\n",
       "        0.15343449,  0.02885863,  0.01900788,  0.00905742,  0.51840162,\n",
       "        0.90738362,  0.76218176,  0.01382405,  0.04873211,  0.14891458,\n",
       "        0.01181291,  0.07126063,  0.52580065,  0.51840162,  0.6018827 ,\n",
       "        0.44765916,  0.37509748,  0.03887101,  0.00905742,  0.00905742,\n",
       "        0.14025453,  0.00905742,  0.02885863,  0.11091775,  0.51119131,\n",
       "        0.28129286,  0.35506445,  0.00992917,  0.02841073,  0.10849049,\n",
       "        0.13989983,  0.07887398,  0.41820234,  0.00905742,  0.07887398,\n",
       "        0.00905742,  0.00905742,  0.04873211,  0.10760962,  0.00905742,\n",
       "        0.13913651,  0.00905742,  0.18733233,  0.14025453,  0.43125173,\n",
       "        0.05559278,  0.60224938,  0.45381191,  0.14517722,  0.00905742,\n",
       "        0.01900788,  0.00905742,  0.90738362,  0.01382405,  0.05550496,\n",
       "        0.02452156,  0.28129286,  0.01382405,  0.76218176,  0.01464376,\n",
       "        0.82211417,  0.64121199,  0.0369638 ,  0.35506445,  0.00905742,\n",
       "        0.75115156,  0.07126063,  0.03054222,  0.93768209,  0.13913651,\n",
       "        0.11607888,  0.82211417,  0.01800333,  0.00905742,  0.03232344,\n",
       "        0.28129286,  0.35506445,  0.34342507,  0.51840162,  0.05550496,\n",
       "        0.45381191,  0.44765916,  0.00905742,  0.71213126,  0.00905742,\n",
       "        0.13913651,  0.26647198,  0.04111738,  0.00905742,  0.01382405,\n",
       "        0.16845086,  0.00905742,  0.02452156,  0.90738362,  0.82211417,\n",
       "        0.14025453,  0.07887398,  0.01382405,  0.00307519,  0.96511072,\n",
       "        0.40583712,  0.45741996,  0.01900788,  0.2161164 ,  0.28129286,\n",
       "        0.08575621,  0.8784076 ,  0.05559278,  0.00905742,  0.58498657,\n",
       "        0.45741996,  0.00905742,  0.05738083,  0.82211417,  0.6078226 ,\n",
       "        0.01346512,  0.07126063,  0.04873211,  0.01900788,  0.51119131,\n",
       "        0.01900788,  0.28509703,  0.00905742,  0.11379662,  0.03232344,\n",
       "        0.00905742,  0.90738362,  0.93768209,  0.04460704,  0.51840162,\n",
       "        0.01900788,  0.19423461,  0.89800996,  0.76218176,  0.08575621,\n",
       "        0.00905742,  0.17573066,  0.51840162], dtype=float32)"
      ]
     },
     "execution_count": 184,
     "metadata": {},
     "output_type": "execute_result"
    }
   ],
   "source": [
    "preds_prob = bst.predict(dtest)\n",
    "preds_prob"
   ]
  },
  {
   "cell_type": "code",
   "execution_count": 185,
   "metadata": {
    "collapsed": false
   },
   "outputs": [
    {
     "name": "stdout",
     "output_type": "stream",
     "text": [
      "Predicted correctly: 130/148\n",
      "Error: 1.0000\n"
     ]
    }
   ],
   "source": [
    "predictions = preds_prob > 0.5 # threshold\n",
    "correct = 0\n",
    "\n",
    "for i in range(len(predictions)):\n",
    "    if (y_test[i] == predictions[i]):\n",
    "        correct += 1\n",
    "\n",
    "print('Predicted correctly: {0}/{1}'.format(correct, len(predictions)))\n",
    "print('Error: {0:.4f}'.format(1-correct/len(predictions)))"
   ]
  },
  {
   "cell_type": "code",
   "execution_count": 186,
   "metadata": {
    "collapsed": false
   },
   "outputs": [
    {
     "data": {
      "text/plain": [
       "0.8783783783783784"
      ]
     },
     "execution_count": 186,
     "metadata": {},
     "output_type": "execute_result"
    }
   ],
   "source": [
    "accuracy_score(y_test, predictions)"
   ]
  },
  {
   "cell_type": "markdown",
   "metadata": {},
   "source": [
    "### Errors"
   ]
  },
  {
   "cell_type": "code",
   "execution_count": 187,
   "metadata": {
    "collapsed": false
   },
   "outputs": [],
   "source": [
    "A_O = [pred[0] for pred in zip(F_names, y_test, predictions) if pred[1]-pred[2] == 1]\n",
    "O_A = [pred[0] for pred in zip(F_names, y_test, predictions) if pred[1]-pred[2] == -1]"
   ]
  },
  {
   "cell_type": "code",
   "execution_count": 188,
   "metadata": {
    "collapsed": false
   },
   "outputs": [
    {
     "name": "stdout",
     "output_type": "stream",
     "text": [
      "Approved to Other: 10\n"
     ]
    }
   ],
   "source": [
    "print('Approved to Other: ' + str(len(A_O)))\n",
    "# A_O"
   ]
  },
  {
   "cell_type": "code",
   "execution_count": 189,
   "metadata": {
    "collapsed": false,
    "scrolled": false
   },
   "outputs": [
    {
     "name": "stdout",
     "output_type": "stream",
     "text": [
      "Other to Approved: 8\n"
     ]
    }
   ],
   "source": [
    "print('Other to Approved: ' + str(len(O_A)))\n",
    "# O_A"
   ]
  },
  {
   "cell_type": "markdown",
   "metadata": {},
   "source": [
    "### Important Features"
   ]
  },
  {
   "cell_type": "code",
   "execution_count": 190,
   "metadata": {
    "collapsed": true
   },
   "outputs": [],
   "source": [
    "%matplotlib inline\n",
    "\n",
    "import xgboost as xgb\n",
    "import seaborn as sns\n",
    "import pandas as pd\n",
    "\n",
    "sns.set(font_scale = 1.5)"
   ]
  },
  {
   "cell_type": "code",
   "execution_count": 191,
   "metadata": {
    "collapsed": false
   },
   "outputs": [
    {
     "data": {
      "text/plain": [
       "<matplotlib.axes._subplots.AxesSubplot at 0xcccae80>"
      ]
     },
     "execution_count": 191,
     "metadata": {},
     "output_type": "execute_result"
    },
    {
     "data": {
      "image/png": "[encoded data removed]",
      "text/plain": [
       "<matplotlib.figure.Figure at 0xccca278>"
      ]
     },
     "metadata": {},
     "output_type": "display_data"
    }
   ],
   "source": [
    "xgb.plot_importance(bst, importance_type='gain', xlabel='Gain')"
   ]
  },
  {
   "cell_type": "code",
   "execution_count": 192,
   "metadata": {
    "collapsed": false
   },
   "outputs": [
    {
     "data": {
      "text/plain": [
       "<matplotlib.axes._subplots.AxesSubplot at 0xdafa080>"
      ]
     },
     "execution_count": 192,
     "metadata": {},
     "output_type": "execute_result"
    },
    {
     "data": {
      "image/png": "[encoded data removed]",
      "text/plain": [
       "<matplotlib.figure.Figure at 0x16c16e80>"
      ]
     },
     "metadata": {},
     "output_type": "display_data"
    }
   ],
   "source": [
    "xgb.plot_importance(bst)"
   ]
  },
  {
   "cell_type": "code",
   "execution_count": 193,
   "metadata": {
    "collapsed": false
   },
   "outputs": [
    {
     "data": {
      "text/plain": [
       "{'f123': 1,\n",
       " 'f142': 1,\n",
       " 'f143': 1,\n",
       " 'f145': 1,\n",
       " 'f174': 1,\n",
       " 'f175': 2,\n",
       " 'f179': 1,\n",
       " 'f185': 1,\n",
       " 'f193': 1,\n",
       " 'f22': 1,\n",
       " 'f23': 1,\n",
       " 'f25': 1,\n",
       " 'f40': 1,\n",
       " 'f75': 1}"
      ]
     },
     "execution_count": 193,
     "metadata": {},
     "output_type": "execute_result"
    }
   ],
   "source": [
    "importances = bst.get_fscore()\n",
    "importances"
   ]
  },
  {
   "cell_type": "code",
   "execution_count": 194,
   "metadata": {
    "collapsed": false
   },
   "outputs": [
    {
     "data": {
      "text/plain": [
       "<matplotlib.axes._subplots.AxesSubplot at 0xdb1fb70>"
      ]
     },
     "execution_count": 194,
     "metadata": {},
     "output_type": "execute_result"
    },
    {
     "data": {
      "image/png": "[encoded data removed]",
      "text/plain": [
       "<matplotlib.figure.Figure at 0x16b30278>"
      ]
     },
     "metadata": {},
     "output_type": "display_data"
    }
   ],
   "source": [
    "# create df\n",
    "importance_df = pd.DataFrame({\n",
    "        'Splits': list(importances.values()),\n",
    "        'Feature': list(importances.keys())\n",
    "    })\n",
    "importance_df.sort_values(by='Splits', inplace=True)\n",
    "importance_df.plot(kind='barh', x='Feature', figsize=(8,6), color='orange')"
   ]
  },
  {
   "cell_type": "markdown",
   "metadata": {
    "collapsed": true
   },
   "source": [
    "# GridSearch and XGBoost"
   ]
  },
  {
   "cell_type": "code",
   "execution_count": 195,
   "metadata": {
    "collapsed": false
   },
   "outputs": [],
   "source": [
    "import xgboost as xgb\n",
    "from sklearn.grid_search import GridSearchCV"
   ]
  },
  {
   "cell_type": "code",
   "execution_count": 196,
   "metadata": {
    "collapsed": true
   },
   "outputs": [],
   "source": [
    "cv_params = {\n",
    "    'max_depth': [3,5,7], \n",
    "    'min_child_weight': [1,3,5]\n",
    "}\n",
    "\n",
    "# maximum depth of the trees first, along with the min_child_weight, which is very similar to min_samples_split in sklearn’s version of gradient boosted trees\n",
    "\n",
    "ind_params = {\n",
    "    'learning_rate': 0.1,\n",
    "    'n_estimators': 1000, \n",
    "    'seed':0, \n",
    "    'subsample': 0.8, \n",
    "    'colsample_bytree': 0.8,\n",
    "    'objective': 'binary:logistic'\n",
    "}\n",
    "\n",
    "optimized_GBM = GridSearchCV(\n",
    "    xgb.XGBClassifier(**ind_params), \n",
    "    cv_params,\n",
    "    scoring = 'accuracy',\n",
    "    cv = 5,\n",
    "    n_jobs = -1\n",
    ")"
   ]
  },
  {
   "cell_type": "code",
   "execution_count": 197,
   "metadata": {
    "collapsed": false
   },
   "outputs": [
    {
     "data": {
      "text/plain": [
       "GridSearchCV(cv=5, error_score='raise',\n",
       "       estimator=XGBClassifier(base_score=0.5, colsample_bylevel=1, colsample_bytree=0.8,\n",
       "       gamma=0, learning_rate=0.1, max_delta_step=0, max_depth=3,\n",
       "       min_child_weight=1, missing=None, n_estimators=1000, nthread=-1,\n",
       "       objective='binary:logistic', reg_alpha=0, reg_lambda=1,\n",
       "       scale_pos_weight=1, seed=0, silent=True, subsample=0.8),\n",
       "       fit_params={}, iid=True, n_jobs=-1,\n",
       "       param_grid={'max_depth': [3, 5, 7], 'min_child_weight': [1, 3, 5]},\n",
       "       pre_dispatch='2*n_jobs', refit=True, scoring='accuracy', verbose=0)"
      ]
     },
     "execution_count": 197,
     "metadata": {},
     "output_type": "execute_result"
    }
   ],
   "source": [
    "optimized_GBM.fit(X_train, y_train) # 5-fold cross-validation and see which parameters perform the best"
   ]
  },
  {
   "cell_type": "code",
   "execution_count": 198,
   "metadata": {
    "collapsed": false
   },
   "outputs": [
    {
     "data": {
      "text/plain": [
       "[mean: 0.88455, std: 0.03838, params: {'max_depth': 3, 'min_child_weight': 1},\n",
       " mean: 0.88115, std: 0.03617, params: {'max_depth': 3, 'min_child_weight': 3},\n",
       " mean: 0.87606, std: 0.03201, params: {'max_depth': 3, 'min_child_weight': 5},\n",
       " mean: 0.88285, std: 0.03879, params: {'max_depth': 5, 'min_child_weight': 1},\n",
       " mean: 0.87606, std: 0.03183, params: {'max_depth': 5, 'min_child_weight': 3},\n",
       " mean: 0.86757, std: 0.03113, params: {'max_depth': 5, 'min_child_weight': 5},\n",
       " mean: 0.88795, std: 0.03635, params: {'max_depth': 7, 'min_child_weight': 1},\n",
       " mean: 0.87267, std: 0.02741, params: {'max_depth': 7, 'min_child_weight': 3},\n",
       " mean: 0.86757, std: 0.03113, params: {'max_depth': 7, 'min_child_weight': 5}]"
      ]
     },
     "execution_count": 198,
     "metadata": {},
     "output_type": "execute_result"
    }
   ],
   "source": [
    "optimized_GBM.grid_scores_"
   ]
  },
  {
   "cell_type": "code",
   "execution_count": 199,
   "metadata": {
    "collapsed": false
   },
   "outputs": [
    {
     "data": {
      "text/plain": [
       "GridSearchCV(cv=5, error_score='raise',\n",
       "       estimator=XGBClassifier(base_score=0.5, colsample_bylevel=1, colsample_bytree=0.8,\n",
       "       gamma=0, learning_rate=0.1, max_delta_step=0, max_depth=3,\n",
       "       min_child_weight=1, missing=None, n_estimators=1000, nthread=-1,\n",
       "       objective='binary:logistic', reg_alpha=0, reg_lambda=1,\n",
       "       scale_pos_weight=1, seed=0, silent=True, subsample=1),\n",
       "       fit_params={}, iid=True, n_jobs=-1,\n",
       "       param_grid={'subsample': [0.7, 0.8, 0.9], 'learning_rate': [0.1, 0.01]},\n",
       "       pre_dispatch='2*n_jobs', refit=True, scoring='accuracy', verbose=0)"
      ]
     },
     "execution_count": 199,
     "metadata": {},
     "output_type": "execute_result"
    }
   ],
   "source": [
    "cv_params = {\n",
    "    'learning_rate': [0.1, 0.01], \n",
    "    'subsample': [0.7,0.8,0.9]\n",
    "}\n",
    "# subsampling along with lowering the learning rate to see if that helps\n",
    "\n",
    "ind_params = {\n",
    "    'n_estimators': 1000,\n",
    "    'seed':0,\n",
    "    'colsample_bytree': 0.8,\n",
    "    'objective': 'binary:logistic',\n",
    "    'max_depth': 3,\n",
    "    'min_child_weight': 1\n",
    "}\n",
    "\n",
    "\n",
    "optimized_GBM = GridSearchCV(\n",
    "    xgb.XGBClassifier(**ind_params),\n",
    "    cv_params, \n",
    "    scoring = 'accuracy', \n",
    "    cv = 5, \n",
    "    n_jobs = -1\n",
    ")\n",
    "\n",
    "optimized_GBM.fit(X_train, y_train)"
   ]
  },
  {
   "cell_type": "code",
   "execution_count": 200,
   "metadata": {
    "collapsed": false
   },
   "outputs": [
    {
     "data": {
      "text/plain": [
       "[mean: 0.88115, std: 0.03723, params: {'subsample': 0.7, 'learning_rate': 0.1},\n",
       " mean: 0.88455, std: 0.03838, params: {'subsample': 0.8, 'learning_rate': 0.1},\n",
       " mean: 0.87606, std: 0.03456, params: {'subsample': 0.9, 'learning_rate': 0.1},\n",
       " mean: 0.88285, std: 0.02100, params: {'subsample': 0.7, 'learning_rate': 0.01},\n",
       " mean: 0.87776, std: 0.03082, params: {'subsample': 0.8, 'learning_rate': 0.01},\n",
       " mean: 0.87097, std: 0.03034, params: {'subsample': 0.9, 'learning_rate': 0.01}]"
      ]
     },
     "execution_count": 200,
     "metadata": {},
     "output_type": "execute_result"
    }
   ],
   "source": [
    "optimized_GBM.grid_scores_"
   ]
  },
  {
   "cell_type": "markdown",
   "metadata": {},
   "source": [
    "## Early stopping CV "
   ]
  },
  {
   "cell_type": "code",
   "execution_count": 201,
   "metadata": {
    "collapsed": true
   },
   "outputs": [],
   "source": [
    "xgdmat = xgb.DMatrix(X_train, y_train)\n",
    "# create our DMatrix to make XGBoost more efficient"
   ]
  },
  {
   "cell_type": "code",
   "execution_count": 202,
   "metadata": {
    "collapsed": true
   },
   "outputs": [],
   "source": [
    "params = {\n",
    "    'eta': 0.1,\n",
    "    'seed':0,\n",
    "    'subsample': 0.8,\n",
    "    'colsample_bytree': 0.8,\n",
    "    'objective': 'binary:logistic', \n",
    "    'max_depth':3, \n",
    "    'min_child_weight':1\n",
    "} \n",
    "\n",
    "# GridSearch CV optimized settings\n",
    "cv_xgb = xgb.cv(\n",
    "    params = params, \n",
    "    dtrain = xgdmat,\n",
    "    num_boost_round = 3000, \n",
    "    nfold = 5,\n",
    "    metrics = ['error'], # Make sure you enter metrics inside a list or you may encounter issues!\n",
    "    early_stopping_rounds = 100) \n",
    "\n",
    "# Look for early stopping that minimizes error\n",
    "# let’s be aggressive with the stopping and say we don’t want the accuracy to improve for at least 100 new trees"
   ]
  },
  {
   "cell_type": "code",
   "execution_count": 203,
   "metadata": {
    "collapsed": false
   },
   "outputs": [
    {
     "data": {
      "text/html": [
       "<div>\n",
       "<style>\n",
       "    .dataframe thead tr:only-child th {\n",
       "        text-align: right;\n",
       "    }\n",
       "\n",
       "    .dataframe thead th {\n",
       "        text-align: left;\n",
       "    }\n",
       "\n",
       "    .dataframe tbody tr th {\n",
       "        vertical-align: top;\n",
       "    }\n",
       "</style>\n",
       "<table border=\"1\" class=\"dataframe\">\n",
       "  <thead>\n",
       "    <tr style=\"text-align: right;\">\n",
       "      <th></th>\n",
       "      <th>test-error-mean</th>\n",
       "      <th>test-error-std</th>\n",
       "      <th>train-error-mean</th>\n",
       "      <th>train-error-std</th>\n",
       "    </tr>\n",
       "  </thead>\n",
       "  <tbody>\n",
       "    <tr>\n",
       "      <th>290</th>\n",
       "      <td>0.111111</td>\n",
       "      <td>0.032434</td>\n",
       "      <td>0.009829</td>\n",
       "      <td>0.002179</td>\n",
       "    </tr>\n",
       "    <tr>\n",
       "      <th>291</th>\n",
       "      <td>0.109402</td>\n",
       "      <td>0.032613</td>\n",
       "      <td>0.009829</td>\n",
       "      <td>0.002179</td>\n",
       "    </tr>\n",
       "    <tr>\n",
       "      <th>292</th>\n",
       "      <td>0.109402</td>\n",
       "      <td>0.029804</td>\n",
       "      <td>0.009829</td>\n",
       "      <td>0.002179</td>\n",
       "    </tr>\n",
       "    <tr>\n",
       "      <th>293</th>\n",
       "      <td>0.109402</td>\n",
       "      <td>0.029804</td>\n",
       "      <td>0.009829</td>\n",
       "      <td>0.002179</td>\n",
       "    </tr>\n",
       "    <tr>\n",
       "      <th>294</th>\n",
       "      <td>0.107692</td>\n",
       "      <td>0.027350</td>\n",
       "      <td>0.009829</td>\n",
       "      <td>0.002179</td>\n",
       "    </tr>\n",
       "  </tbody>\n",
       "</table>\n",
       "</div>"
      ],
      "text/plain": [
       "     test-error-mean  test-error-std  train-error-mean  train-error-std\n",
       "290         0.111111        0.032434          0.009829         0.002179\n",
       "291         0.109402        0.032613          0.009829         0.002179\n",
       "292         0.109402        0.029804          0.009829         0.002179\n",
       "293         0.109402        0.029804          0.009829         0.002179\n",
       "294         0.107692        0.027350          0.009829         0.002179"
      ]
     },
     "execution_count": 203,
     "metadata": {},
     "output_type": "execute_result"
    }
   ],
   "source": [
    "cv_xgb.tail(5)"
   ]
  },
  {
   "cell_type": "code",
   "execution_count": 204,
   "metadata": {
    "collapsed": true
   },
   "outputs": [],
   "source": [
    "%matplotlib inline\n",
    "import seaborn as sns\n",
    "sns.set(font_scale = 1.5)"
   ]
  },
  {
   "cell_type": "code",
   "execution_count": 205,
   "metadata": {
    "collapsed": false
   },
   "outputs": [],
   "source": [
    "params = {\n",
    "    'eta': 0.1, \n",
    "    'seed':0, \n",
    "    'subsample': 0.8, \n",
    "    'colsample_bytree': 0.8,\n",
    "    'objective': 'binary:logistic',\n",
    "    'max_depth':3,\n",
    "    'min_child_weight':1\n",
    "} \n",
    "\n",
    "bst = xgb.train(params, xgdmat, num_boost_round = 432)"
   ]
  },
  {
   "cell_type": "markdown",
   "metadata": {},
   "source": [
    "### Important Features"
   ]
  },
  {
   "cell_type": "code",
   "execution_count": 206,
   "metadata": {
    "collapsed": false,
    "scrolled": false
   },
   "outputs": [
    {
     "data": {
      "text/plain": [
       "<matplotlib.axes._subplots.AxesSubplot at 0x16b395c0>"
      ]
     },
     "execution_count": 206,
     "metadata": {},
     "output_type": "execute_result"
    },
    {
     "data": {
      "image/png": "[encoded data removed]",
      "text/plain": [
       "<matplotlib.figure.Figure at 0x16b30da0>"
      ]
     },
     "metadata": {},
     "output_type": "display_data"
    }
   ],
   "source": [
    "xgb.plot_importance(bst)"
   ]
  },
  {
   "cell_type": "code",
   "execution_count": 207,
   "metadata": {
    "collapsed": false,
    "scrolled": true
   },
   "outputs": [],
   "source": [
    "feature_imp = sorted(bst.get_fscore().items(), key = lambda x: x[1], reverse=True)\n",
    "features, importances = zip(*feature_imp)"
   ]
  },
  {
   "cell_type": "code",
   "execution_count": 208,
   "metadata": {
    "collapsed": false
   },
   "outputs": [
    {
     "name": "stdout",
     "output_type": "stream",
     "text": [
      "(u'approved', '                      ', 66)\n",
      "(u'proceed', '                       ', 54)\n",
      "(u'upcoming ooo', '                  ', 46)\n",
      "(u'pm', '                            ', 45)\n",
      "(u'nro', '                           ', 41)\n",
      "(u'thank', '                         ', 40)\n",
      "(u'approval', '                      ', 38)\n",
      "(u'order', '                         ', 37)\n",
      "(u'tr', '                            ', 33)\n",
      "(u'muthuraman', '                    ', 32)\n",
      "(u'kindly', '                        ', 32)\n",
      "(u'ship', '                          ', 32)\n",
      "(u'ion cc', '                        ', 28)\n",
      "(u'subject approval', '              ', 28)\n",
      "(u'com upcoming', '                  ', 27)\n",
      "(u'approve', '                       ', 27)\n",
      "(u'onetravelretail im', '            ', 27)\n",
      "(u'liang', '                         ', 25)\n",
      "(u'global', '                        ', 25)\n",
      "(u'com tan', '                       ', 24)\n",
      "(u'customer', '                      ', 24)\n",
      "(u'dear', '                          ', 24)\n",
      "(u'ii', '                            ', 24)\n",
      "(u'process', '                       ', 23)\n",
      "(u'usd', '                           ', 22)\n",
      "(u'attached', '                      ', 22)\n",
      "(u'ooo', '                           ', 22)\n",
      "(u'anna', '                          ', 22)\n",
      "(u'com onetravelretail', '           ', 21)\n",
      "(u'16', '                            ', 21)\n",
      "(u'15', '                            ', 21)\n",
      "(u'om', '                            ', 20)\n",
      "(u'im', '                            ', 20)\n",
      "(u'use', '                           ', 19)\n",
      "(u'05', '                            ', 19)\n",
      "(u'10', '                            ', 18)\n",
      "(u'sg', '                            ', 17)\n",
      "(u'thanks', '                        ', 17)\n",
      "(u'cest', '                          ', 17)\n",
      "(u'retail', '                        ', 17)\n",
      "(u'65', '                            ', 17)\n",
      "(u'po', '                            ', 17)\n",
      "(u'mailto', '                        ', 16)\n",
      "(u'hi om', '                         ', 16)\n",
      "(u'travel retail', '                 ', 15)\n",
      "(u'17', '                            ', 15)\n",
      "(u'daisyanne', '                     ', 14)\n",
      "(u'behalf', '                        ', 14)\n",
      "(u'com subject', '                   ', 13)\n",
      "(u'com cc', '                        ', 13)\n",
      "(u'email', '                         ', 13)\n",
      "(u'new', '                           ', 12)\n",
      "(u'description', '                   ', 12)\n",
      "(u'best', '                          ', 12)\n",
      "(u'im pg', '                         ', 12)\n",
      "(u'sa sg', '                         ', 12)\n",
      "(u'alagammai', '                     ', 12)\n",
      "(u'essence', '                       ', 12)\n",
      "(u'needed', '                        ', 11)\n",
      "(u'metropolis', '                    ', 11)\n",
      "(u'lu darryl', '                     ', 11)\n",
      "(u'best regards', '                  ', 11)\n",
      "(u'06', '                            ', 11)\n",
      "(u'ion onetravelretail', '           ', 11)\n",
      "(u'12', '                            ', 11)\n",
      "(u'sk ii', '                         ', 11)\n",
      "(u'help', '                          ', 11)\n",
      "(u'com mailto', '                    ', 10)\n",
      "(u'11', '                            ', 10)\n",
      "(u'07', '                            ', 10)\n",
      "(u'sent wednesday', '                ', 9)\n",
      "(u'monday', '                        ', 9)\n",
      "(u'muthuraman alagammai', '          ', 9)\n",
      "(u'day', '                           ', 9)\n",
      "(u'darryl lu', '                     ', 9)\n",
      "(u'com electronic', '                ', 9)\n",
      "(u'ng', '                            ', 9)\n",
      "(u'skii', '                          ', 9)\n",
      "(u'hi', '                            ', 9)\n",
      "(u'lu pg', '                         ', 8)\n",
      "(u'attached nro', '                  ', 8)\n",
      "(u'branch', '                        ', 8)\n",
      "(u'onetravelretail', '               ', 8)\n",
      "(u'check', '                         ', 8)\n",
      "(u'nino', '                          ', 8)\n",
      "(u'hw', '                            ', 8)\n",
      "(u'information', '                   ', 8)\n",
      "(u'sent friday', '                   ', 7)\n",
      "(u'darryl', '                        ', 7)\n",
      "(u'liang anna', '                    ', 7)\n",
      "(u'operations sa', '                 ', 7)\n",
      "(u'singapore', '                     ', 7)\n",
      "(u'sent tuesday', '                  ', 6)\n",
      "(u'thanks best', '                   ', 6)\n",
      "(u'04', '                            ', 6)\n",
      "(u'sa', '                            ', 6)\n",
      "(u'18', '                            ', 6)\n",
      "(u'tan', '                           ', 6)\n",
      "(u'date', '                          ', 6)\n",
      "(u'gamble', '                        ', 6)\n",
      "(u'herwen', '                        ', 6)\n",
      "(u'sent thursday', '                 ', 5)\n",
      "(u'tuesday', '                       ', 5)\n",
      "(u'upcoming', '                      ', 5)\n",
      "(u'travel', '                        ', 5)\n",
      "(u'code', '                          ', 5)\n",
      "(u'immediately', '                   ', 5)\n",
      "(u'rubee', '                         ', 5)\n",
      "(u'ion', '                           ', 5)\n",
      "(u'21', '                            ', 5)\n",
      "(u'sent monday', '                   ', 4)\n",
      "(u'confidential', '                  ', 4)\n",
      "(u'lu', '                            ', 4)\n",
      "(u'onetravelretail ion', '           ', 4)\n",
      "(u'intended', '                      ', 4)\n",
      "(u'analyst', '                       ', 4)\n",
      "(u'08', '                            ', 4)\n",
      "(u'pricing', '                       ', 4)\n",
      "(u'friday', '                        ', 4)\n",
      "(u'contains', '                      ', 3)\n",
      "(u'notify sender', '                 ', 3)\n",
      "(u'vista drive', '                   ', 3)\n",
      "(u'distribution', '                  ', 3)\n",
      "(u'liang pg', '                      ', 3)\n",
      "(u'thursday', '                      ', 3)\n",
      "(u'thank regards', '                 ', 3)\n",
      "(u'buona', '                         ', 3)\n",
      "(u'error', '                         ', 3)\n",
      "(u'drop', '                          ', 3)\n",
      "(u'nino daisyanne', '                ', 2)\n",
      "(u'service', '                       ', 2)\n",
      "(u'delete', '                        ', 2)\n",
      "(u'drive', '                         ', 2)\n",
      "(u'tower', '                         ', 2)\n",
      "(u'hold', '                          ', 2)\n",
      "(u'orders', '                        ', 2)\n",
      "(u'wen', '                           ', 2)\n",
      "(u'error notify', '                  ', 2)\n",
      "(u'sk', '                            ', 2)\n",
      "(u'herwen tan', '                    ', 2)\n",
      "(u'europe', '                        ', 2)\n",
      "(u'sg branch', '                     ', 1)\n",
      "(u'confidential information', '      ', 1)\n",
      "(u'customer service', '              ', 1)\n",
      "(u'metropolis tower', '              ', 1)\n",
      "(u'message', '                       ', 1)\n",
      "(u'anna liang', '                    ', 1)\n",
      "(u'notify', '                        ', 1)\n",
      "(u'procter', '                       ', 1)\n",
      "(u'recipient', '                     ', 1)\n",
      "(u'sender', '                        ', 1)\n",
      "(u'intended recipient', '            ', 1)\n",
      "(u'11 pg', '                         ', 1)\n",
      "(u'2017', '                          ', 1)\n",
      "(u'promotion', '                     ', 1)\n",
      "(u'entity', '                        ', 1)\n",
      "(u'email lu', '                      ', 1)\n",
      "(u'tan hw', '                        ', 1)\n",
      "(u'europe sa', '                     ', 1)\n"
     ]
    }
   ],
   "source": [
    "feature_dict = vectorizer.get_feature_names()\n",
    "inv_feature_dict = dict(zip(map(lambda x: 'f'+ str(x), range(len(feature_dict))), feature_dict))\n",
    "features_txt = []\n",
    "for i in feature_imp:\n",
    "    features_txt.append(inv_feature_dict[i[0]])\n",
    "    print(inv_feature_dict[i[0]], ' ' * (30 - len(inv_feature_dict[i[0]])), i[1])"
   ]
  },
  {
   "cell_type": "code",
   "execution_count": 209,
   "metadata": {
    "collapsed": false
   },
   "outputs": [
    {
     "data": {
      "text/plain": [
       "<matplotlib.axes._subplots.AxesSubplot at 0x1923bf98>"
      ]
     },
     "execution_count": 209,
     "metadata": {},
     "output_type": "execute_result"
    },
    {
     "data": {
      "image/png": "[encoded data removed]",
      "text/plain": [
       "<matplotlib.figure.Figure at 0x191c3278>"
      ]
     },
     "metadata": {},
     "output_type": "display_data"
    }
   ],
   "source": [
    "import pandas as pd\n",
    "importance_frame = pd.DataFrame({'Importance': importances[:30], 'Feature': features_txt[:30]})\n",
    "importance_frame.sort_values(by = 'Importance', inplace = True)\n",
    "importance_frame.plot(kind = 'barh', x = 'Feature', figsize = (8,8), color = 'orange')"
   ]
  }
 ],
 "metadata": {
  "kernelspec": {
   "display_name": "Python 2",
   "language": "python",
   "name": "python2"
  },
  "language_info": {
   "codemirror_mode": {
    "name": "ipython",
    "version": 2
   },
   "file_extension": ".py",
   "mimetype": "text/x-python",
   "name": "python",
   "nbconvert_exporter": "python",
   "pygments_lexer": "ipython2",
   "version": "2.7.13"
  }
 },
 "nbformat": 4,
 "nbformat_minor": 2
}
