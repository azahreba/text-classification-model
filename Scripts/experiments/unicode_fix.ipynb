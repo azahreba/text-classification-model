{
 "cells": [
  {
   "cell_type": "code",
   "execution_count": 5,
   "metadata": {
    "collapsed": true
   },
   "outputs": [],
   "source": [
    "import re\n",
    "\n",
    "from os import listdir"
   ]
  },
  {
   "cell_type": "code",
   "execution_count": 6,
   "metadata": {
    "collapsed": false
   },
   "outputs": [
    {
     "data": {
      "text/plain": [
       "['Approved', 'Other']"
      ]
     },
     "execution_count": 6,
     "metadata": {},
     "output_type": "execute_result"
    }
   ],
   "source": [
    "docs_path = r'C:\\Users\\Artur_Zahreba\\Desktop\\WorkFusion\\P&G\\Approval By Email\\Training Set\\v5\\Training Set\\ALL'\n",
    "\n",
    "doc_types = sorted(listdir(docs_path))\n",
    "doc_types"
   ]
  },
  {
   "cell_type": "code",
   "execution_count": 7,
   "metadata": {
    "collapsed": true
   },
   "outputs": [],
   "source": [
    "def getText(filePath):\n",
    "    with open(filePath, 'r') as fp:\n",
    "        text = fp.read()            \n",
    "        text = text.encode('ascii', 'replace').decode('utf-8').replace(\"?\",\"\").strip()\n",
    "        fp.close()\n",
    "        \n",
    "        return text"
   ]
  },
  {
   "cell_type": "code",
   "execution_count": 8,
   "metadata": {
    "collapsed": false
   },
   "outputs": [],
   "source": [
    "for doc_type in doc_types:\n",
    "    doc_names = sorted(listdir(docs_path + '\\\\' + doc_type))\n",
    "    doc_names = filter(lambda x: re.search(r'\\.txt$', x), doc_names)\n",
    "    \n",
    "    for doc_name in doc_names:\n",
    "        with open(docs_path + '_FIXED\\\\' + doc_type + '\\\\' + doc_name.encode('ascii', 'replace').decode('utf-8').replace(\"?\",\"\").strip(), 'w+') as fixedfile:\n",
    "            fixedfile.write(getText(docs_path + '\\\\' + doc_type + '\\\\' + doc_name))\n",
    "            fixedfile.close()"
   ]
  },
  {
   "cell_type": "code",
   "execution_count": null,
   "metadata": {
    "collapsed": true
   },
   "outputs": [],
   "source": []
  }
 ],
 "metadata": {
  "kernelspec": {
   "display_name": "Python 3",
   "language": "python",
   "name": "python3"
  },
  "language_info": {
   "codemirror_mode": {
    "name": "ipython",
    "version": 3
   },
   "file_extension": ".py",
   "mimetype": "text/x-python",
   "name": "python",
   "nbconvert_exporter": "python",
   "pygments_lexer": "ipython3",
   "version": "3.6.1"
  }
 },
 "nbformat": 4,
 "nbformat_minor": 2
}
