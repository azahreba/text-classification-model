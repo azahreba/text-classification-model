{
 "cells": [
  {
   "cell_type": "markdown",
   "metadata": {},
   "source": [
    "## Text Classification with scikit-learn\n",
    "\n",
    "## We will base the code off \n",
    "http://scikit-learn.org/stable/auto_examples/applications/plot_out_of_core_classification.html#sphx-glr-auto-examples-applications-plot-out-of-core-classification-py\n",
    "\n",
    "This video is about when the data doesn't fit in memory. We will use the same data as before so that we can make salient the differences between the two approaches"
   ]
  },
  {
   "cell_type": "markdown",
   "metadata": {},
   "source": [
    "## License Information (since basing it off code by E. Diemert)\n",
    "\n",
    "Modification of code at http://scikit-learn.org/stable/auto_examples/applications/plot_out_of_core_classification.html#sphx-glr-auto-examples-applications-plot-out-of-core-classification-py\n",
    "\n",
    "Authors: Eustache Diemert <eustache@diemert.fr>\n",
    "          @FedericoV <https://github.com/FedericoV/>\n",
    "License: BSD 3 clause\n",
    "\n",
    "Copyright (c) Eustache Diemert, All rights reserved.\n",
    "\n",
    "Redistribution and use in source and binary forms, with or without modification, are permitted provided that the following conditions are met:\n",
    "\n",
    "* Redistributions of source code must retain the above copyright notice, this list of conditions and the following disclaimer.\n",
    "* Redistributions in binary form must reproduce the above copyright notice, this list of conditions and the following disclaimer in the documentation and/or other materials provided with the distribution.\n",
    "* Neither the name of the copyright holder nor the names of its contributors may be used to endorse or promote products derived from this software without specific prior written permission. \n",
    "\n",
    "THIS SOFTWARE IS PROVIDED BY THE COPYRIGHT HOLDERS AND CONTRIBUTORS \"AS IS\" AND ANY EXPRESS OR IMPLIED WARRANTIES, INCLUDING, BUT NOT LIMITED TO, THE IMPLIED WARRANTIES OF MERCHANTABILITY AND FITNESS FOR A PARTICULAR PURPOSE ARE DISCLAIMED. IN NO EVENT SHALL THE COPYRIGHT HOLDER OR CONTRIBUTORS BE LIABLE FOR ANY DIRECT, INDIRECT, INCIDENTAL, SPECIAL, EXEMPLARY, OR CONSEQUENTIAL DAMAGES (INCLUDING, BUT NOT LIMITED TO, PROCUREMENT OF SUBSTITUTE GOODS OR SERVICES; LOSS OF USE, DATA, OR PROFITS; OR BUSINESS INTERRUPTION) HOWEVER CAUSED AND ON ANY THEORY OF LIABILITY, WHETHER IN CONTRACT, STRICT LIABILITY, OR TORT (INCLUDING NEGLIGENCE OR OTHERWISE) ARISING IN ANY WAY OUT OF THE USE OF THIS SOFTWARE, EVEN IF ADVISED OF THE POSSIBILITY OF SUCH DAMAGE."
   ]
  },
  {
   "cell_type": "code",
   "execution_count": 1,
   "metadata": {
    "collapsed": false
   },
   "outputs": [
    {
     "data": {
      "text/plain": [
       "['DESCR', 'data', 'description', 'filenames', 'target', 'target_names']"
      ]
     },
     "execution_count": 1,
     "metadata": {},
     "output_type": "execute_result"
    }
   ],
   "source": [
    "# First lets get the data like we did before\n",
    "# http://scikit-learn.org/stable/datasets/twenty_newsgroups.html#newsgroups\n",
    "from sklearn.datasets import fetch_20newsgroups\n",
    "texts = fetch_20newsgroups(subset='train')\n",
    "dir(texts)"
   ]
  },
  {
   "cell_type": "code",
   "execution_count": 50,
   "metadata": {
    "collapsed": true
   },
   "outputs": [],
   "source": [
    "import re\n",
    "import random\n",
    "import collections\n",
    "\n",
    "from os import listdir\n",
    "\n",
    "from nltk.corpus import stopwords\n",
    "from string import punctuation\n",
    "\n",
    "from nltk.stem.snowball import SnowballStemmer\n",
    "stemmer = SnowballStemmer(language='english', ignore_stopwords=True)"
   ]
  },
  {
   "cell_type": "code",
   "execution_count": 66,
   "metadata": {
    "collapsed": false
   },
   "outputs": [
    {
     "name": "stdout",
     "output_type": "stream",
     "text": [
      "194\n"
     ]
    }
   ],
   "source": [
    "doc_path = 'C:\\\\Users\\\\Artur_Zahreba\\\\Desktop\\\\WorkFusion\\\\P&G\\\\sample email June 15\\\\DocsTxt'\n",
    "\n",
    "doc_types = sorted(listdir(doc_path))\n",
    "\n",
    "doc_texts = []\n",
    "\n",
    "for doc_type in doc_types:\n",
    "    filenames = sorted(listdir(doc_path + '\\\\' + doc_type))\n",
    "    filenames = filter(lambda x: re.search(r'\\.txt$', x), filenames)\n",
    "    for filename in filenames:\n",
    "        with open(doc_path + '\\\\' + doc_type + '\\\\' + filename, 'r') as ffile:\n",
    "            txt = ffile.read()\n",
    "            doc_texts.append((doc_type, filename, txt))\n",
    "            ffile.close()\n",
    "\n",
    "random.shuffle(doc_texts)            \n",
    "lables, _, texts = zip(*doc_texts)\n",
    "texts = (texts)\n",
    "\n",
    "lable_dict = dict(zip(list(set(lables)), range(len(set(lables)))))\n",
    "\n",
    "lables_int = list(map(lambda x: lable_dict[x], lables))\n",
    "\n",
    "txts_tpl = collections.namedtuple('txts_tpl',['data','target_names','target'])\n",
    "texts = txts_tpl(texts, lables, lables_int)\n",
    "\n",
    "print(len(texts.target))"
   ]
  },
  {
   "cell_type": "code",
   "execution_count": 67,
   "metadata": {
    "collapsed": true
   },
   "outputs": [],
   "source": [
    "# Define a get minibatch that returns just a little of the data at a time\n",
    "# If storing the data on disk, data_idx could be a file pointer\n",
    "\n",
    "BATCH_SIZE = 32\n",
    "# data_idx - pointer to current record\n",
    "# texts - dataset\n",
    "\n",
    "def get_batch(data_idx, texts):\n",
    "    # Need it as a list of x and a list of y\n",
    "    data_x, data_y = [],[]\n",
    "    for t in range(BATCH_SIZE):\n",
    "        # We will loop through the data multiple times\n",
    "        if data_idx == len(texts.data):\n",
    "            return [], [], 0\n",
    "        data_x.append(texts.data[data_idx])\n",
    "        data_y.append(texts.target[data_idx])\n",
    "        data_idx += 1\n",
    "    return data_x, data_y, data_idx\n",
    "\n",
    "# start with index 0\n",
    "data_idx = 0"
   ]
  },
  {
   "cell_type": "code",
   "execution_count": 68,
   "metadata": {
    "collapsed": true
   },
   "outputs": [],
   "source": [
    "import numpy as np\n",
    "\n",
    "from sklearn.feature_extraction.text import HashingVectorizer\n",
    "from sklearn.linear_model import SGDClassifier\n",
    "from sklearn.linear_model import PassiveAggressiveClassifier\n",
    "from sklearn.linear_model import Perceptron\n",
    "from sklearn.naive_bayes import MultinomialNB"
   ]
  },
  {
   "cell_type": "code",
   "execution_count": 69,
   "metadata": {
    "collapsed": true
   },
   "outputs": [],
   "source": [
    "# Uses hashing trick: Instead of creating a dictionary and associating each\n",
    "# word with an index i, the index for a word w is computed using a hashing\n",
    "# function h. i = h(w) mod n_features\n",
    "vectorizer = HashingVectorizer(decode_error='ignore', n_features=2 ** 18,\n",
    "                               non_negative=True)"
   ]
  },
  {
   "cell_type": "code",
   "execution_count": 70,
   "metadata": {
    "collapsed": true
   },
   "outputs": [],
   "source": [
    "# number of classes\n",
    "all_classes = np.array(range(2))"
   ]
  },
  {
   "cell_type": "code",
   "execution_count": 71,
   "metadata": {
    "collapsed": true
   },
   "outputs": [],
   "source": [
    "# Let's try four different classifiers\n",
    "partial_fit_classifiers = {\n",
    "    'SGD': SGDClassifier(), # An SVM\n",
    "    'Perceptron': Perceptron(),\n",
    "    'NB Multinomial': MultinomialNB(alpha=0.01), # ignores non-occuring features\n",
    "    'Passive-Aggressive': PassiveAggressiveClassifier(), # for large-scale learning\n",
    "}"
   ]
  },
  {
   "cell_type": "code",
   "execution_count": 72,
   "metadata": {
    "collapsed": true
   },
   "outputs": [],
   "source": [
    "# First we hold out a number of examples to estimate accuracy\n",
    "n_test_documents = BATCH_SIZE\n",
    "X_test_text = []\n",
    "y_test = []\n",
    "for i in range(6):\n",
    "    _X_test_text, _y_test, data_idx = get_batch(data_idx, texts)\n",
    "    X_test_text.extend(_X_test_text)\n",
    "    y_test.extend((_y_test))"
   ]
  },
  {
   "cell_type": "code",
   "execution_count": 73,
   "metadata": {
    "collapsed": true
   },
   "outputs": [],
   "source": [
    "# Convert the test data into features    \n",
    "X_test = vectorizer.transform(X_test_text)"
   ]
  },
  {
   "cell_type": "code",
   "execution_count": 74,
   "metadata": {
    "collapsed": true
   },
   "outputs": [],
   "source": [
    "# Create some structure to store statistics\n",
    "def progress(cls_name, stats):\n",
    "    \"\"\"Report progress information, return a string.\"\"\"\n",
    "    s = \"%20s classifier : \\t\" % cls_name\n",
    "    s += \"accuracy: %(accuracy).3f \" % stats\n",
    "    return s\n",
    "\n",
    "cls_stats = {}\n",
    "for cls_name in partial_fit_classifiers:\n",
    "    stats = {'n_train': 0, 'n_train_pos': 0,\n",
    "             'accuracy': 0.0, 'accuracy_history': [(0, 0)]}\n",
    "    cls_stats[cls_name] = stats"
   ]
  },
  {
   "cell_type": "code",
   "execution_count": 75,
   "metadata": {
    "collapsed": false,
    "scrolled": true
   },
   "outputs": [],
   "source": [
    "# Main loop : iterate on mini-batches of examples\n",
    "X_train_text, y_train, data_idx = get_batch(data_idx, texts)\n",
    "\n",
    "loop_count = 0\n",
    "while len(X_train_text) > 0:\n",
    "    \n",
    "    loop_count += 1\n",
    "    \n",
    "    # vectorize train data\n",
    "    X_train = vectorizer.transform(X_train_text)\n",
    "\n",
    "    for cls_name, cls in partial_fit_classifiers.items():\n",
    "\n",
    "        # update estimator with examples in the current mini-batch\n",
    "        cls.partial_fit(X_train, y_train, classes=all_classes)\n",
    "\n",
    "        # accumulate test accuracy stats\n",
    "        cls_stats[cls_name]['n_train'] += X_train.shape[0]\n",
    "        cls_stats[cls_name]['n_train_pos'] += sum(y_train)\n",
    "        cls_stats[cls_name]['accuracy'] = cls.score(X_test, y_test)\n",
    "        acc_history = (cls_stats[cls_name]['accuracy'],\n",
    "                       cls_stats[cls_name]['n_train'])\n",
    "        cls_stats[cls_name]['accuracy_history'].append(acc_history)\n",
    "\n",
    "        if loop_count % 3 == 0:\n",
    "            print(progress(cls_name, cls_stats[cls_name]))\n",
    "    if loop_count % 3 == 0:\n",
    "        print('\\n')\n",
    "        \n",
    "    X_train_text, y_train, data_idx = get_batch(data_idx, texts)\n",
    "        \n",
    "# Getting divide by 0 because in some calls not all classes are represented\n",
    "# http://stackoverflow.com/questions/32697093/errors-encountered-in-partial-fit-in-scikit-learn"
   ]
  },
  {
   "cell_type": "code",
   "execution_count": null,
   "metadata": {
    "collapsed": true
   },
   "outputs": [],
   "source": []
  },
  {
   "cell_type": "code",
   "execution_count": 65,
   "metadata": {
    "collapsed": false
   },
   "outputs": [
    {
     "data": {
      "text/plain": [
       "<matplotlib.legend.Legend at 0x20f9677d9b0>"
      ]
     },
     "execution_count": 65,
     "metadata": {},
     "output_type": "execute_result"
    },
    {
     "data": {
      "image/png": "[encoded data removed]",
      "text/plain": [
       "<matplotlib.figure.Figure at 0x20fa26f9b70>"
      ]
     },
     "metadata": {},
     "output_type": "display_data"
    }
   ],
   "source": [
    "%matplotlib inline \n",
    "import matplotlib.pyplot as plt\n",
    "from matplotlib import rcParams\n",
    "\n",
    "def plot_accuracy(x, y, x_legend):\n",
    "    \"\"\"Plot accuracy as a function of x.\"\"\"\n",
    "    x = np.array(x)\n",
    "    y = np.array(y)\n",
    "    plt.title('Classification accuracy as a function of %s' % x_legend)\n",
    "    plt.xlabel('%s' % x_legend)\n",
    "    plt.ylabel('Accuracy')\n",
    "    plt.grid(True)\n",
    "    plt.plot(x, y)\n",
    "\n",
    "rcParams['legend.fontsize'] = 10\n",
    "cls_names = list(sorted(cls_stats.keys()))\n",
    "\n",
    "# Plot accuracy evolution\n",
    "plt.figure()\n",
    "for _, stats in sorted(cls_stats.items()):\n",
    "    # Plot accuracy evolution with #examples\n",
    "    accuracy, n_examples = zip(*stats['accuracy_history'])\n",
    "    plot_accuracy(n_examples, accuracy, \"training examples (#)\")\n",
    "    ax = plt.gca()\n",
    "    ax.set_ylim((0.8, 1))\n",
    "plt.legend(cls_names, loc='best')\n",
    "\n"
   ]
  },
  {
   "cell_type": "code",
   "execution_count": null,
   "metadata": {
    "collapsed": true
   },
   "outputs": [],
   "source": []
  }
 ],
 "metadata": {
  "kernelspec": {
   "display_name": "Python 3",
   "language": "python",
   "name": "python3"
  },
  "language_info": {
   "codemirror_mode": {
    "name": "ipython",
    "version": 3
   },
   "file_extension": ".py",
   "mimetype": "text/x-python",
   "name": "python",
   "nbconvert_exporter": "python",
   "pygments_lexer": "ipython3",
   "version": "3.6.1"
  }
 },
 "nbformat": 4,
 "nbformat_minor": 1
}
