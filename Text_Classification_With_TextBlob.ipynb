{
 "cells": [
  {
   "cell_type": "markdown",
   "metadata": {},
   "source": [
    "## TextBlob is a text processing library for Python\n",
    "https://textblob.readthedocs.io/en/dev/\n",
    "\n",
    "## The machine learning functions in TextBlob wrap NLTK\n",
    "https://github.com/sloria/TextBlob\n",
    "\n",
    "https://github.com/nltk/nltk/tree/develop/nltk/classify\n",
    "\n",
    "## NLTK Naive Bayes\n",
    "https://github.com/nltk/nltk/blob/develop/nltk/classify/naivebayes.py"
   ]
  },
  {
   "cell_type": "code",
   "execution_count": 66,
   "metadata": {
    "collapsed": true
   },
   "outputs": [],
   "source": [
    "import re\n",
    "import random\n",
    "import collections\n",
    "\n",
    "from os import listdir\n",
    "\n",
    "from nltk.corpus import stopwords\n",
    "from string import punctuation\n",
    "\n",
    "from nltk.stem.snowball import SnowballStemmer\n",
    "stemmer = SnowballStemmer(language='english', ignore_stopwords=True)"
   ]
  },
  {
   "cell_type": "code",
   "execution_count": 9,
   "metadata": {
    "collapsed": false
   },
   "outputs": [
    {
     "data": {
      "text/plain": [
       "sklearn.datasets.base.Bunch"
      ]
     },
     "execution_count": 9,
     "metadata": {},
     "output_type": "execute_result"
    }
   ],
   "source": [
    "# The Newsgroup Data\n",
    "# http://scikit-learn.org/stable/datasets/twenty_newsgroups.html#newsgroups\n",
    "from sklearn.datasets import fetch_20newsgroups\n",
    "texts = fetch_20newsgroups(subset='train')\n",
    "dir(texts)"
   ]
  },
  {
   "cell_type": "code",
   "execution_count": 67,
   "metadata": {
    "collapsed": false
   },
   "outputs": [
    {
     "name": "stdout",
     "output_type": "stream",
     "text": [
      "194\n"
     ]
    }
   ],
   "source": [
    "doc_path = 'C:\\\\Users\\\\Artur_Zahreba\\\\Desktop\\\\WorkFusion\\\\P&G\\\\sample email June 15\\\\DocsTxt'\n",
    "\n",
    "doc_types = sorted(listdir(doc_path))\n",
    "\n",
    "doc_texts = []\n",
    "\n",
    "for doc_type in doc_types:\n",
    "    filenames = sorted(listdir(doc_path + '\\\\' + doc_type))\n",
    "    filenames = filter(lambda x: re.search(r'\\.txt$', x), filenames)\n",
    "    for filename in filenames:\n",
    "        with open(doc_path + '\\\\' + doc_type + '\\\\' + filename, 'r') as ffile:\n",
    "            txt = ffile.read()\n",
    "            doc_texts.append((doc_type, filename, txt))\n",
    "            ffile.close()\n",
    "\n",
    "random.shuffle(doc_texts)            \n",
    "lables, _, texts = zip(*doc_texts)\n",
    "texts = (texts)\n",
    "\n",
    "lable_dict = dict(zip(list(set(lables)), range(len(set(lables)))))\n",
    "\n",
    "lables_int = list(map(lambda x: lable_dict[x], lables))\n",
    "\n",
    "txts_tpl = collections.namedtuple('txts_tpl',['data','target_names','target'])\n",
    "texts = txts_tpl(texts, lables, lables_int)\n",
    "\n",
    "print(len(texts.target))"
   ]
  },
  {
   "cell_type": "code",
   "execution_count": 68,
   "metadata": {
    "collapsed": false
   },
   "outputs": [
    {
     "name": "stdout",
     "output_type": "stream",
     "text": [
      "0 Approved\n",
      "1 Approved\n",
      "2 Approved\n",
      "3 Approved\n",
      "4 Approved\n",
      "5 Other\n",
      "6 Approved\n",
      "7 Approved\n",
      "8 Approved\n",
      "9 Approved\n",
      "10 Approved\n",
      "11 Other\n",
      "12 Approved\n",
      "13 Approved\n",
      "14 Approved\n",
      "15 Approved\n",
      "16 Approved\n",
      "17 Other\n",
      "18 Approved\n",
      "19 Approved\n"
     ]
    }
   ],
   "source": [
    "# Mapping of classes to numbers\n",
    "for i in range(20):\n",
    "    print(i,texts.target_names[i])"
   ]
  },
  {
   "cell_type": "code",
   "execution_count": 69,
   "metadata": {
    "collapsed": false
   },
   "outputs": [
    {
     "data": {
      "text/plain": [
       "\"From: Velasquez, Tyrone\\nSent: Friday, May 12, 2017 8:53 AM\\nTo: Ng, RuBee; Lu, Darryl\\nCc: Le, Wenyi; onetravelretail,\\n\\nIon; Tan, HerWen; Low, Jevon; Shin, Jiwon\\nSubject: RE: Approval Needed - Release TRAVEL\\n\\nRETAIL Order | 2002825715 DFS VENTURE SINGAPORE PTE LTD [SK-II ] 13 May 2017\\n\\nThanks\\n\\nRubee. Approved\\n\\nTyrone\\n\\nTyrone\\n\\nBob C. Velasquez\\n\\nOut\\n\\nof Office (AMJ):\\nLeaves:\\nMay\\n\\n25 / Jun 9, 12-16\\n\\nPublic\\n\\nHolidays:\\n\\nJun\\n\\n26\\n\\nThis electronic message transmission\\n\\ncontains information which may be confidential. The information is intended for\\n\\nthe use of the individual or entity named above. If you are not the intended\\n\\nrecipient, and have received this electronic transmission in error, please\\n\\nnotify sender then delete immediately.\\n\\nThis message may contain Employee\\n\\nPersonally Identifiable Information (PII).\\n\\nBeforesharing this information with an internal or external contact, it\\n\\nis your responsibility to make sure there is a valid business need,that\\n\\ntheinformation is protected and secure during transmission, and that it\\n\\nis handled in accordance with the company's Global Data Privacy Policy at all\\n\\ntimes.\\n\\nFrom: Ng, RuBee \\nSent: Friday, May 12, 2017 2:48 PM\\nTo: Velasquez, Tyrone <velasquez.tc@pg.com>;\\n\\nLu, Darryl <lu.d.6@pg.com>\\nCc: Le, Wenyi <le.w@pg.com>;\\n\\nonetravelretail, Ion <onetravelretail.im@pg.com>;\\n\\nTan, HerWen <tan.hw@pg.com>; Low,\\n\\nJevon <low.j@pg.com>; Shin, Jiwon <shin.jw@pg.com>\\nSubject: RE: Approval Needed - Release TRAVEL RETAIL Order | 2002825715\\n\\nDFS VENTURE SINGAPORE PTE LTD [SK-II ] 13 May 2017\\n\\nHi Tyrone,\\n\\nGood day.\\n\\nFor overdue INV#\\n4872321055 and INV# 4872321038, we have received RA from\\n\\ncustomer that payment has been auto TT on 11- May-17. Currently pend payment to\\n\\nreflect in bank statement.\\n\\n\\n\\nTotal\\n\\noverdue value for 2 invoices : USD 81,192.21\\n\\n\\nRA\\n\\npayment : USD 267,796.76 ( payment value is higher because\\n\\nthis payment include payment for other DFS account as well. There are total 4\\n\\nactive payer code uner DFS)\\n\\n\\nFor Invoice with 0\\n\\narrears, we have received RA from customer as well that the payment will auto\\n\\nTT today 12-May-17.\\n\\n\\nTotal\\n\\ninvoice with 0 arrears : USD\\n\\n408,914.25\\n\\n\\nRA\\n\\npayment : USD 408,914.25\\n\\n\\nThank you.\\n\\nBest Regards,\\nRu Bee\\nProcter & Gamble\\n\\nEurope SA Singapore Branch\\nCustomer Service Asia\\n\\nPrestige\\n\\n\\nPHONE : (65) 6622 1473 | EMAIL: ng.rb@pg.com | \\nGREAT SERVICE comes from the heartY\\n\\nFrom: Velasquez, Tyrone \\nSent: Friday, May 12, 2017 2:33 PM\\nTo: Lu, Darryl <lu.d.6@pg.com>\\nCc: Le, Wenyi <le.w@pg.com>; Ng,\\n\\nRuBee <ng.rb@pg.com>; onetravelretail,\\n\\nIon <onetravelretail.im@pg.com>;\\n\\nTan, HerWen <tan.hw@pg.com>; Low,\\n\\nJevon <low.j@pg.com>; Shin, Jiwon <shin.jw@pg.com>\\nSubject: RE: Approval Needed - Release TRAVEL RETAIL Order | 2002825715\\n\\nDFS VENTURE SINGAPORE PTE LTD [SK-II ] 13 May 2017\\n\\nWhy\\n\\nis payment only 267,796.76 if the overdue (until today) is more than\\n\\nthat\\n\\n\\n\\nTyrone\\n\\nTyrone\\n\\nBob C. Velasquez\\n\\nOut\\n\\nof Office (AMJ):\\nLeaves:\\nMay\\n\\n25 / Jun 9, 12-16\\n\\nPublic\\n\\nHolidays:\\n\\nJun\\n\\n26\\n\\nThis electronic message transmission\\n\\ncontains information which may be confidential. The information is intended for\\n\\nthe use of the individual or entity named above. If you are not the intended\\n\\nrecipient, and have received this electronic transmission in error, please\\n\\nnotify sender then delete immediately.\\n\\nThis message may contain Employee\\n\\nPersonally Identifiable Information (PII).\\n\\nBeforesharing this information with an internal or external contact, it\\n\\nis your responsibility to make sure there is a valid business need,that\\n\\ntheinformation is protected and secure during transmission, and that it\\n\\nis handled in accordance with the company's Global Data Privacy Policy at all\\n\\ntimes.\\n\\nFrom: Lu, Darryl \\nSent: Friday, May 12, 2017 2:27 PM\\nTo: Velasquez, Tyrone <velasquez.tc@pg.com>\\nCc: Le, Wenyi <le.w@pg.com>; Ng,\\n\\nRuBee <ng.rb@pg.com>; onetravelretail,\\n\\nIon <onetravelretail.im@pg.com>;\\n\\nTan, HerWen <tan.hw@pg.com>; Low,\\n\\nJevon <low.j@pg.com>; Shin, Jiwon <shin.jw@pg.com>; Lu, Darryl <lu.d.6@pg.com>\\nSubject: Approval Needed - Release TRAVEL RETAIL Order | 2002825715 DFS\\n\\nVENTURE SINGAPORE PTE LTD [SK-II ] 13 May 2017\\n\\nDear Tyrone,\\nThis seeks for your approval\\n\\nto release order for TRAVEL RETAIL Order | 2002825715 DFS VENTURE\\n\\nSINGAPORE PTE LTD [SK-II ] 13 May 2017\\n\\nOrder to be\\n\\n  released\\n\\n  :\\nUSD\\n65,696.00\\nReason for order on\\n\\n  hold : \\nOverdue Invoices\\nExceeded Credit\\n\\n  Limit\\n\\n  : \\nUSD\\nNil\\nUsed\\n50.57 %\\nReason for CL\\n\\n  exceed\\n\\n  : \\nNil\\nOverdue\\n\\n  invoice(s)\\n\\n  : \\n81,192.21\\nPayment commitment\\n\\n  date :\\nPayment in transit. Customer\\n\\n  arrange payment on 11 May. Attached RA for your reference\\nLatest\\n\\n  Payscore\\n\\n  :\\n\\nFYTD 15/16\\nNA\\n\\n\\nOrders on Hold: \\n\\nF.35  A6P (USD):\\n\\nFBL5  A6P (USD) : \\n\\n\\n\\n\\nBest\\n\\nRegards, \\nDarryl\\n\\nLu\\n\\n(OM\\n\\nAnalyst - Customer Service Operation)\\nP&G\\n\\nEurope SA SG branch\\nEmail: lu.d.6@pg.com\\nThis electronic message transmission contains information which may be\\n\\nconfidential. The information is intended for the use of the individual or\\n\\nentity named above. If you are not the intended recipient, and have received\\n\\nthis electronic transmission in error, please notify sender then delete\\n\\nimmediately.\""
      ]
     },
     "execution_count": 69,
     "metadata": {},
     "output_type": "execute_result"
    }
   ],
   "source": [
    "texts.data[0]"
   ]
  },
  {
   "cell_type": "code",
   "execution_count": 70,
   "metadata": {
    "collapsed": false
   },
   "outputs": [
    {
     "name": "stdout",
     "output_type": "stream",
     "text": [
      "['from', ':', 'velasquez', ',', 'tyrone', 'sent', ':', 'friday', ',', 'may', '12', ',', '2017', '8:53', 'am', 'to', ':', 'ng', ',', 'rubee', ';', 'lu', ',', 'darryl', 'cc', ':', 'le', ',', 'wenyi', ';', 'onetravelretail', ',', 'ion', ';', 'tan', ',', 'herwen', ';', 'low', ',', 'jevon', ';', 'shin', ',', 'jiwon', 'subject', ':', 're', ':', 'approval', 'needed', '-', 'release', 'travel', 'retail', 'order', '|', '2002825715', 'dfs', 'venture', 'singapore', 'pte', 'ltd', '[', 'sk-ii', ']', '13', 'may', '2017', 'thanks', 'rubee', '.', 'approved', 'tyrone', 'tyrone', 'bob', 'c.', 'velasquez', 'out', 'of', 'office', '(', 'amj', ')', ':', 'leaves', ':', 'may', '25', '/', 'jun', '9', ',', '12-16', 'public', 'holidays', ':', 'jun', '26', 'this', 'electronic', 'message', 'transmission', 'contains', 'information', 'which', 'may', 'be', 'confidential', '.', 'the', 'information', 'is', 'intended', 'for', 'the', 'use', 'of', 'the', 'individual', 'or', 'entity', 'named', 'above', '.', 'if', 'you', 'are', 'not', 'the', 'intended', 'recipient', ',', 'and', 'have', 'received', 'this', 'electronic', 'transmission', 'in', 'error', ',', 'please', 'notify', 'sender', 'then', 'delete', 'immediately', '.', 'this', 'message', 'may', 'contain', 'employee', 'personally', 'identifiable', 'information', '(', 'pii', ')', '.', 'beforesharing', 'this', 'information', 'with', 'an', 'internal', 'or', 'external', 'contact', ',', 'it', 'is', 'your', 'responsibility', 'to', 'make', 'sure', 'there', 'is', 'a', 'valid', 'business', 'need', ',', 'that', 'theinformation', 'is', 'protected', 'and', 'secure', 'during', 'transmission', ',', 'and', 'that', 'it', 'is', 'handled', 'in', 'accordance', 'with', 'the', 'company', \"'s\", 'global', 'data', 'privacy', 'policy', 'at', 'all', 'times', '.', 'from', ':', 'ng', ',', 'rubee', 'sent', ':', 'friday', ',', 'may', '12', ',', '2017', '2:48', 'pm', 'to', ':', 'velasquez', ',', 'tyrone', '<', 'velasquez.tc', '@', 'pg.com', '>', ';', 'lu', ',', 'darryl', '<', 'lu.d.6', '@', 'pg.com', '>', 'cc', ':', 'le', ',', 'wenyi', '<', 'le.w', '@', 'pg.com', '>', ';', 'onetravelretail', ',', 'ion', '<', 'onetravelretail.im', '@', 'pg.com', '>', ';', 'tan', ',', 'herwen', '<', 'tan.hw', '@', 'pg.com', '>', ';', 'low', ',', 'jevon', '<', 'low.j', '@', 'pg.com', '>', ';', 'shin', ',', 'jiwon', '<', 'shin.jw', '@', 'pg.com', '>', 'subject', ':', 're', ':', 'approval', 'needed', '-', 'release', 'travel', 'retail', 'order', '|', '2002825715', 'dfs', 'venture', 'singapore', 'pte', 'ltd', '[', 'sk-ii', ']', '13', 'may', '2017', 'hi', 'tyrone', ',', 'good', 'day', '.', 'for', 'overdue', 'inv', '#', '4872321055', 'and', 'inv', '#', '4872321038', ',', 'we', 'have', 'received', 'ra', 'from', 'customer', 'that', 'payment', 'has', 'been', 'auto', 'tt', 'on', '11-', 'may-17', '.', 'currently', 'pend', 'payment', 'to', 'reflect', 'in', 'bank', 'statement', '.', 'total', 'overdue', 'value', 'for', '2', 'invoices', ':', 'usd', '81,192.21', 'ra', 'payment', ':', 'usd', '267,796.76', '(', 'payment', 'value', 'is', 'higher', 'because', 'this', 'payment', 'include', 'payment', 'for', 'other', 'dfs', 'account', 'as', 'well', '.', 'there', 'are', 'total', '4', 'active', 'payer', 'code', 'uner', 'dfs', ')', 'for', 'invoice', 'with', '0', 'arrears', ',', 'we', 'have', 'received', 'ra', 'from', 'customer', 'as', 'well', 'that', 'the', 'payment', 'will', 'auto', 'tt', 'today', '12-may-17', '.', 'total', 'invoice', 'with', '0', 'arrears', ':', 'usd', '408,914.25', 'ra', 'payment', ':', 'usd', '408,914.25', 'thank', 'you', '.', 'best', 'regards', ',', 'ru', 'bee', 'procter', '&', 'gamble', 'europe', 'sa', 'singapore', 'branch', 'customer', 'service', 'asia', 'prestige', 'phone', ':', '(', '65', ')', '6622', '1473', '|', 'email', ':', 'ng.rb', '@', 'pg.com', '|', 'great', 'service', 'comes', 'from', 'the', 'hearty', 'from', ':', 'velasquez', ',', 'tyrone', 'sent', ':', 'friday', ',', 'may', '12', ',', '2017', '2:33', 'pm', 'to', ':', 'lu', ',', 'darryl', '<', 'lu.d.6', '@', 'pg.com', '>', 'cc', ':', 'le', ',', 'wenyi', '<', 'le.w', '@', 'pg.com', '>', ';', 'ng', ',', 'rubee', '<', 'ng.rb', '@', 'pg.com', '>', ';', 'onetravelretail', ',', 'ion', '<', 'onetravelretail.im', '@', 'pg.com', '>', ';', 'tan', ',', 'herwen', '<', 'tan.hw', '@', 'pg.com', '>', ';', 'low', ',', 'jevon', '<', 'low.j', '@', 'pg.com', '>', ';', 'shin', ',', 'jiwon', '<', 'shin.jw', '@', 'pg.com', '>', 'subject', ':', 're', ':', 'approval', 'needed', '-', 'release', 'travel', 'retail', 'order', '|', '2002825715', 'dfs', 'venture', 'singapore', 'pte', 'ltd', '[', 'sk-ii', ']', '13', 'may', '2017', 'why', 'is', 'payment', 'only', '267,796.76', 'if', 'the', 'overdue', '(', 'until', 'today', ')', 'is', 'more', 'than', 'that', 'tyrone', 'tyrone', 'bob', 'c.', 'velasquez', 'out', 'of', 'office', '(', 'amj', ')', ':', 'leaves', ':', 'may', '25', '/', 'jun', '9', ',', '12-16', 'public', 'holidays', ':', 'jun', '26', 'this', 'electronic', 'message', 'transmission', 'contains', 'information', 'which', 'may', 'be', 'confidential', '.', 'the', 'information', 'is', 'intended', 'for', 'the', 'use', 'of', 'the', 'individual', 'or', 'entity', 'named', 'above', '.', 'if', 'you', 'are', 'not', 'the', 'intended', 'recipient', ',', 'and', 'have', 'received', 'this', 'electronic', 'transmission', 'in', 'error', ',', 'please', 'notify', 'sender', 'then', 'delete', 'immediately', '.', 'this', 'message', 'may', 'contain', 'employee', 'personally', 'identifiable', 'information', '(', 'pii', ')', '.', 'beforesharing', 'this', 'information', 'with', 'an', 'internal', 'or', 'external', 'contact', ',', 'it', 'is', 'your', 'responsibility', 'to', 'make', 'sure', 'there', 'is', 'a', 'valid', 'business', 'need', ',', 'that', 'theinformation', 'is', 'protected', 'and', 'secure', 'during', 'transmission', ',', 'and', 'that', 'it', 'is', 'handled', 'in', 'accordance', 'with', 'the', 'company', \"'s\", 'global', 'data', 'privacy', 'policy', 'at', 'all', 'times', '.', 'from', ':', 'lu', ',', 'darryl', 'sent', ':', 'friday', ',', 'may', '12', ',', '2017', '2:27', 'pm', 'to', ':', 'velasquez', ',', 'tyrone', '<', 'velasquez.tc', '@', 'pg.com', '>', 'cc', ':', 'le', ',', 'wenyi', '<', 'le.w', '@', 'pg.com', '>', ';', 'ng', ',', 'rubee', '<', 'ng.rb', '@', 'pg.com', '>', ';', 'onetravelretail', ',', 'ion', '<', 'onetravelretail.im', '@', 'pg.com', '>', ';', 'tan', ',', 'herwen', '<', 'tan.hw', '@', 'pg.com', '>', ';', 'low', ',', 'jevon', '<', 'low.j', '@', 'pg.com', '>', ';', 'shin', ',', 'jiwon', '<', 'shin.jw', '@', 'pg.com', '>', ';', 'lu', ',', 'darryl', '<', 'lu.d.6', '@', 'pg.com', '>', 'subject', ':', 'approval', 'needed', '-', 'release', 'travel', 'retail', 'order', '|', '2002825715', 'dfs', 'venture', 'singapore', 'pte', 'ltd', '[', 'sk-ii', ']', '13', 'may', '2017', 'dear', 'tyrone', ',', 'this', 'seeks', 'for', 'your', 'approval', 'to', 'release', 'order', 'for', 'travel', 'retail', 'order', '|', '2002825715', 'dfs', 'venture', 'singapore', 'pte', 'ltd', '[', 'sk-ii', ']', '13', 'may', '2017', 'order', 'to', 'be', 'released', ':', 'usd', '65,696.00', 'reason', 'for', 'order', 'on', 'hold', ':', 'overdue', 'invoices', 'exceeded', 'credit', 'limit', ':', 'usd', 'nil', 'used', '50.57', '%', 'reason', 'for', 'cl', 'exceed', ':', 'nil', 'overdue', 'invoice', '(', 's', ')', ':', '81,192.21', 'payment', 'commitment', 'date', ':', 'payment', 'in', 'transit', '.', 'customer', 'arrange', 'payment', 'on', '11', 'may', '.', 'attached', 'ra', 'for', 'your', 'reference', 'latest', 'payscore', ':', 'fytd', '15/16', 'na', 'orders', 'on', 'hold', ':', 'f.35', 'a6p', '(', 'usd', ')', ':', 'fbl5', 'a6p', '(', 'usd', ')', ':', 'best', 'regards', ',', 'darryl', 'lu', '(', 'om', 'analyst', '-', 'customer', 'service', 'operation', ')', 'p', '&', 'g', 'europe', 'sa', 'sg', 'branch', 'email', ':', 'lu.d.6', '@', 'pg.com', 'this', 'electronic', 'message', 'transmission', 'contains', 'information', 'which', 'may', 'be', 'confidential', '.', 'the', 'information', 'is', 'intended', 'for', 'the', 'use', 'of', 'the', 'individual', 'or', 'entity', 'named', 'above', '.', 'if', 'you', 'are', 'not', 'the', 'intended', 'recipient', ',', 'and', 'have', 'received', 'this', 'electronic', 'transmission', 'in', 'error', ',', 'please', 'notify', 'sender', 'then', 'delete', 'immediately', '.']\n"
     ]
    }
   ],
   "source": [
    "# TextBlob automatically tokenizes\n",
    "# https://github.com/sloria/TextBlob/blob/dev/textblob/classifiers.py\n",
    "from textblob.tokenizers import word_tokenize\n",
    "print(list(word_tokenize(texts.data[0].lower())))"
   ]
  },
  {
   "cell_type": "code",
   "execution_count": 57,
   "metadata": {
    "collapsed": false
   },
   "outputs": [
    {
     "name": "stdout",
     "output_type": "stream",
     "text": [
      "The size of vocabulary is:  1767\n",
      "['service', 'sk2', 'june', '2ml', 'wingyan.c', 'march', 'stock', 'cream', 'pls', 'code', 'mask', 'operations', 'teo', 'ship', 'tr', 'ng.rb', 'kindly', 'us', 'operation', 'check']\n",
      "('wu david 25 ginny seek tw jun incentive ginny 25 wu david wu.da.2 wingyan.c seek tw jun incentive david reseek jun incentive due code change drop accordingly 25 ginny liang.gl.1 seek tw jun incentive ginny code change kindly reseek amended form nice day analyst service operation ginny 25 seek tw jun incentive need resend case 25 10:16 ginny liang.gl.1 wu david wu.da.2 wingyan.c seek tw jun incentive ginny pls see update incentive proceed except ww sku cant ship pls asia sku instead ean code product description unit cost total cost quantity gcas stock ctmz ever rich sk2 aa ageless beauty cream duo set rna crm 24 sk2 rna pwr rdcl age ess duo set rna ess 24 4979006052404 330ml 9.46 82248447 4979006067088 r.n.a.power radical age cream 100g 60 82248646 mask deluxe set 24 cant shipped stock 4979006067118 r.n.a.power radical age 75ml 82248670 4979006595840 mask 10pcs 82248437 4979006045635 250ml 7.83 60 82248444 4979006620344 mask 6pcs 3.87 82247494 4979006070071 160ml 200 82252508 incentive proceed ean code product description unit cost total cost quantity gcas stock 4979006049626 gentle cleanser 120g 3.23 14 82247382 4979006067118 r.n.a.power radical age 75ml 14 82248670 4979006067057 rna eye cream 15g 3.46 14 82249240 4979006052404 330ml 9.46 14 82248447 4979006067088 r.n.a.power radical age cream 100g 10 82248646 4979006595840 mask 10pcs 10 82248437 anne g. nio global tr intl operations 6712 4022 ginny 23 wu david wu.da.2 wingyan.c seek tw jun incentive david seek jun incentive check supply drop accordingly', 'Other')\n"
     ]
    }
   ],
   "source": [
    "num_training = int(len(texts.data) * 0.8)\n",
    "num_testing = len(texts.data) - num_training\n",
    "\n",
    "# first get vocabulary. We are creating a vocabulary to limit the features,\n",
    "# since each word will eventually be a feature.\n",
    "# https://docs.python.org/2/library/collections.html#collections.Counter\n",
    "all_text = ''\n",
    "for i in range(num_training):\n",
    "    all_text += texts.data[i].lower()\n",
    "\n",
    "    \n",
    "\n",
    "_stopwords = set(stopwords.words('english') + list(punctuation) + \n",
    "                 [\"pg.com\", \"from\", \"sent\", \"cc\", \"please\", \"thank\"])\n",
    "    \n",
    "# make a list of words, we need to tokenize ourselves to get this list\n",
    "from nltk.tokenize import word_tokenize\n",
    "tokens = word_tokenize(all_text)\n",
    "# stemmer.stem(token)\n",
    "tokens = [token.lower() for token in tokens if token.lower() not in _stopwords]\n",
    "\n",
    "# get the most common words\n",
    "import collections\n",
    "cnt = collections.Counter(tokens).most_common()\n",
    "vocab = [k for k,v in cnt if v >= 5 and v <= int(len(texts.data)*0.8)]\n",
    "print(\"The size of vocabulary is: \", len(vocab))\n",
    "print(vocab[:20])\n",
    "# checking in a set is much faster than checking in a list\n",
    "vocab = set(vocab)\n",
    "\n",
    "# Now create the training and testing data, filtering out words not in our vocabulary\n",
    "# This is important because each word is a feature, and you don't want too many features\n",
    "training_data = []\n",
    "for i in range(num_training):\n",
    "    tokens = word_tokenize(texts.data[i])\n",
    "    item_text = ' '.join([t.lower() for t in tokens if t.lower() in vocab])\n",
    "    training_data.append((item_text,texts.target_names[texts.target[i]]))\n",
    "testing_data = []\n",
    "for i in range(num_training,num_training+num_testing):\n",
    "    tokens = word_tokenize(texts.data[i])\n",
    "    item_text = ' '.join([t.lower() for t in tokens if t.lower() in vocab])\n",
    "    testing_data.append((item_text,texts.target_names[texts.target[i]]))\n",
    "print(training_data[0])"
   ]
  },
  {
   "cell_type": "code",
   "execution_count": 58,
   "metadata": {
    "collapsed": true
   },
   "outputs": [],
   "source": [
    "# The standard TextBlob Naive Bayes classifier re-parses the whole text of the corpus\n",
    "# for each record. This makes it slow. I fixed that and included the fix in the\n",
    "# course materials\n",
    "#from textblob.classifiers import NaiveBayesClassifier\n",
    "from our_textblob_classifiers import NaiveBayesClassifier\n",
    "\n",
    "# Train. Takes a while\n",
    "cl = NaiveBayesClassifier(training_data)"
   ]
  },
  {
   "cell_type": "code",
   "execution_count": 59,
   "metadata": {
    "collapsed": false
   },
   "outputs": [
    {
     "name": "stdout",
     "output_type": "stream",
     "text": [
      "Most Informative Features\n",
      "         contains(avoid) = True           Approv : Other  =     20.9 : 1.0\n",
      "       contains(related) = True           Approv : Other  =     20.9 : 1.0\n",
      "        contains(result) = True           Approv : Other  =     17.7 : 1.0\n",
      "        contains(direct) = True           Approv : Other  =     17.7 : 1.0\n",
      "        contains(packed) = True           Approv : Other  =     17.7 : 1.0\n",
      "       contains(matters) = True           Approv : Other  =     17.7 : 1.0\n",
      "     contains(regarding) = True           Approv : Other  =     17.7 : 1.0\n",
      "         contains(12:19) = True           Approv : Other  =     14.4 : 1.0\n",
      "         contains(click) = True           Approv : Other  =     14.4 : 1.0\n",
      "        contains(access) = True           Approv : Other  =     14.4 : 1.0\n",
      "  contains(image004.jpg) = True           Approv : Other  =     14.4 : 1.0\n",
      "        contains(placed) = True           Approv : Other  =     14.4 : 1.0\n",
      "          contains(cuts) = True           Approv : Other  =     14.4 : 1.0\n",
      "     contains(companies) = True           Approv : Other  =     14.4 : 1.0\n",
      "       contains(costing) = True           Approv : Other  =     14.4 : 1.0\n",
      "          contains(http) = True           Approv : Other  =     14.4 : 1.0\n",
      "       contains(towards) = True           Approv : Other  =     14.4 : 1.0\n",
      "          contains(7:51) = True           Approv : Other  =     14.4 : 1.0\n",
      "   contains(opportunity) = True           Approv : Other  =     14.4 : 1.0\n",
      "       contains(freight) = True           Approv : Other  =     14.4 : 1.0\n"
     ]
    }
   ],
   "source": [
    "# Shows what the features look like and what the important ones are\n",
    "# Very helpful for debugging and understanding data\n",
    "cl.show_informative_features(20)"
   ]
  },
  {
   "cell_type": "code",
   "execution_count": 60,
   "metadata": {
    "collapsed": false
   },
   "outputs": [
    {
     "name": "stdout",
     "output_type": "stream",
     "text": [
      "Accuracy:  0.7692307692307693\n"
     ]
    }
   ],
   "source": [
    "# Pretty good, baseline is 5% because we have 20 classes\n",
    "print(\"Accuracy: \", cl.accuracy(testing_data))"
   ]
  },
  {
   "cell_type": "code",
   "execution_count": 64,
   "metadata": {
    "collapsed": false
   },
   "outputs": [
    {
     "data": {
      "text/plain": [
       "'Other'"
      ]
     },
     "execution_count": 64,
     "metadata": {},
     "output_type": "execute_result"
    }
   ],
   "source": [
    "testDoc = r'C:\\Users\\Artur_Zahreba\\Desktop\\WorkFusion\\P&G\\sample email June 15\\Emails\\Q\\TEST\\RE Approval DFS HPP Qty Split - DFS OKI.txt'\n",
    "with open(testDoc, 'r') as ffile:\n",
    "    testText = ffile.read()\n",
    "# Weird thing, it doesn't work well for short sentences.\n",
    "# Maybe can't overcome prior because it was trained on longer texts.\n",
    "cl.classify(testText)"
   ]
  },
  {
   "cell_type": "code",
   "execution_count": 65,
   "metadata": {
    "collapsed": false
   },
   "outputs": [
    {
     "name": "stdout",
     "output_type": "stream",
     "text": [
      "behalf 27 ond jfm allowance processed eta analyst service operation 27 chia.ic f\n",
      "Predicted: Other, Actual: Other\n",
      "september 29 2016 ho soriano paul toll asia operations quek josephine honghupron\n",
      "Predicted: Other, Actual: Approved\n",
      "jevon june 5 le wenyi shin jiwon chan meilay dietrich wendi 2002587038 america 0\n",
      "Predicted: Other, Actual: Other\n",
      "ginny march 31 chai winnie location set apr request ship alone since theres oos \n",
      "Predicted: Approved, Actual: Other\n",
      "march 14 chai winnie soriano paul chan meilay honghupronnie ayard henri ginny lo\n",
      "Predicted: Approved, Actual: Other\n",
      "27 5:24 ond jfm allowance told stocks tomorrow tomorrow instead 27 chia.ic fw on\n",
      "Predicted: Other, Actual: Other\n",
      "shin jiwon march 31 jevon chan meilay pannese marianna retail| logistics 31 mar \n",
      "Predicted: Other, Actual: Other\n",
      "shin jiwon 6 dietrich wendi jevon chan meilay 2002708880 starboard cruise servic\n",
      "Predicted: Other, Actual: Other\n",
      "koh yueee 17 sharma shweta jevon shin jiwon chan meilay tr delay due payment tim\n",
      "Predicted: Other, Actual: Approved\n",
      "wu david 17 ginny seek apr incentive 17 wu david wu.da.2 ginny liang.gl.1 seek a\n",
      "Predicted: Other, Actual: Other\n"
     ]
    }
   ],
   "source": [
    "# We see it does better with the full text\n",
    "for t in testing_data[:10]:\n",
    "    print(t[0][:80])\n",
    "    print(\"Predicted: {}, Actual: {}\".format(cl.classify(t[0]),t[1]))"
   ]
  },
  {
   "cell_type": "markdown",
   "metadata": {},
   "source": [
    "## Exercise: play with the hyperparameters (like the vocabulary size), and see if you can improve the performance."
   ]
  },
  {
   "cell_type": "markdown",
   "metadata": {},
   "source": [
    "http://stevenloria.com/finding-important-words-in-a-document-using-tf-idf/"
   ]
  },
  {
   "cell_type": "markdown",
   "metadata": {},
   "source": [
    "* tf(word, blob) computes \"term frequency\" which is the number of times a word appears in a document blob, normalized by dividing by the total number of words in blob. We use TextBlob for breaking up the text into words and getting the word counts.\n",
    "\n",
    "* n_containing(word, bloblist) returns the number of documents containing word. A generator expression (http://www.python.org/dev/peps/pep-0289/) is passed to the sum() function.\n",
    "\n",
    "* idf(word, bloblist) computes \"inverse document frequency\" which measures how common a word is among all documents in bloblist. The more common a word is, the lower its idf. We take the ratio of the total number of documents to the number of documents containing word, then take the log of that. Add 1 to the divisor to prevent division by zero.\n",
    "\n",
    "* tfidf(word, blob, bloblist) computes the TF-IDF score. It is simply the product of  tf and idf."
   ]
  },
  {
   "cell_type": "code",
   "execution_count": 72,
   "metadata": {
    "collapsed": true
   },
   "outputs": [],
   "source": [
    "import math\n",
    "from textblob import TextBlob as tb\n",
    "\n",
    "def tf(word, blob):\n",
    "    return blob.words.count(word) / len(blob.words)\n",
    "\n",
    "def n_containing(word, bloblist):\n",
    "    return sum(1 for blob in bloblist if word in blob.words)\n",
    "\n",
    "def idf(word, bloblist):\n",
    "    return math.log(len(bloblist) / (1 + n_containing(word, bloblist)))\n",
    "\n",
    "def tfidf(word, blob, bloblist):\n",
    "    return tf(word, blob) * idf(word, bloblist)"
   ]
  },
  {
   "cell_type": "code",
   "execution_count": 74,
   "metadata": {
    "collapsed": false
   },
   "outputs": [
    {
     "data": {
      "text/plain": [
       "TextBlob(\"From: Velasquez, Tyrone\n",
       "Sent: Friday, May 12, 2017 8:53 AM\n",
       "To: Ng, RuBee; Lu, Darryl\n",
       "Cc: Le, Wenyi; onetravelretail,\n",
       "\n",
       "Ion; Tan, HerWen; Low, Jevon; Shin, Jiwon\n",
       "Subject: RE: Approval Needed - Release TRAVEL\n",
       "\n",
       "RETAIL Order | 2002825715 DFS VENTURE SINGAPORE PTE LTD [SK-II ] 13 May 2017\n",
       "\n",
       "Thanks\n",
       "\n",
       "Rubee. Approved\n",
       "\n",
       "Tyrone\n",
       "\n",
       "Tyrone\n",
       "\n",
       "Bob C. Velasquez\n",
       "\n",
       "Out\n",
       "\n",
       "of Office (AMJ):\n",
       "Leaves:\n",
       "May\n",
       "\n",
       "25 / Jun 9, 12-16\n",
       "\n",
       "Public\n",
       "\n",
       "Holidays:\n",
       "\n",
       "Jun\n",
       "\n",
       "26\n",
       "\n",
       "This electronic message transmission\n",
       "\n",
       "contains information which may be confidential. The information is intended for\n",
       "\n",
       "the use of the individual or entity named above. If you are not the intended\n",
       "\n",
       "recipient, and have received this electronic transmission in error, please\n",
       "\n",
       "notify sender then delete immediately.\n",
       "\n",
       "This message may contain Employee\n",
       "\n",
       "Personally Identifiable Information (PII).\n",
       "\n",
       "Beforesharing this information with an internal or external contact, it\n",
       "\n",
       "is your responsibility to make sure there is a valid business need,that\n",
       "\n",
       "theinformation is protected and secure during transmission, and that it\n",
       "\n",
       "is handled in accordance with the company's Global Data Privacy Policy at all\n",
       "\n",
       "times.\n",
       "\n",
       "From: Ng, RuBee \n",
       "Sent: Friday, May 12, 2017 2:48 PM\n",
       "To: Velasquez, Tyrone <velasquez.tc@pg.com>;\n",
       "\n",
       "Lu, Darryl <lu.d.6@pg.com>\n",
       "Cc: Le, Wenyi <le.w@pg.com>;\n",
       "\n",
       "onetravelretail, Ion <onetravelretail.im@pg.com>;\n",
       "\n",
       "Tan, HerWen <tan.hw@pg.com>; Low,\n",
       "\n",
       "Jevon <low.j@pg.com>; Shin, Jiwon <shin.jw@pg.com>\n",
       "Subject: RE: Approval Needed - Release TRAVEL RETAIL Order | 2002825715\n",
       "\n",
       "DFS VENTURE SINGAPORE PTE LTD [SK-II ] 13 May 2017\n",
       "\n",
       "Hi Tyrone,\n",
       "\n",
       "Good day.\n",
       "\n",
       "For overdue INV#\n",
       "4872321055 and INV# 4872321038, we have received RA from\n",
       "\n",
       "customer that payment has been auto TT on 11- May-17. Currently pend payment to\n",
       "\n",
       "reflect in bank statement.\n",
       "\n",
       "\n",
       "\n",
       "Total\n",
       "\n",
       "overdue value for 2 invoices : USD 81,192.21\n",
       "\n",
       "\n",
       "RA\n",
       "\n",
       "payment : USD 267,796.76 ( payment value is higher because\n",
       "\n",
       "this payment include payment for other DFS account as well. There are total 4\n",
       "\n",
       "active payer code uner DFS)\n",
       "\n",
       "\n",
       "For Invoice with 0\n",
       "\n",
       "arrears, we have received RA from customer as well that the payment will auto\n",
       "\n",
       "TT today 12-May-17.\n",
       "\n",
       "\n",
       "Total\n",
       "\n",
       "invoice with 0 arrears : USD\n",
       "\n",
       "408,914.25\n",
       "\n",
       "\n",
       "RA\n",
       "\n",
       "payment : USD 408,914.25\n",
       "\n",
       "\n",
       "Thank you.\n",
       "\n",
       "Best Regards,\n",
       "Ru Bee\n",
       "Procter & Gamble\n",
       "\n",
       "Europe SA Singapore Branch\n",
       "Customer Service Asia\n",
       "\n",
       "Prestige\n",
       "\n",
       "\n",
       "PHONE : (65) 6622 1473 | EMAIL: ng.rb@pg.com | \n",
       "GREAT SERVICE comes from the heartY\n",
       "\n",
       "From: Velasquez, Tyrone \n",
       "Sent: Friday, May 12, 2017 2:33 PM\n",
       "To: Lu, Darryl <lu.d.6@pg.com>\n",
       "Cc: Le, Wenyi <le.w@pg.com>; Ng,\n",
       "\n",
       "RuBee <ng.rb@pg.com>; onetravelretail,\n",
       "\n",
       "Ion <onetravelretail.im@pg.com>;\n",
       "\n",
       "Tan, HerWen <tan.hw@pg.com>; Low,\n",
       "\n",
       "Jevon <low.j@pg.com>; Shin, Jiwon <shin.jw@pg.com>\n",
       "Subject: RE: Approval Needed - Release TRAVEL RETAIL Order | 2002825715\n",
       "\n",
       "DFS VENTURE SINGAPORE PTE LTD [SK-II ] 13 May 2017\n",
       "\n",
       "Why\n",
       "\n",
       "is payment only 267,796.76 if the overdue (until today) is more than\n",
       "\n",
       "that\n",
       "\n",
       "\n",
       "\n",
       "Tyrone\n",
       "\n",
       "Tyrone\n",
       "\n",
       "Bob C. Velasquez\n",
       "\n",
       "Out\n",
       "\n",
       "of Office (AMJ):\n",
       "Leaves:\n",
       "May\n",
       "\n",
       "25 / Jun 9, 12-16\n",
       "\n",
       "Public\n",
       "\n",
       "Holidays:\n",
       "\n",
       "Jun\n",
       "\n",
       "26\n",
       "\n",
       "This electronic message transmission\n",
       "\n",
       "contains information which may be confidential. The information is intended for\n",
       "\n",
       "the use of the individual or entity named above. If you are not the intended\n",
       "\n",
       "recipient, and have received this electronic transmission in error, please\n",
       "\n",
       "notify sender then delete immediately.\n",
       "\n",
       "This message may contain Employee\n",
       "\n",
       "Personally Identifiable Information (PII).\n",
       "\n",
       "Beforesharing this information with an internal or external contact, it\n",
       "\n",
       "is your responsibility to make sure there is a valid business need,that\n",
       "\n",
       "theinformation is protected and secure during transmission, and that it\n",
       "\n",
       "is handled in accordance with the company's Global Data Privacy Policy at all\n",
       "\n",
       "times.\n",
       "\n",
       "From: Lu, Darryl \n",
       "Sent: Friday, May 12, 2017 2:27 PM\n",
       "To: Velasquez, Tyrone <velasquez.tc@pg.com>\n",
       "Cc: Le, Wenyi <le.w@pg.com>; Ng,\n",
       "\n",
       "RuBee <ng.rb@pg.com>; onetravelretail,\n",
       "\n",
       "Ion <onetravelretail.im@pg.com>;\n",
       "\n",
       "Tan, HerWen <tan.hw@pg.com>; Low,\n",
       "\n",
       "Jevon <low.j@pg.com>; Shin, Jiwon <shin.jw@pg.com>; Lu, Darryl <lu.d.6@pg.com>\n",
       "Subject: Approval Needed - Release TRAVEL RETAIL Order | 2002825715 DFS\n",
       "\n",
       "VENTURE SINGAPORE PTE LTD [SK-II ] 13 May 2017\n",
       "\n",
       "Dear Tyrone,\n",
       "This seeks for your approval\n",
       "\n",
       "to release order for TRAVEL RETAIL Order | 2002825715 DFS VENTURE\n",
       "\n",
       "SINGAPORE PTE LTD [SK-II ] 13 May 2017\n",
       "\n",
       "Order to be\n",
       "\n",
       "  released\n",
       "\n",
       "  :\n",
       "USD\n",
       "65,696.00\n",
       "Reason for order on\n",
       "\n",
       "  hold : \n",
       "Overdue Invoices\n",
       "Exceeded Credit\n",
       "\n",
       "  Limit\n",
       "\n",
       "  : \n",
       "USD\n",
       "Nil\n",
       "Used\n",
       "50.57 %\n",
       "Reason for CL\n",
       "\n",
       "  exceed\n",
       "\n",
       "  : \n",
       "Nil\n",
       "Overdue\n",
       "\n",
       "  invoice(s)\n",
       "\n",
       "  : \n",
       "81,192.21\n",
       "Payment commitment\n",
       "\n",
       "  date :\n",
       "Payment in transit. Customer\n",
       "\n",
       "  arrange payment on 11 May. Attached RA for your reference\n",
       "Latest\n",
       "\n",
       "  Payscore\n",
       "\n",
       "  :\n",
       "\n",
       "FYTD 15/16\n",
       "NA\n",
       "\n",
       "\n",
       "Orders on Hold: \n",
       "\n",
       "F.35  A6P (USD):\n",
       "\n",
       "FBL5  A6P (USD) : \n",
       "\n",
       "\n",
       "\n",
       "\n",
       "Best\n",
       "\n",
       "Regards, \n",
       "Darryl\n",
       "\n",
       "Lu\n",
       "\n",
       "(OM\n",
       "\n",
       "Analyst - Customer Service Operation)\n",
       "P&G\n",
       "\n",
       "Europe SA SG branch\n",
       "Email: lu.d.6@pg.com\n",
       "This electronic message transmission contains information which may be\n",
       "\n",
       "confidential. The information is intended for the use of the individual or\n",
       "\n",
       "entity named above. If you are not the intended recipient, and have received\n",
       "\n",
       "this electronic transmission in error, please notify sender then delete\n",
       "\n",
       "immediately.\")"
      ]
     },
     "execution_count": 74,
     "metadata": {},
     "output_type": "execute_result"
    }
   ],
   "source": [
    "bloblist = list(map(lambda t: tb(t), texts.data))\n",
    "bloblist[0]"
   ]
  },
  {
   "cell_type": "markdown",
   "metadata": {},
   "source": [
    "For each document, we store the TF-IDF scores in a dictionary scores mapping  word => score using a dict comprehension (http://www.python.org/dev/peps/pep-0274/). We then sort the words by their scores and output the top 3 words."
   ]
  },
  {
   "cell_type": "code",
   "execution_count": 75,
   "metadata": {
    "collapsed": false
   },
   "outputs": [
    {
     "name": "stdout",
     "output_type": "stream",
     "text": [
      "Top words in document 1\n",
      "\tWord: Tyrone, TF-IDF: 0.04826\n",
      "\tWord: Information, TF-IDF: 0.04051\n",
      "\tWord: payment, TF-IDF: 0.03122\n",
      "Top words in document 2\n",
      "\tWord: OK, TF-IDF: 0.03388\n",
      "\tWord: CC, TF-IDF: 0.03069\n",
      "\tWord: 5.38, TF-IDF: 0.03021\n",
      "Top words in document 3\n",
      "\tWord: King, TF-IDF: 0.05932\n",
      "\tWord: 30, TF-IDF: 0.05792\n",
      "\tWord: 2002825408, TF-IDF: 0.05545\n",
      "Top words in document 4\n",
      "\tWord: tollgroup.com, TF-IDF: 0.05079\n",
      "\tWord: FOR, TF-IDF: 0.04265\n",
      "\tWord: REPORT, TF-IDF: 0.04183\n",
      "Top words in document 5\n",
      "\tWord: HTB, TF-IDF: 0.15217\n",
      "\tWord: G0314-PCA2017057, TF-IDF: 0.07609\n",
      "\tWord: Sanya, TF-IDF: 0.07227\n",
      "Top words in document 6\n",
      "\tWord: OK, TF-IDF: 0.09075\n",
      "\tWord: Ok, TF-IDF: 0.07614\n",
      "\tWord: Facial, TF-IDF: 0.07401\n",
      "Top words in document 7\n",
      "\tWord: THE, TF-IDF: 0.06351\n",
      "\tWord: PG.COM, TF-IDF: 0.06189\n",
      "\tWord: JAS, TF-IDF: 0.05399\n",
      "Top words in document 8\n",
      "\tWord: DELUXE, TF-IDF: 0.04347\n",
      "\tWord: Clearance, TF-IDF: 0.04211\n",
      "\tWord: clearance, TF-IDF: 0.03695\n",
      "Top words in document 9\n",
      "\tWord: TO, TF-IDF: 0.0759\n",
      "\tWord: DDF, TF-IDF: 0.05534\n",
      "\tWord: Incentive, TF-IDF: 0.05139\n",
      "Top words in document 10\n",
      "\tWord: allowance, TF-IDF: 0.02675\n",
      "\tWord: OND, TF-IDF: 0.02661\n",
      "\tWord: JFM, TF-IDF: 0.02588\n",
      "Top words in document 11\n",
      "\tWord: Emirates, TF-IDF: 0.04641\n",
      "\tWord: x2, TF-IDF: 0.04396\n",
      "\tWord: FROM, TF-IDF: 0.03784\n",
      "Top words in document 12\n",
      "\tWord: Split, TF-IDF: 0.04144\n",
      "\tWord: OKI, TF-IDF: 0.03763\n",
      "\tWord: split, TF-IDF: 0.03763\n",
      "Top words in document 13\n",
      "\tWord: Message, TF-IDF: 0.04055\n",
      "\tWord: tidaras, TF-IDF: 0.03331\n",
      "\tWord: Pholsith, TF-IDF: 0.03331\n",
      "Top words in document 14\n",
      "\tWord: Ultimate, TF-IDF: 0.07941\n",
      "\tWord: Perfecting, TF-IDF: 0.07941\n",
      "\tWord: LXP, TF-IDF: 0.07393\n",
      "Top words in document 15\n",
      "\tWord: Yueee, TF-IDF: 0.04755\n",
      "\tWord: 2002825416, TF-IDF: 0.04287\n",
      "\tWord: HKCDF, TF-IDF: 0.04287\n",
      "Top words in document 16\n",
      "\tWord: 2002825401, TF-IDF: 0.05218\n",
      "\tWord: MARKETING, TF-IDF: 0.05218\n",
      "\tWord: MANAGEMENT, TF-IDF: 0.05218\n",
      "Top words in document 17\n",
      "\tWord: arvo, TF-IDF: 0.06514\n",
      "\tWord: Arvo, TF-IDF: 0.05716\n",
      "\tWord: Miniatures, TF-IDF: 0.04043\n",
      "Top words in document 18\n",
      "\tWord: PPD, TF-IDF: 0.06192\n",
      "\tWord: Rubee, TF-IDF: 0.06192\n",
      "\tWord: SERVICE, TF-IDF: 0.05163\n",
      "Top words in document 19\n",
      "\tWord: Ageless, TF-IDF: 0.06243\n",
      "\tWord: AGELESS, TF-IDF: 0.06243\n",
      "\tWord: BEAUTY, TF-IDF: 0.06243\n",
      "Top words in document 20\n",
      "\tWord: PG.COM, TF-IDF: 0.07198\n",
      "\tWord: THE, TF-IDF: 0.07013\n",
      "\tWord: ISGHK, TF-IDF: 0.03778\n",
      "Top words in document 21\n",
      "\tWord: 2002825415, TF-IDF: 0.03884\n",
      "\tWord: REGENT, TF-IDF: 0.03884\n",
      "\tWord: image002.png, TF-IDF: 0.03884\n",
      "Top words in document 22\n"
     ]
    },
    {
     "ename": "KeyboardInterrupt",
     "evalue": "",
     "output_type": "error",
     "traceback": [
      "\u001b[1;31m---------------------------------------------------------------------------\u001b[0m",
      "\u001b[1;31mKeyboardInterrupt\u001b[0m                         Traceback (most recent call last)",
      "\u001b[1;32m<ipython-input-75-cef27f7281a0>\u001b[0m in \u001b[0;36m<module>\u001b[1;34m()\u001b[0m\n\u001b[0;32m      1\u001b[0m \u001b[1;32mfor\u001b[0m \u001b[0mi\u001b[0m\u001b[1;33m,\u001b[0m \u001b[0mblob\u001b[0m \u001b[1;32min\u001b[0m \u001b[0menumerate\u001b[0m\u001b[1;33m(\u001b[0m\u001b[0mbloblist\u001b[0m\u001b[1;33m)\u001b[0m\u001b[1;33m:\u001b[0m\u001b[1;33m\u001b[0m\u001b[0m\n\u001b[0;32m      2\u001b[0m     \u001b[0mprint\u001b[0m\u001b[1;33m(\u001b[0m\u001b[1;34m\"Top words in document {}\"\u001b[0m\u001b[1;33m.\u001b[0m\u001b[0mformat\u001b[0m\u001b[1;33m(\u001b[0m\u001b[0mi\u001b[0m \u001b[1;33m+\u001b[0m \u001b[1;36m1\u001b[0m\u001b[1;33m)\u001b[0m\u001b[1;33m)\u001b[0m\u001b[1;33m\u001b[0m\u001b[0m\n\u001b[1;32m----> 3\u001b[1;33m     \u001b[0mscores\u001b[0m \u001b[1;33m=\u001b[0m \u001b[1;33m{\u001b[0m\u001b[0mword\u001b[0m\u001b[1;33m:\u001b[0m \u001b[0mtfidf\u001b[0m\u001b[1;33m(\u001b[0m\u001b[0mword\u001b[0m\u001b[1;33m,\u001b[0m \u001b[0mblob\u001b[0m\u001b[1;33m,\u001b[0m \u001b[0mbloblist\u001b[0m\u001b[1;33m)\u001b[0m \u001b[1;32mfor\u001b[0m \u001b[0mword\u001b[0m \u001b[1;32min\u001b[0m \u001b[0mblob\u001b[0m\u001b[1;33m.\u001b[0m\u001b[0mwords\u001b[0m\u001b[1;33m}\u001b[0m\u001b[1;33m\u001b[0m\u001b[0m\n\u001b[0m\u001b[0;32m      4\u001b[0m     \u001b[0msorted_words\u001b[0m \u001b[1;33m=\u001b[0m \u001b[0msorted\u001b[0m\u001b[1;33m(\u001b[0m\u001b[0mscores\u001b[0m\u001b[1;33m.\u001b[0m\u001b[0mitems\u001b[0m\u001b[1;33m(\u001b[0m\u001b[1;33m)\u001b[0m\u001b[1;33m,\u001b[0m \u001b[0mkey\u001b[0m\u001b[1;33m=\u001b[0m\u001b[1;32mlambda\u001b[0m \u001b[0mx\u001b[0m\u001b[1;33m:\u001b[0m \u001b[0mx\u001b[0m\u001b[1;33m[\u001b[0m\u001b[1;36m1\u001b[0m\u001b[1;33m]\u001b[0m\u001b[1;33m,\u001b[0m \u001b[0mreverse\u001b[0m\u001b[1;33m=\u001b[0m\u001b[1;32mTrue\u001b[0m\u001b[1;33m)\u001b[0m\u001b[1;33m\u001b[0m\u001b[0m\n\u001b[0;32m      5\u001b[0m     \u001b[1;32mfor\u001b[0m \u001b[0mword\u001b[0m\u001b[1;33m,\u001b[0m \u001b[0mscore\u001b[0m \u001b[1;32min\u001b[0m \u001b[0msorted_words\u001b[0m\u001b[1;33m[\u001b[0m\u001b[1;33m:\u001b[0m\u001b[1;36m3\u001b[0m\u001b[1;33m]\u001b[0m\u001b[1;33m:\u001b[0m\u001b[1;33m\u001b[0m\u001b[0m\n",
      "\u001b[1;32m<ipython-input-75-cef27f7281a0>\u001b[0m in \u001b[0;36m<dictcomp>\u001b[1;34m(.0)\u001b[0m\n\u001b[0;32m      1\u001b[0m \u001b[1;32mfor\u001b[0m \u001b[0mi\u001b[0m\u001b[1;33m,\u001b[0m \u001b[0mblob\u001b[0m \u001b[1;32min\u001b[0m \u001b[0menumerate\u001b[0m\u001b[1;33m(\u001b[0m\u001b[0mbloblist\u001b[0m\u001b[1;33m)\u001b[0m\u001b[1;33m:\u001b[0m\u001b[1;33m\u001b[0m\u001b[0m\n\u001b[0;32m      2\u001b[0m     \u001b[0mprint\u001b[0m\u001b[1;33m(\u001b[0m\u001b[1;34m\"Top words in document {}\"\u001b[0m\u001b[1;33m.\u001b[0m\u001b[0mformat\u001b[0m\u001b[1;33m(\u001b[0m\u001b[0mi\u001b[0m \u001b[1;33m+\u001b[0m \u001b[1;36m1\u001b[0m\u001b[1;33m)\u001b[0m\u001b[1;33m)\u001b[0m\u001b[1;33m\u001b[0m\u001b[0m\n\u001b[1;32m----> 3\u001b[1;33m     \u001b[0mscores\u001b[0m \u001b[1;33m=\u001b[0m \u001b[1;33m{\u001b[0m\u001b[0mword\u001b[0m\u001b[1;33m:\u001b[0m \u001b[0mtfidf\u001b[0m\u001b[1;33m(\u001b[0m\u001b[0mword\u001b[0m\u001b[1;33m,\u001b[0m \u001b[0mblob\u001b[0m\u001b[1;33m,\u001b[0m \u001b[0mbloblist\u001b[0m\u001b[1;33m)\u001b[0m \u001b[1;32mfor\u001b[0m \u001b[0mword\u001b[0m \u001b[1;32min\u001b[0m \u001b[0mblob\u001b[0m\u001b[1;33m.\u001b[0m\u001b[0mwords\u001b[0m\u001b[1;33m}\u001b[0m\u001b[1;33m\u001b[0m\u001b[0m\n\u001b[0m\u001b[0;32m      4\u001b[0m     \u001b[0msorted_words\u001b[0m \u001b[1;33m=\u001b[0m \u001b[0msorted\u001b[0m\u001b[1;33m(\u001b[0m\u001b[0mscores\u001b[0m\u001b[1;33m.\u001b[0m\u001b[0mitems\u001b[0m\u001b[1;33m(\u001b[0m\u001b[1;33m)\u001b[0m\u001b[1;33m,\u001b[0m \u001b[0mkey\u001b[0m\u001b[1;33m=\u001b[0m\u001b[1;32mlambda\u001b[0m \u001b[0mx\u001b[0m\u001b[1;33m:\u001b[0m \u001b[0mx\u001b[0m\u001b[1;33m[\u001b[0m\u001b[1;36m1\u001b[0m\u001b[1;33m]\u001b[0m\u001b[1;33m,\u001b[0m \u001b[0mreverse\u001b[0m\u001b[1;33m=\u001b[0m\u001b[1;32mTrue\u001b[0m\u001b[1;33m)\u001b[0m\u001b[1;33m\u001b[0m\u001b[0m\n\u001b[0;32m      5\u001b[0m     \u001b[1;32mfor\u001b[0m \u001b[0mword\u001b[0m\u001b[1;33m,\u001b[0m \u001b[0mscore\u001b[0m \u001b[1;32min\u001b[0m \u001b[0msorted_words\u001b[0m\u001b[1;33m[\u001b[0m\u001b[1;33m:\u001b[0m\u001b[1;36m3\u001b[0m\u001b[1;33m]\u001b[0m\u001b[1;33m:\u001b[0m\u001b[1;33m\u001b[0m\u001b[0m\n",
      "\u001b[1;32m<ipython-input-72-259047f705ba>\u001b[0m in \u001b[0;36mtfidf\u001b[1;34m(word, blob, bloblist)\u001b[0m\n\u001b[0;32m     12\u001b[0m \u001b[1;33m\u001b[0m\u001b[0m\n\u001b[0;32m     13\u001b[0m \u001b[1;32mdef\u001b[0m \u001b[0mtfidf\u001b[0m\u001b[1;33m(\u001b[0m\u001b[0mword\u001b[0m\u001b[1;33m,\u001b[0m \u001b[0mblob\u001b[0m\u001b[1;33m,\u001b[0m \u001b[0mbloblist\u001b[0m\u001b[1;33m)\u001b[0m\u001b[1;33m:\u001b[0m\u001b[1;33m\u001b[0m\u001b[0m\n\u001b[1;32m---> 14\u001b[1;33m     \u001b[1;32mreturn\u001b[0m \u001b[0mtf\u001b[0m\u001b[1;33m(\u001b[0m\u001b[0mword\u001b[0m\u001b[1;33m,\u001b[0m \u001b[0mblob\u001b[0m\u001b[1;33m)\u001b[0m \u001b[1;33m*\u001b[0m \u001b[0midf\u001b[0m\u001b[1;33m(\u001b[0m\u001b[0mword\u001b[0m\u001b[1;33m,\u001b[0m \u001b[0mbloblist\u001b[0m\u001b[1;33m)\u001b[0m\u001b[1;33m\u001b[0m\u001b[0m\n\u001b[0m",
      "\u001b[1;32m<ipython-input-72-259047f705ba>\u001b[0m in \u001b[0;36midf\u001b[1;34m(word, bloblist)\u001b[0m\n\u001b[0;32m      9\u001b[0m \u001b[1;33m\u001b[0m\u001b[0m\n\u001b[0;32m     10\u001b[0m \u001b[1;32mdef\u001b[0m \u001b[0midf\u001b[0m\u001b[1;33m(\u001b[0m\u001b[0mword\u001b[0m\u001b[1;33m,\u001b[0m \u001b[0mbloblist\u001b[0m\u001b[1;33m)\u001b[0m\u001b[1;33m:\u001b[0m\u001b[1;33m\u001b[0m\u001b[0m\n\u001b[1;32m---> 11\u001b[1;33m     \u001b[1;32mreturn\u001b[0m \u001b[0mmath\u001b[0m\u001b[1;33m.\u001b[0m\u001b[0mlog\u001b[0m\u001b[1;33m(\u001b[0m\u001b[0mlen\u001b[0m\u001b[1;33m(\u001b[0m\u001b[0mbloblist\u001b[0m\u001b[1;33m)\u001b[0m \u001b[1;33m/\u001b[0m \u001b[1;33m(\u001b[0m\u001b[1;36m1\u001b[0m \u001b[1;33m+\u001b[0m \u001b[0mn_containing\u001b[0m\u001b[1;33m(\u001b[0m\u001b[0mword\u001b[0m\u001b[1;33m,\u001b[0m \u001b[0mbloblist\u001b[0m\u001b[1;33m)\u001b[0m\u001b[1;33m)\u001b[0m\u001b[1;33m)\u001b[0m\u001b[1;33m\u001b[0m\u001b[0m\n\u001b[0m\u001b[0;32m     12\u001b[0m \u001b[1;33m\u001b[0m\u001b[0m\n\u001b[0;32m     13\u001b[0m \u001b[1;32mdef\u001b[0m \u001b[0mtfidf\u001b[0m\u001b[1;33m(\u001b[0m\u001b[0mword\u001b[0m\u001b[1;33m,\u001b[0m \u001b[0mblob\u001b[0m\u001b[1;33m,\u001b[0m \u001b[0mbloblist\u001b[0m\u001b[1;33m)\u001b[0m\u001b[1;33m:\u001b[0m\u001b[1;33m\u001b[0m\u001b[0m\n",
      "\u001b[1;32m<ipython-input-72-259047f705ba>\u001b[0m in \u001b[0;36mn_containing\u001b[1;34m(word, bloblist)\u001b[0m\n\u001b[0;32m      6\u001b[0m \u001b[1;33m\u001b[0m\u001b[0m\n\u001b[0;32m      7\u001b[0m \u001b[1;32mdef\u001b[0m \u001b[0mn_containing\u001b[0m\u001b[1;33m(\u001b[0m\u001b[0mword\u001b[0m\u001b[1;33m,\u001b[0m \u001b[0mbloblist\u001b[0m\u001b[1;33m)\u001b[0m\u001b[1;33m:\u001b[0m\u001b[1;33m\u001b[0m\u001b[0m\n\u001b[1;32m----> 8\u001b[1;33m     \u001b[1;32mreturn\u001b[0m \u001b[0msum\u001b[0m\u001b[1;33m(\u001b[0m\u001b[1;36m1\u001b[0m \u001b[1;32mfor\u001b[0m \u001b[0mblob\u001b[0m \u001b[1;32min\u001b[0m \u001b[0mbloblist\u001b[0m \u001b[1;32mif\u001b[0m \u001b[0mword\u001b[0m \u001b[1;32min\u001b[0m \u001b[0mblob\u001b[0m\u001b[1;33m.\u001b[0m\u001b[0mwords\u001b[0m\u001b[1;33m)\u001b[0m\u001b[1;33m\u001b[0m\u001b[0m\n\u001b[0m\u001b[0;32m      9\u001b[0m \u001b[1;33m\u001b[0m\u001b[0m\n\u001b[0;32m     10\u001b[0m \u001b[1;32mdef\u001b[0m \u001b[0midf\u001b[0m\u001b[1;33m(\u001b[0m\u001b[0mword\u001b[0m\u001b[1;33m,\u001b[0m \u001b[0mbloblist\u001b[0m\u001b[1;33m)\u001b[0m\u001b[1;33m:\u001b[0m\u001b[1;33m\u001b[0m\u001b[0m\n",
      "\u001b[1;32m<ipython-input-72-259047f705ba>\u001b[0m in \u001b[0;36m<genexpr>\u001b[1;34m(.0)\u001b[0m\n\u001b[0;32m      6\u001b[0m \u001b[1;33m\u001b[0m\u001b[0m\n\u001b[0;32m      7\u001b[0m \u001b[1;32mdef\u001b[0m \u001b[0mn_containing\u001b[0m\u001b[1;33m(\u001b[0m\u001b[0mword\u001b[0m\u001b[1;33m,\u001b[0m \u001b[0mbloblist\u001b[0m\u001b[1;33m)\u001b[0m\u001b[1;33m:\u001b[0m\u001b[1;33m\u001b[0m\u001b[0m\n\u001b[1;32m----> 8\u001b[1;33m     \u001b[1;32mreturn\u001b[0m \u001b[0msum\u001b[0m\u001b[1;33m(\u001b[0m\u001b[1;36m1\u001b[0m \u001b[1;32mfor\u001b[0m \u001b[0mblob\u001b[0m \u001b[1;32min\u001b[0m \u001b[0mbloblist\u001b[0m \u001b[1;32mif\u001b[0m \u001b[0mword\u001b[0m \u001b[1;32min\u001b[0m \u001b[0mblob\u001b[0m\u001b[1;33m.\u001b[0m\u001b[0mwords\u001b[0m\u001b[1;33m)\u001b[0m\u001b[1;33m\u001b[0m\u001b[0m\n\u001b[0m\u001b[0;32m      9\u001b[0m \u001b[1;33m\u001b[0m\u001b[0m\n\u001b[0;32m     10\u001b[0m \u001b[1;32mdef\u001b[0m \u001b[0midf\u001b[0m\u001b[1;33m(\u001b[0m\u001b[0mword\u001b[0m\u001b[1;33m,\u001b[0m \u001b[0mbloblist\u001b[0m\u001b[1;33m)\u001b[0m\u001b[1;33m:\u001b[0m\u001b[1;33m\u001b[0m\u001b[0m\n",
      "\u001b[1;31mKeyboardInterrupt\u001b[0m: "
     ]
    }
   ],
   "source": [
    "for i, blob in enumerate(bloblist):\n",
    "    print(\"Top words in document {}\".format(i + 1))\n",
    "    scores = {word: tfidf(word, blob, bloblist) for word in blob.words}\n",
    "    sorted_words = sorted(scores.items(), key=lambda x: x[1], reverse=True)\n",
    "    for word, score in sorted_words[:3]:\n",
    "        print(\"\\tWord: {}, TF-IDF: {}\".format(word, round(score, 5)))"
   ]
  },
  {
   "cell_type": "code",
   "execution_count": null,
   "metadata": {
    "collapsed": true
   },
   "outputs": [],
   "source": []
  }
 ],
 "metadata": {
  "kernelspec": {
   "display_name": "Python 3",
   "language": "python",
   "name": "python3"
  },
  "language_info": {
   "codemirror_mode": {
    "name": "ipython",
    "version": 3
   },
   "file_extension": ".py",
   "mimetype": "text/x-python",
   "name": "python",
   "nbconvert_exporter": "python",
   "pygments_lexer": "ipython3",
   "version": "3.6.1"
  }
 },
 "nbformat": 4,
 "nbformat_minor": 1
}
